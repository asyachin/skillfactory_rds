#%%

import pandas as pd
import pandas_profiling
import matplotlib.pyplot as plt
import seaborn as sns
from itertools import combinations
from IPython.core.display import display
from scipy.stats import ttest_ind

pd.set_option('display.max_rows', 50) # показывать больше строк
pd.set_option('display.max_columns', 50) # показывать больше колонок
df = pd.read_csv('https://raw.githubusercontent.com/asyachin/skillfactory_rds/master/Source_Data/stud_math.xls', na_values='')
df.info()
pandas_profiling.ProfileReport(df)


#%%

pfr = pandas_profiling.ProfileReport
display(pfr)

#%%


