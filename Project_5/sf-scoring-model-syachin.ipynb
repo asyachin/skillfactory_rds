{
 "cells": [
  {
   "cell_type": "markdown",
   "id": "6924eb2b",
   "metadata": {
    "execution": {
     "iopub.execute_input": "2021-07-13T14:03:28.504586Z",
     "iopub.status.busy": "2021-07-13T14:03:28.503919Z",
     "iopub.status.idle": "2021-07-13T14:03:28.516816Z",
     "shell.execute_reply": "2021-07-13T14:03:28.515793Z",
     "shell.execute_reply.started": "2021-07-13T14:03:28.504496Z"
    },
    "papermill": {
     "duration": 0.093619,
     "end_time": "2021-07-13T17:15:06.308246",
     "exception": false,
     "start_time": "2021-07-13T17:15:06.214627",
     "status": "completed"
    },
    "tags": []
   },
   "source": [
    "# Проект 5. Компьютер говорит «Нет»\n",
    "## Цель проекта: Разаработать скоринговую модель предсказания возможности дефолта клиетнов банка\n",
    "\n",
    "## Задачи:\n",
    "* Подготовить датасет к анализу EDA\n",
    "* Выявить зависимости между отдельными признаками датасета\n",
    "* Выявить вес наиболее значимых признаков\n",
    "* создать модель и обучить ее на обучающем датасете\n",
    "* По метрикам качества оценить качество модели\n"
   ]
  },
  {
   "cell_type": "markdown",
   "id": "957a6654",
   "metadata": {
    "papermill": {
     "duration": 0.090096,
     "end_time": "2021-07-13T17:15:06.491150",
     "exception": false,
     "start_time": "2021-07-13T17:15:06.401054",
     "status": "completed"
    },
    "tags": []
   },
   "source": [
    "## import"
   ]
  },
  {
   "cell_type": "code",
   "execution_count": 1,
   "id": "7a623745",
   "metadata": {
    "execution": {
     "iopub.execute_input": "2021-07-13T17:15:06.676015Z",
     "iopub.status.busy": "2021-07-13T17:15:06.674841Z",
     "iopub.status.idle": "2021-07-13T17:15:09.603345Z",
     "shell.execute_reply": "2021-07-13T17:15:09.602638Z",
     "shell.execute_reply.started": "2021-07-13T17:12:23.882532Z"
    },
    "papermill": {
     "duration": 3.022243,
     "end_time": "2021-07-13T17:15:09.603509",
     "exception": false,
     "start_time": "2021-07-13T17:15:06.581266",
     "status": "completed"
    },
    "tags": []
   },
   "outputs": [],
   "source": [
    "import numpy as np\n",
    "import pandas as pd\n",
    "import datetime as dt\n",
    "from datetime import timedelta\n",
    "import matplotlib.pyplot as plt\n",
    "import seaborn as sns\n",
    "from pandas import Series\n",
    "import matplotlib.pyplot as plt\n",
    "import seaborn as sns\n",
    "from sklearn.feature_selection import f_classif, mutual_info_classif\n",
    "from sklearn.preprocessing import LabelEncoder, OneHotEncoder, StandardScaler\n",
    "from sklearn.model_selection import train_test_split, StratifiedShuffleSplit\n",
    "from sklearn.linear_model import LogisticRegression\n",
    "from sklearn.ensemble import RandomForestClassifier\n",
    "from sklearn.neighbors import KNeighborsClassifier\n",
    "from sklearn.metrics import confusion_matrix,classification_report\n",
    "from sklearn.metrics import auc, roc_auc_score, roc_curve, multilabel_confusion_matrix\n",
    "import pandas_profiling\n",
    "from sklearn.preprocessing import Normalizer, normalize\n",
    "from collections import Counter\n",
    "from sklearn import metrics\n",
    "from sklearn.model_selection import KFold\n",
    "from sklearn.model_selection import GridSearchCV\n",
    "\n",
    "import warnings"
   ]
  },
  {
   "cell_type": "code",
   "execution_count": 2,
   "id": "12f88ba0",
   "metadata": {
    "execution": {
     "iopub.execute_input": "2021-07-13T17:15:09.792574Z",
     "iopub.status.busy": "2021-07-13T17:15:09.791853Z",
     "iopub.status.idle": "2021-07-13T17:15:09.795446Z",
     "shell.execute_reply": "2021-07-13T17:15:09.794906Z",
     "shell.execute_reply.started": "2021-07-13T17:12:24.412078Z"
    },
    "papermill": {
     "duration": 0.102369,
     "end_time": "2021-07-13T17:15:09.795626",
     "exception": false,
     "start_time": "2021-07-13T17:15:09.693257",
     "status": "completed"
    },
    "tags": []
   },
   "outputs": [],
   "source": [
    "RANDOM_SEED = 42"
   ]
  },
  {
   "cell_type": "code",
   "execution_count": 3,
   "id": "3f259c40",
   "metadata": {
    "execution": {
     "iopub.execute_input": "2021-07-13T17:15:09.997421Z",
     "iopub.status.busy": "2021-07-13T17:15:09.981015Z",
     "iopub.status.idle": "2021-07-13T17:15:12.989264Z",
     "shell.execute_reply": "2021-07-13T17:15:12.989800Z",
     "shell.execute_reply.started": "2021-07-13T17:12:24.930577Z"
    },
    "papermill": {
     "duration": 3.104256,
     "end_time": "2021-07-13T17:15:12.989999",
     "exception": false,
     "start_time": "2021-07-13T17:15:09.885743",
     "status": "completed"
    },
    "tags": []
   },
   "outputs": [
    {
     "name": "stderr",
     "output_type": "stream",
     "text": [
      "'pip' is not recognized as an internal or external command,\n",
      "operable program or batch file.\n"
     ]
    }
   ],
   "source": [
    "# зафиксируем версию пакетов, чтобы эксперименты были воспроизводимы:\n",
    "!pip freeze > requirements.txt"
   ]
  },
  {
   "cell_type": "markdown",
   "id": "7314828a",
   "metadata": {
    "execution": {
     "iopub.execute_input": "2021-07-13T14:11:25.730931Z",
     "iopub.status.busy": "2021-07-13T14:11:25.730511Z",
     "iopub.status.idle": "2021-07-13T14:11:25.736132Z",
     "shell.execute_reply": "2021-07-13T14:11:25.73506Z",
     "shell.execute_reply.started": "2021-07-13T14:11:25.730893Z"
    },
    "papermill": {
     "duration": 0.093049,
     "end_time": "2021-07-13T17:15:13.181724",
     "exception": false,
     "start_time": "2021-07-13T17:15:13.088675",
     "status": "completed"
    },
    "tags": []
   },
   "source": [
    "## DATA"
   ]
  },
  {
   "cell_type": "code",
   "execution_count": 5,
   "id": "d059c62c",
   "metadata": {
    "execution": {
     "iopub.execute_input": "2021-07-13T17:15:13.378590Z",
     "iopub.status.busy": "2021-07-13T17:15:13.377897Z",
     "iopub.status.idle": "2021-07-13T17:15:13.381249Z",
     "shell.execute_reply": "2021-07-13T17:15:13.380740Z",
     "shell.execute_reply.started": "2021-07-13T17:12:26.913531Z"
    },
    "papermill": {
     "duration": 0.105208,
     "end_time": "2021-07-13T17:15:13.381386",
     "exception": false,
     "start_time": "2021-07-13T17:15:13.276178",
     "status": "completed"
    },
    "tags": []
   },
   "outputs": [],
   "source": [
    "DATASETS_LOC = './data/'"
   ]
  },
  {
   "cell_type": "code",
   "execution_count": 6,
   "id": "469354f0",
   "metadata": {
    "execution": {
     "iopub.execute_input": "2021-07-13T17:15:13.567061Z",
     "iopub.status.busy": "2021-07-13T17:15:13.566379Z",
     "iopub.status.idle": "2021-07-13T17:15:13.569926Z",
     "shell.execute_reply": "2021-07-13T17:15:13.569247Z",
     "shell.execute_reply.started": "2021-07-13T17:12:26.921034Z"
    },
    "papermill": {
     "duration": 0.09844,
     "end_time": "2021-07-13T17:15:13.570073",
     "exception": false,
     "start_time": "2021-07-13T17:15:13.471633",
     "status": "completed"
    },
    "tags": []
   },
   "outputs": [],
   "source": [
    "warnings.simplefilter(action='ignore', category=FutureWarning)"
   ]
  },
  {
   "cell_type": "code",
   "execution_count": 8,
   "id": "b10460fa",
   "metadata": {
    "execution": {
     "iopub.execute_input": "2021-07-13T17:15:13.758398Z",
     "iopub.status.busy": "2021-07-13T17:15:13.757733Z",
     "iopub.status.idle": "2021-07-13T17:15:14.165996Z",
     "shell.execute_reply": "2021-07-13T17:15:14.164616Z",
     "shell.execute_reply.started": "2021-07-13T17:12:27.240206Z"
    },
    "papermill": {
     "duration": 0.505597,
     "end_time": "2021-07-13T17:15:14.166195",
     "exception": false,
     "start_time": "2021-07-13T17:15:13.660598",
     "status": "completed"
    },
    "tags": []
   },
   "outputs": [],
   "source": [
    "\n",
    "df_train = pd.read_csv(f'{DATASETS_LOC}/train.csv')\n",
    "df_test = pd.read_csv(f'{DATASETS_LOC}/test.csv')\n",
    "sample_submission = pd.read_csv(f'{DATASETS_LOC}/sample_submission.csv')\n"
   ]
  },
  {
   "cell_type": "markdown",
   "id": "d29a08f9",
   "metadata": {
    "papermill": {
     "duration": 0.094774,
     "end_time": "2021-07-13T17:15:14.356793",
     "exception": false,
     "start_time": "2021-07-13T17:15:14.262019",
     "status": "completed"
    },
    "tags": []
   },
   "source": [
    "## Functions"
   ]
  },
  {
   "cell_type": "code",
   "execution_count": 9,
   "id": "938b9846",
   "metadata": {
    "execution": {
     "iopub.execute_input": "2021-07-13T17:15:14.547583Z",
     "iopub.status.busy": "2021-07-13T17:15:14.546728Z",
     "iopub.status.idle": "2021-07-13T17:15:14.549746Z",
     "shell.execute_reply": "2021-07-13T17:15:14.550190Z",
     "shell.execute_reply.started": "2021-07-13T17:12:29.471355Z"
    },
    "papermill": {
     "duration": 0.101644,
     "end_time": "2021-07-13T17:15:14.550380",
     "exception": false,
     "start_time": "2021-07-13T17:15:14.448736",
     "status": "completed"
    },
    "tags": []
   },
   "outputs": [],
   "source": [
    "def subset_by_iqr(df, column, whisker_width=1.5):\n",
    "    \"\"\"Remove outliers from a dataframe by column, including optional\n",
    "       whiskers, removing rows for which the column value are\n",
    "       less than Q1-1.5IQR or greater than Q3+1.5IQR.\n",
    "    Args:\n",
    "        df (`:obj:pd.DataFrame`): A pandas dataframe to subset\n",
    "        column (str): Name of the column to calculate the subset from.\n",
    "        whisker_width (float): Optional, loosen the IQR filter by a\n",
    "                               factor of `whisker_width` * IQR.\n",
    "    Returns:\n",
    "        (`:obj:pd.DataFrame`): Filtered dataframe\n",
    "    \"\"\"\n",
    "    q1 = df[column].quantile(0.25)\n",
    "    q3 = df[column].quantile(0.75)\n",
    "    iqr = q3 - q1\n",
    "    low_outlier = q1 - whisker_width*iqr\n",
    "    high_outlier = q3 + whisker_width*iqr\n",
    "    column_median = df[column].median()\n",
    "\n",
    "    # Apply filter with respect to IQR, including optional whiskers\n",
    "    # else mode()\n",
    "\n",
    "    return df[column].apply(lambda x: x if (x > low_outlier and x < high_outlier) else column_median)"
   ]
  },
  {
   "cell_type": "code",
   "execution_count": 10,
   "id": "c2c8deb9",
   "metadata": {
    "execution": {
     "iopub.execute_input": "2021-07-13T17:15:14.735742Z",
     "iopub.status.busy": "2021-07-13T17:15:14.734635Z",
     "iopub.status.idle": "2021-07-13T17:15:14.745088Z",
     "shell.execute_reply": "2021-07-13T17:15:14.744461Z",
     "shell.execute_reply.started": "2021-07-13T17:12:30.268527Z"
    },
    "papermill": {
     "duration": 0.104473,
     "end_time": "2021-07-13T17:15:14.745254",
     "exception": false,
     "start_time": "2021-07-13T17:15:14.640781",
     "status": "completed"
    },
    "tags": []
   },
   "outputs": [],
   "source": [
    "def bin_plot(col):\n",
    "    \"\"\"Does plot the binary features visualisation\"\"\"\n",
    "    labels = list(data.query('default == 1')[col].value_counts().index)\n",
    "\n",
    "    total = data[col].value_counts()\n",
    "    defaulters = data.query('default==1')[col].value_counts()\n",
    "\n",
    "    x = np.arange(len(labels))  # the label locations\n",
    "    width = 0.35  # the width of the bars\n",
    "\n",
    "    fig, ax = plt.subplots()\n",
    "    rects1 = ax.bar(x - width/2, total, width,  label='Total')\n",
    "    rects2 = ax.bar(x + width/2, defaulters, width, color = 'r', label='Defaulters')\n",
    "\n",
    "    # Add some text for labels, title and custom x-axis tick labels, etc.\n",
    "    ax.set_ylabel('Amount')\n",
    "    ax.set_title('Defaulters 0/1 in feature {}'.format(col))\n",
    "    ax.set_xticks(x)\n",
    "    ax.set_xticklabels(labels)\n",
    "    ax.legend()\n",
    "\n",
    "    ax.bar_label(rects1, padding=3)\n",
    "    ax.bar_label(rects2, padding=3)\n",
    "\n",
    "    fig.tight_layout()\n",
    "\n",
    "    plt.show()\n",
    "    print('Доля дефолта от общего количества','\\n', defaulters/total)"
   ]
  },
  {
   "cell_type": "code",
   "execution_count": 11,
   "id": "0e764845",
   "metadata": {
    "execution": {
     "iopub.execute_input": "2021-07-13T17:15:14.934197Z",
     "iopub.status.busy": "2021-07-13T17:15:14.933298Z",
     "iopub.status.idle": "2021-07-13T17:15:14.938209Z",
     "shell.execute_reply": "2021-07-13T17:15:14.937622Z",
     "shell.execute_reply.started": "2021-07-13T17:12:31.536345Z"
    },
    "papermill": {
     "duration": 0.101719,
     "end_time": "2021-07-13T17:15:14.938353",
     "exception": false,
     "start_time": "2021-07-13T17:15:14.836634",
     "status": "completed"
    },
    "tags": []
   },
   "outputs": [],
   "source": [
    "def hist_plot(col):\n",
    "    plt.figure()\n",
    "    sns.distplot(data[col][data['default'] == 1], kde = False, color= 'red', hist = True)\n",
    "    sns.distplot(data[col][data['default'] == 0], kde = False, color= 'blue', hist = True)\n",
    "    plt.title(col)\n",
    "    plt.show()"
   ]
  },
  {
   "cell_type": "code",
   "execution_count": 12,
   "id": "b7f20caa",
   "metadata": {
    "execution": {
     "iopub.execute_input": "2021-07-13T17:15:15.132187Z",
     "iopub.status.busy": "2021-07-13T17:15:15.131440Z",
     "iopub.status.idle": "2021-07-13T17:15:15.202712Z",
     "shell.execute_reply": "2021-07-13T17:15:15.203612Z",
     "shell.execute_reply.started": "2021-07-13T17:12:32.206498Z"
    },
    "papermill": {
     "duration": 0.173333,
     "end_time": "2021-07-13T17:15:15.203886",
     "exception": false,
     "start_time": "2021-07-13T17:15:15.030553",
     "status": "completed"
    },
    "tags": []
   },
   "outputs": [
    {
     "name": "stdout",
     "output_type": "stream",
     "text": [
      "<class 'pandas.core.frame.DataFrame'>\n",
      "RangeIndex: 73799 entries, 0 to 73798\n",
      "Data columns (total 19 columns):\n",
      " #   Column            Non-Null Count  Dtype  \n",
      "---  ------            --------------  -----  \n",
      " 0   client_id         73799 non-null  int64  \n",
      " 1   app_date          73799 non-null  object \n",
      " 2   education         73492 non-null  object \n",
      " 3   sex               73799 non-null  object \n",
      " 4   age               73799 non-null  int64  \n",
      " 5   car               73799 non-null  object \n",
      " 6   car_type          73799 non-null  object \n",
      " 7   decline_app_cnt   73799 non-null  int64  \n",
      " 8   good_work         73799 non-null  int64  \n",
      " 9   score_bki         73799 non-null  float64\n",
      " 10  bki_request_cnt   73799 non-null  int64  \n",
      " 11  region_rating     73799 non-null  int64  \n",
      " 12  home_address      73799 non-null  int64  \n",
      " 13  work_address      73799 non-null  int64  \n",
      " 14  income            73799 non-null  int64  \n",
      " 15  sna               73799 non-null  int64  \n",
      " 16  first_time        73799 non-null  int64  \n",
      " 17  foreign_passport  73799 non-null  object \n",
      " 18  default           73799 non-null  int64  \n",
      "dtypes: float64(1), int64(12), object(6)\n",
      "memory usage: 10.7+ MB\n"
     ]
    }
   ],
   "source": [
    "df_train.info()"
   ]
  },
  {
   "cell_type": "code",
   "execution_count": 13,
   "id": "283b4f8e",
   "metadata": {
    "execution": {
     "iopub.execute_input": "2021-07-13T17:15:15.391892Z",
     "iopub.status.busy": "2021-07-13T17:15:15.391251Z",
     "iopub.status.idle": "2021-07-13T17:15:15.426903Z",
     "shell.execute_reply": "2021-07-13T17:15:15.427415Z",
     "shell.execute_reply.started": "2021-07-13T17:12:33.373308Z"
    },
    "papermill": {
     "duration": 0.130329,
     "end_time": "2021-07-13T17:15:15.427608",
     "exception": false,
     "start_time": "2021-07-13T17:15:15.297279",
     "status": "completed"
    },
    "tags": []
   },
   "outputs": [
    {
     "data": {
      "text/plain": "   client_id   app_date education sex  age car car_type  decline_app_cnt  \\\n0      25905  01FEB2014       SCH   M   62   Y        Y                0   \n1      63161  12MAR2014       SCH   F   59   N        N                0   \n2      25887  01FEB2014       SCH   M   25   Y        N                2   \n3      16222  23JAN2014       SCH   F   53   N        N                0   \n4     101655  18APR2014       GRD   M   48   N        N                0   \n\n   good_work  score_bki  bki_request_cnt  region_rating  home_address  \\\n0          0  -2.008753                1             50             1   \n1          0  -1.532276                3             50             2   \n2          0  -1.408142                1             80             1   \n3          0  -2.057471                2             50             2   \n4          1  -1.244723                1             60             2   \n\n   work_address  income  sna  first_time foreign_passport  default  \n0             2   18000    4           1                N        0  \n1             3   19000    4           1                N        0  \n2             2   30000    1           4                Y        0  \n3             3   10000    1           3                N        0  \n4             3   30000    1           4                Y        0  ",
      "text/html": "<div>\n<style scoped>\n    .dataframe tbody tr th:only-of-type {\n        vertical-align: middle;\n    }\n\n    .dataframe tbody tr th {\n        vertical-align: top;\n    }\n\n    .dataframe thead th {\n        text-align: right;\n    }\n</style>\n<table border=\"1\" class=\"dataframe\">\n  <thead>\n    <tr style=\"text-align: right;\">\n      <th></th>\n      <th>client_id</th>\n      <th>app_date</th>\n      <th>education</th>\n      <th>sex</th>\n      <th>age</th>\n      <th>car</th>\n      <th>car_type</th>\n      <th>decline_app_cnt</th>\n      <th>good_work</th>\n      <th>score_bki</th>\n      <th>bki_request_cnt</th>\n      <th>region_rating</th>\n      <th>home_address</th>\n      <th>work_address</th>\n      <th>income</th>\n      <th>sna</th>\n      <th>first_time</th>\n      <th>foreign_passport</th>\n      <th>default</th>\n    </tr>\n  </thead>\n  <tbody>\n    <tr>\n      <th>0</th>\n      <td>25905</td>\n      <td>01FEB2014</td>\n      <td>SCH</td>\n      <td>M</td>\n      <td>62</td>\n      <td>Y</td>\n      <td>Y</td>\n      <td>0</td>\n      <td>0</td>\n      <td>-2.008753</td>\n      <td>1</td>\n      <td>50</td>\n      <td>1</td>\n      <td>2</td>\n      <td>18000</td>\n      <td>4</td>\n      <td>1</td>\n      <td>N</td>\n      <td>0</td>\n    </tr>\n    <tr>\n      <th>1</th>\n      <td>63161</td>\n      <td>12MAR2014</td>\n      <td>SCH</td>\n      <td>F</td>\n      <td>59</td>\n      <td>N</td>\n      <td>N</td>\n      <td>0</td>\n      <td>0</td>\n      <td>-1.532276</td>\n      <td>3</td>\n      <td>50</td>\n      <td>2</td>\n      <td>3</td>\n      <td>19000</td>\n      <td>4</td>\n      <td>1</td>\n      <td>N</td>\n      <td>0</td>\n    </tr>\n    <tr>\n      <th>2</th>\n      <td>25887</td>\n      <td>01FEB2014</td>\n      <td>SCH</td>\n      <td>M</td>\n      <td>25</td>\n      <td>Y</td>\n      <td>N</td>\n      <td>2</td>\n      <td>0</td>\n      <td>-1.408142</td>\n      <td>1</td>\n      <td>80</td>\n      <td>1</td>\n      <td>2</td>\n      <td>30000</td>\n      <td>1</td>\n      <td>4</td>\n      <td>Y</td>\n      <td>0</td>\n    </tr>\n    <tr>\n      <th>3</th>\n      <td>16222</td>\n      <td>23JAN2014</td>\n      <td>SCH</td>\n      <td>F</td>\n      <td>53</td>\n      <td>N</td>\n      <td>N</td>\n      <td>0</td>\n      <td>0</td>\n      <td>-2.057471</td>\n      <td>2</td>\n      <td>50</td>\n      <td>2</td>\n      <td>3</td>\n      <td>10000</td>\n      <td>1</td>\n      <td>3</td>\n      <td>N</td>\n      <td>0</td>\n    </tr>\n    <tr>\n      <th>4</th>\n      <td>101655</td>\n      <td>18APR2014</td>\n      <td>GRD</td>\n      <td>M</td>\n      <td>48</td>\n      <td>N</td>\n      <td>N</td>\n      <td>0</td>\n      <td>1</td>\n      <td>-1.244723</td>\n      <td>1</td>\n      <td>60</td>\n      <td>2</td>\n      <td>3</td>\n      <td>30000</td>\n      <td>1</td>\n      <td>4</td>\n      <td>Y</td>\n      <td>0</td>\n    </tr>\n  </tbody>\n</table>\n</div>"
     },
     "execution_count": 13,
     "metadata": {},
     "output_type": "execute_result"
    }
   ],
   "source": [
    "df_train.head(5)"
   ]
  },
  {
   "cell_type": "code",
   "execution_count": 14,
   "id": "4d8c0e24",
   "metadata": {
    "execution": {
     "iopub.execute_input": "2021-07-13T17:15:15.617915Z",
     "iopub.status.busy": "2021-07-13T17:15:15.616872Z",
     "iopub.status.idle": "2021-07-13T17:15:15.655850Z",
     "shell.execute_reply": "2021-07-13T17:15:15.656395Z",
     "shell.execute_reply.started": "2021-07-13T17:12:34.057401Z"
    },
    "papermill": {
     "duration": 0.136306,
     "end_time": "2021-07-13T17:15:15.656623",
     "exception": false,
     "start_time": "2021-07-13T17:15:15.520317",
     "status": "completed"
    },
    "tags": []
   },
   "outputs": [
    {
     "name": "stdout",
     "output_type": "stream",
     "text": [
      "<class 'pandas.core.frame.DataFrame'>\n",
      "RangeIndex: 36349 entries, 0 to 36348\n",
      "Data columns (total 18 columns):\n",
      " #   Column            Non-Null Count  Dtype  \n",
      "---  ------            --------------  -----  \n",
      " 0   client_id         36349 non-null  int64  \n",
      " 1   app_date          36349 non-null  object \n",
      " 2   education         36178 non-null  object \n",
      " 3   sex               36349 non-null  object \n",
      " 4   age               36349 non-null  int64  \n",
      " 5   car               36349 non-null  object \n",
      " 6   car_type          36349 non-null  object \n",
      " 7   decline_app_cnt   36349 non-null  int64  \n",
      " 8   good_work         36349 non-null  int64  \n",
      " 9   score_bki         36349 non-null  float64\n",
      " 10  bki_request_cnt   36349 non-null  int64  \n",
      " 11  region_rating     36349 non-null  int64  \n",
      " 12  home_address      36349 non-null  int64  \n",
      " 13  work_address      36349 non-null  int64  \n",
      " 14  income            36349 non-null  int64  \n",
      " 15  sna               36349 non-null  int64  \n",
      " 16  first_time        36349 non-null  int64  \n",
      " 17  foreign_passport  36349 non-null  object \n",
      "dtypes: float64(1), int64(11), object(6)\n",
      "memory usage: 5.0+ MB\n"
     ]
    }
   ],
   "source": [
    "df_test.info()"
   ]
  },
  {
   "cell_type": "code",
   "execution_count": 15,
   "id": "9f12b96f",
   "metadata": {
    "execution": {
     "iopub.execute_input": "2021-07-13T17:15:15.857346Z",
     "iopub.status.busy": "2021-07-13T17:15:15.856374Z",
     "iopub.status.idle": "2021-07-13T17:15:15.878234Z",
     "shell.execute_reply": "2021-07-13T17:15:15.877655Z",
     "shell.execute_reply.started": "2021-07-13T17:12:34.650684Z"
    },
    "papermill": {
     "duration": 0.120105,
     "end_time": "2021-07-13T17:15:15.878395",
     "exception": false,
     "start_time": "2021-07-13T17:15:15.758290",
     "status": "completed"
    },
    "tags": []
   },
   "outputs": [
    {
     "data": {
      "text/plain": "   client_id   app_date education sex  age car car_type  decline_app_cnt  \\\n0      74835  22MAR2014       GRD   M   29   Y        Y                0   \n1      17527  24JAN2014       SCH   F   39   N        N                5   \n2      75683  23MAR2014       UGR   M   50   Y        Y                0   \n3      26883  03FEB2014       SCH   M   56   N        N                0   \n4      28862  04FEB2014       GRD   F   38   N        N                0   \n\n   good_work  score_bki  bki_request_cnt  region_rating  home_address  \\\n0          0  -2.271884                3             50             1   \n1          0  -1.504999                2             50             1   \n2          0  -1.691339                1             50             1   \n3          0  -2.374182                1             40             1   \n4          0  -2.487502                0             80             2   \n\n   work_address  income  sna  first_time foreign_passport  \n0             2   50000    1           4                N  \n1             2    5000    4           3                N  \n2             2   30000    1           3                Y  \n3             2   17000    1           3                N  \n4             3  120000    1           3                N  ",
      "text/html": "<div>\n<style scoped>\n    .dataframe tbody tr th:only-of-type {\n        vertical-align: middle;\n    }\n\n    .dataframe tbody tr th {\n        vertical-align: top;\n    }\n\n    .dataframe thead th {\n        text-align: right;\n    }\n</style>\n<table border=\"1\" class=\"dataframe\">\n  <thead>\n    <tr style=\"text-align: right;\">\n      <th></th>\n      <th>client_id</th>\n      <th>app_date</th>\n      <th>education</th>\n      <th>sex</th>\n      <th>age</th>\n      <th>car</th>\n      <th>car_type</th>\n      <th>decline_app_cnt</th>\n      <th>good_work</th>\n      <th>score_bki</th>\n      <th>bki_request_cnt</th>\n      <th>region_rating</th>\n      <th>home_address</th>\n      <th>work_address</th>\n      <th>income</th>\n      <th>sna</th>\n      <th>first_time</th>\n      <th>foreign_passport</th>\n    </tr>\n  </thead>\n  <tbody>\n    <tr>\n      <th>0</th>\n      <td>74835</td>\n      <td>22MAR2014</td>\n      <td>GRD</td>\n      <td>M</td>\n      <td>29</td>\n      <td>Y</td>\n      <td>Y</td>\n      <td>0</td>\n      <td>0</td>\n      <td>-2.271884</td>\n      <td>3</td>\n      <td>50</td>\n      <td>1</td>\n      <td>2</td>\n      <td>50000</td>\n      <td>1</td>\n      <td>4</td>\n      <td>N</td>\n    </tr>\n    <tr>\n      <th>1</th>\n      <td>17527</td>\n      <td>24JAN2014</td>\n      <td>SCH</td>\n      <td>F</td>\n      <td>39</td>\n      <td>N</td>\n      <td>N</td>\n      <td>5</td>\n      <td>0</td>\n      <td>-1.504999</td>\n      <td>2</td>\n      <td>50</td>\n      <td>1</td>\n      <td>2</td>\n      <td>5000</td>\n      <td>4</td>\n      <td>3</td>\n      <td>N</td>\n    </tr>\n    <tr>\n      <th>2</th>\n      <td>75683</td>\n      <td>23MAR2014</td>\n      <td>UGR</td>\n      <td>M</td>\n      <td>50</td>\n      <td>Y</td>\n      <td>Y</td>\n      <td>0</td>\n      <td>0</td>\n      <td>-1.691339</td>\n      <td>1</td>\n      <td>50</td>\n      <td>1</td>\n      <td>2</td>\n      <td>30000</td>\n      <td>1</td>\n      <td>3</td>\n      <td>Y</td>\n    </tr>\n    <tr>\n      <th>3</th>\n      <td>26883</td>\n      <td>03FEB2014</td>\n      <td>SCH</td>\n      <td>M</td>\n      <td>56</td>\n      <td>N</td>\n      <td>N</td>\n      <td>0</td>\n      <td>0</td>\n      <td>-2.374182</td>\n      <td>1</td>\n      <td>40</td>\n      <td>1</td>\n      <td>2</td>\n      <td>17000</td>\n      <td>1</td>\n      <td>3</td>\n      <td>N</td>\n    </tr>\n    <tr>\n      <th>4</th>\n      <td>28862</td>\n      <td>04FEB2014</td>\n      <td>GRD</td>\n      <td>F</td>\n      <td>38</td>\n      <td>N</td>\n      <td>N</td>\n      <td>0</td>\n      <td>0</td>\n      <td>-2.487502</td>\n      <td>0</td>\n      <td>80</td>\n      <td>2</td>\n      <td>3</td>\n      <td>120000</td>\n      <td>1</td>\n      <td>3</td>\n      <td>N</td>\n    </tr>\n  </tbody>\n</table>\n</div>"
     },
     "execution_count": 15,
     "metadata": {},
     "output_type": "execute_result"
    }
   ],
   "source": [
    "df_test.head(5)"
   ]
  },
  {
   "cell_type": "code",
   "execution_count": 16,
   "id": "811feaf8",
   "metadata": {
    "execution": {
     "iopub.execute_input": "2021-07-13T17:15:16.077768Z",
     "iopub.status.busy": "2021-07-13T17:15:16.077062Z",
     "iopub.status.idle": "2021-07-13T17:15:16.080971Z",
     "shell.execute_reply": "2021-07-13T17:15:16.081475Z",
     "shell.execute_reply.started": "2021-07-13T17:12:35.144985Z"
    },
    "papermill": {
     "duration": 0.106467,
     "end_time": "2021-07-13T17:15:16.081661",
     "exception": false,
     "start_time": "2021-07-13T17:15:15.975194",
     "status": "completed"
    },
    "tags": []
   },
   "outputs": [
    {
     "data": {
      "text/plain": "   client_id   default\n0      66799  0.441004\n1      25379  0.138092\n2      28825  0.373370\n3      37530  0.476501\n4       4264  0.304640",
      "text/html": "<div>\n<style scoped>\n    .dataframe tbody tr th:only-of-type {\n        vertical-align: middle;\n    }\n\n    .dataframe tbody tr th {\n        vertical-align: top;\n    }\n\n    .dataframe thead th {\n        text-align: right;\n    }\n</style>\n<table border=\"1\" class=\"dataframe\">\n  <thead>\n    <tr style=\"text-align: right;\">\n      <th></th>\n      <th>client_id</th>\n      <th>default</th>\n    </tr>\n  </thead>\n  <tbody>\n    <tr>\n      <th>0</th>\n      <td>66799</td>\n      <td>0.441004</td>\n    </tr>\n    <tr>\n      <th>1</th>\n      <td>25379</td>\n      <td>0.138092</td>\n    </tr>\n    <tr>\n      <th>2</th>\n      <td>28825</td>\n      <td>0.373370</td>\n    </tr>\n    <tr>\n      <th>3</th>\n      <td>37530</td>\n      <td>0.476501</td>\n    </tr>\n    <tr>\n      <th>4</th>\n      <td>4264</td>\n      <td>0.304640</td>\n    </tr>\n  </tbody>\n</table>\n</div>"
     },
     "execution_count": 16,
     "metadata": {},
     "output_type": "execute_result"
    }
   ],
   "source": [
    "sample_submission.head(5)"
   ]
  },
  {
   "cell_type": "code",
   "execution_count": 17,
   "id": "6f9f4895",
   "metadata": {
    "execution": {
     "iopub.execute_input": "2021-07-13T17:15:16.296684Z",
     "iopub.status.busy": "2021-07-13T17:15:16.295896Z",
     "iopub.status.idle": "2021-07-13T17:15:16.308340Z",
     "shell.execute_reply": "2021-07-13T17:15:16.308936Z",
     "shell.execute_reply.started": "2021-07-13T17:12:35.776705Z"
    },
    "papermill": {
     "duration": 0.120576,
     "end_time": "2021-07-13T17:15:16.309131",
     "exception": false,
     "start_time": "2021-07-13T17:15:16.188555",
     "status": "completed"
    },
    "tags": []
   },
   "outputs": [
    {
     "name": "stdout",
     "output_type": "stream",
     "text": [
      "<class 'pandas.core.frame.DataFrame'>\n",
      "RangeIndex: 24354 entries, 0 to 24353\n",
      "Data columns (total 2 columns):\n",
      " #   Column     Non-Null Count  Dtype  \n",
      "---  ------     --------------  -----  \n",
      " 0   client_id  24354 non-null  int64  \n",
      " 1   default    24354 non-null  float64\n",
      "dtypes: float64(1), int64(1)\n",
      "memory usage: 380.7 KB\n"
     ]
    }
   ],
   "source": [
    "sample_submission.info()"
   ]
  },
  {
   "cell_type": "code",
   "execution_count": 18,
   "id": "5d0b50a5",
   "metadata": {
    "execution": {
     "iopub.execute_input": "2021-07-13T17:15:16.510495Z",
     "iopub.status.busy": "2021-07-13T17:15:16.509370Z",
     "iopub.status.idle": "2021-07-13T17:15:16.577803Z",
     "shell.execute_reply": "2021-07-13T17:15:16.578321Z",
     "shell.execute_reply.started": "2021-07-13T17:12:36.360478Z"
    },
    "papermill": {
     "duration": 0.167778,
     "end_time": "2021-07-13T17:15:16.578575",
     "exception": false,
     "start_time": "2021-07-13T17:15:16.410797",
     "status": "completed"
    },
    "tags": []
   },
   "outputs": [],
   "source": [
    "# ВАЖНО! дря корректной обработки признаков объединяем трейн и тест в один датасет\n",
    "df_train['sample'] = 1 # помечаем где у нас трейн\n",
    "df_test['sample'] = 0 # помечаем где у нас тест\n",
    "df_test['default'] = 0 # в тесте у нас нет значения Default, мы его должны предсказать, по этому пока просто заполняем нулями\n",
    "\n",
    "data = df_test.append(df_train, sort=False).reset_index(drop=True) # объединяем"
   ]
  },
  {
   "cell_type": "code",
   "execution_count": 19,
   "id": "5032dfb3",
   "metadata": {
    "execution": {
     "iopub.execute_input": "2021-07-13T17:15:16.823964Z",
     "iopub.status.busy": "2021-07-13T17:15:16.822971Z",
     "iopub.status.idle": "2021-07-13T17:15:16.907654Z",
     "shell.execute_reply": "2021-07-13T17:15:16.906964Z",
     "shell.execute_reply.started": "2021-07-13T17:12:36.907537Z"
    },
    "papermill": {
     "duration": 0.183412,
     "end_time": "2021-07-13T17:15:16.907811",
     "exception": false,
     "start_time": "2021-07-13T17:15:16.724399",
     "status": "completed"
    },
    "tags": []
   },
   "outputs": [
    {
     "name": "stdout",
     "output_type": "stream",
     "text": [
      "<class 'pandas.core.frame.DataFrame'>\n",
      "RangeIndex: 110148 entries, 0 to 110147\n",
      "Data columns (total 20 columns):\n",
      " #   Column            Non-Null Count   Dtype  \n",
      "---  ------            --------------   -----  \n",
      " 0   client_id         110148 non-null  int64  \n",
      " 1   app_date          110148 non-null  object \n",
      " 2   education         109670 non-null  object \n",
      " 3   sex               110148 non-null  object \n",
      " 4   age               110148 non-null  int64  \n",
      " 5   car               110148 non-null  object \n",
      " 6   car_type          110148 non-null  object \n",
      " 7   decline_app_cnt   110148 non-null  int64  \n",
      " 8   good_work         110148 non-null  int64  \n",
      " 9   score_bki         110148 non-null  float64\n",
      " 10  bki_request_cnt   110148 non-null  int64  \n",
      " 11  region_rating     110148 non-null  int64  \n",
      " 12  home_address      110148 non-null  int64  \n",
      " 13  work_address      110148 non-null  int64  \n",
      " 14  income            110148 non-null  int64  \n",
      " 15  sna               110148 non-null  int64  \n",
      " 16  first_time        110148 non-null  int64  \n",
      " 17  foreign_passport  110148 non-null  object \n",
      " 18  sample            110148 non-null  int64  \n",
      " 19  default           110148 non-null  int64  \n",
      "dtypes: float64(1), int64(13), object(6)\n",
      "memory usage: 16.8+ MB\n"
     ]
    }
   ],
   "source": [
    "data.info()"
   ]
  },
  {
   "cell_type": "markdown",
   "id": "da11dc0a",
   "metadata": {
    "papermill": {
     "duration": 0.096159,
     "end_time": "2021-07-13T17:15:17.098328",
     "exception": false,
     "start_time": "2021-07-13T17:15:17.002169",
     "status": "completed"
    },
    "tags": []
   },
   "source": [
    "Значение признаков датасета\n",
    "\n",
    "Feature | Value\t| Type\n",
    "--------|-------|-----\n",
    "client_id|\tid клиента|\tЧисловой\n",
    "app_date|\tдата подачи заявки|\tВременной\n",
    "education|\tуровень образования\t|Категориальный\n",
    "sex|\tпол заёмщика|\tБинарный\n",
    "age\t|возраст заёмщика|\tЧисловой\n",
    "car\t|флаг наличия автомобиля |\tБинарный\n",
    "car_type |\tфлаг автомобиля-иномарки|\tБинарный\n",
    "decline_app_cnt\t|количество отказанных прошлых заявок|\tЧисловой\n",
    "good_work|\tфлаг наличия «хорошей» работы|\tБинарный\n",
    "score_bki|\tскоринговый балл по данным из БКИ|\tЧисловой\n",
    "bki_request_cnt|\tколичество запросов в БКИ|\tЧисловой\n",
    "region_rating|\tрейтинг региона|\tЧисловой\n",
    "home_address|\tкатегоризатор домашнего адреса |\tКатегориальный\n",
    "work_address|\tкатегоризатор рабочего адреса|\tКатегориальный\n",
    "income|\tдоход заёмщика\t|Числовой\n",
    "sna\t|связь заемщика с клиентами банка\t|Категориальный\n",
    "first_time\t|давность наличия информации о заемщике\t|Категориальный\n",
    "foreign_passport|\tналичие загранпаспорта|\tБинарный\n",
    "sample    |  маркер выборки  |Бинарный\n",
    "default\t|наличие дефолта (ЦЕЛЕВОЙ ПРИЗНАК)\t|Бинарный"
   ]
  },
  {
   "cell_type": "code",
   "execution_count": 20,
   "id": "f83032b1",
   "metadata": {
    "execution": {
     "iopub.execute_input": "2021-07-13T17:15:17.296416Z",
     "iopub.status.busy": "2021-07-13T17:15:17.295359Z",
     "iopub.status.idle": "2021-07-13T17:15:17.298592Z",
     "shell.execute_reply": "2021-07-13T17:15:17.297865Z",
     "shell.execute_reply.started": "2021-07-13T17:12:37.943567Z"
    },
    "papermill": {
     "duration": 0.102831,
     "end_time": "2021-07-13T17:15:17.298764",
     "exception": false,
     "start_time": "2021-07-13T17:15:17.195933",
     "status": "completed"
    },
    "tags": []
   },
   "outputs": [],
   "source": [
    "#pandas_profiling.ProfileReport(data)"
   ]
  },
  {
   "cell_type": "markdown",
   "id": "6ab1b939",
   "metadata": {
    "papermill": {
     "duration": 0.095077,
     "end_time": "2021-07-13T17:15:17.490710",
     "exception": false,
     "start_time": "2021-07-13T17:15:17.395633",
     "status": "completed"
    },
    "tags": []
   },
   "source": [
    "Как видим, большинство признаков у нас требует очистки и предварительной обработки"
   ]
  },
  {
   "cell_type": "markdown",
   "id": "a47b4585",
   "metadata": {
    "papermill": {
     "duration": 0.092067,
     "end_time": "2021-07-13T17:15:17.676370",
     "exception": false,
     "start_time": "2021-07-13T17:15:17.584303",
     "status": "completed"
    },
    "tags": []
   },
   "source": [
    "## Предобработка и анализ данных EDA"
   ]
  },
  {
   "cell_type": "markdown",
   "id": "2ff62074",
   "metadata": {
    "papermill": {
     "duration": 0.09376,
     "end_time": "2021-07-13T17:15:17.864784",
     "exception": false,
     "start_time": "2021-07-13T17:15:17.771024",
     "status": "completed"
    },
    "tags": []
   },
   "source": [
    "### Временной признак 'app_date'\n",
    "конвертируем данные признака 'app_date' в формат времени"
   ]
  },
  {
   "cell_type": "code",
   "execution_count": 21,
   "id": "fd788127",
   "metadata": {
    "execution": {
     "iopub.execute_input": "2021-07-13T17:15:18.073003Z",
     "iopub.status.busy": "2021-07-13T17:15:18.062724Z",
     "iopub.status.idle": "2021-07-13T17:15:43.943467Z",
     "shell.execute_reply": "2021-07-13T17:15:43.942769Z",
     "shell.execute_reply.started": "2021-07-13T17:12:40.969683Z"
    },
    "papermill": {
     "duration": 25.985096,
     "end_time": "2021-07-13T17:15:43.943639",
     "exception": false,
     "start_time": "2021-07-13T17:15:17.958543",
     "status": "completed"
    },
    "tags": []
   },
   "outputs": [],
   "source": [
    "data.app_date = data.app_date.apply(lambda x: pd.to_datetime(x) if x!=None else x)"
   ]
  },
  {
   "cell_type": "markdown",
   "id": "ee39ff68",
   "metadata": {
    "papermill": {
     "duration": 0.098315,
     "end_time": "2021-07-13T17:15:44.138858",
     "exception": false,
     "start_time": "2021-07-13T17:15:44.040543",
     "status": "completed"
    },
    "tags": []
   },
   "source": [
    "Сгенерируем несколько признаков для выявления зависимостей."
   ]
  },
  {
   "cell_type": "code",
   "execution_count": 22,
   "id": "47bd4338",
   "metadata": {
    "execution": {
     "iopub.execute_input": "2021-07-13T17:15:44.335302Z",
     "iopub.status.busy": "2021-07-13T17:15:44.334554Z",
     "iopub.status.idle": "2021-07-13T17:15:44.379080Z",
     "shell.execute_reply": "2021-07-13T17:15:44.378197Z",
     "shell.execute_reply.started": "2021-07-13T17:13:06.052013Z"
    },
    "papermill": {
     "duration": 0.145071,
     "end_time": "2021-07-13T17:15:44.379349",
     "exception": false,
     "start_time": "2021-07-13T17:15:44.234278",
     "status": "completed"
    },
    "tags": []
   },
   "outputs": [],
   "source": [
    "data['month'] = data.app_date.dt.month\n",
    "data['date'] = data.app_date.dt.day\n",
    "data['dayofweek'] = data.app_date.dt.dayofweek"
   ]
  },
  {
   "cell_type": "code",
   "execution_count": 23,
   "id": "0fe71454",
   "metadata": {
    "execution": {
     "iopub.execute_input": "2021-07-13T17:15:44.578271Z",
     "iopub.status.busy": "2021-07-13T17:15:44.576908Z",
     "iopub.status.idle": "2021-07-13T17:15:44.612699Z",
     "shell.execute_reply": "2021-07-13T17:15:44.612082Z",
     "shell.execute_reply.started": "2021-07-13T17:13:06.098029Z"
    },
    "papermill": {
     "duration": 0.1376,
     "end_time": "2021-07-13T17:15:44.612864",
     "exception": false,
     "start_time": "2021-07-13T17:15:44.475264",
     "status": "completed"
    },
    "tags": []
   },
   "outputs": [],
   "source": [
    "data = data.drop(['app_date'], axis =1)  #удалим за ненадобностью"
   ]
  },
  {
   "cell_type": "markdown",
   "id": "95c7628e",
   "metadata": {
    "papermill": {
     "duration": 0.097128,
     "end_time": "2021-07-13T17:15:44.807023",
     "exception": false,
     "start_time": "2021-07-13T17:15:44.709895",
     "status": "completed"
    },
    "tags": []
   },
   "source": [
    "## Числовые признаки"
   ]
  },
  {
   "cell_type": "code",
   "execution_count": 24,
   "id": "a83bf7a2",
   "metadata": {
    "execution": {
     "iopub.execute_input": "2021-07-13T17:15:45.006859Z",
     "iopub.status.busy": "2021-07-13T17:15:45.005823Z",
     "iopub.status.idle": "2021-07-13T17:15:45.009206Z",
     "shell.execute_reply": "2021-07-13T17:15:45.008495Z",
     "shell.execute_reply.started": "2021-07-13T17:13:08.701142Z"
    },
    "papermill": {
     "duration": 0.103534,
     "end_time": "2021-07-13T17:15:45.009352",
     "exception": false,
     "start_time": "2021-07-13T17:15:44.905818",
     "status": "completed"
    },
    "tags": []
   },
   "outputs": [],
   "source": [
    "num_cols = ['age', 'decline_app_cnt', 'bki_request_cnt',\n",
    "           'income', 'score_bki', 'region_rating'] #Числовые данные */ без client_id"
   ]
  },
  {
   "cell_type": "markdown",
   "id": "a05f3aca",
   "metadata": {
    "execution": {
     "iopub.execute_input": "2021-07-13T14:37:56.998888Z",
     "iopub.status.busy": "2021-07-13T14:37:56.998534Z",
     "iopub.status.idle": "2021-07-13T14:37:57.0021Z",
     "shell.execute_reply": "2021-07-13T14:37:57.001314Z",
     "shell.execute_reply.started": "2021-07-13T14:37:56.998859Z"
    },
    "papermill": {
     "duration": 0.096685,
     "end_time": "2021-07-13T17:15:45.202376",
     "exception": false,
     "start_time": "2021-07-13T17:15:45.105691",
     "status": "completed"
    },
    "tags": []
   },
   "source": [
    "### Признак 'age'"
   ]
  },
  {
   "cell_type": "markdown",
   "id": "28cf9bd8",
   "metadata": {
    "papermill": {
     "duration": 0.094513,
     "end_time": "2021-07-13T17:15:45.393342",
     "exception": false,
     "start_time": "2021-07-13T17:15:45.298829",
     "status": "completed"
    },
    "tags": []
   },
   "source": [
    "\n",
    "Распределение возрастов в категориях плательщиков и неплательщиков"
   ]
  },
  {
   "cell_type": "code",
   "execution_count": 25,
   "id": "c9cfb692",
   "metadata": {
    "execution": {
     "iopub.execute_input": "2021-07-13T17:15:45.592067Z",
     "iopub.status.busy": "2021-07-13T17:15:45.591056Z",
     "iopub.status.idle": "2021-07-13T17:15:45.985824Z",
     "shell.execute_reply": "2021-07-13T17:15:45.986343Z",
     "shell.execute_reply.started": "2021-07-13T17:13:10.581795Z"
    },
    "papermill": {
     "duration": 0.497913,
     "end_time": "2021-07-13T17:15:45.986545",
     "exception": false,
     "start_time": "2021-07-13T17:15:45.488632",
     "status": "completed"
    },
    "tags": []
   },
   "outputs": [
    {
     "data": {
      "text/plain": "<Figure size 432x288 with 1 Axes>",
      "image/png": "[encoded data removed]"
     },
     "metadata": {
      "needs_background": "light"
     },
     "output_type": "display_data"
    }
   ],
   "source": [
    "hist_plot('age')"
   ]
  },
  {
   "cell_type": "code",
   "execution_count": 26,
   "id": "8d17f540",
   "metadata": {
    "execution": {
     "iopub.execute_input": "2021-07-13T17:15:46.182327Z",
     "iopub.status.busy": "2021-07-13T17:15:46.181223Z",
     "iopub.status.idle": "2021-07-13T17:15:46.357597Z",
     "shell.execute_reply": "2021-07-13T17:15:46.356491Z",
     "shell.execute_reply.started": "2021-07-13T17:13:11.251888Z"
    },
    "papermill": {
     "duration": 0.275553,
     "end_time": "2021-07-13T17:15:46.357754",
     "exception": false,
     "start_time": "2021-07-13T17:15:46.082201",
     "status": "completed"
    },
    "tags": []
   },
   "outputs": [
    {
     "data": {
      "text/plain": "<AxesSubplot:xlabel='default', ylabel='age'>"
     },
     "execution_count": 26,
     "metadata": {},
     "output_type": "execute_result"
    },
    {
     "data": {
      "text/plain": "<Figure size 432x288 with 1 Axes>",
      "image/png": "[encoded data removed]"
     },
     "metadata": {
      "needs_background": "light"
     },
     "output_type": "display_data"
    }
   ],
   "source": [
    "sns.boxplot(x='default', y='age',  data=data, palette={0: \"blue\", 1: \"red\"})"
   ]
  },
  {
   "cell_type": "code",
   "execution_count": 27,
   "id": "7e40cde9",
   "metadata": {
    "execution": {
     "iopub.execute_input": "2021-07-13T17:15:46.555042Z",
     "iopub.status.busy": "2021-07-13T17:15:46.553943Z",
     "iopub.status.idle": "2021-07-13T17:15:46.586634Z",
     "shell.execute_reply": "2021-07-13T17:15:46.587189Z",
     "shell.execute_reply.started": "2021-07-13T17:13:12.007019Z"
    },
    "papermill": {
     "duration": 0.133994,
     "end_time": "2021-07-13T17:15:46.587370",
     "exception": false,
     "start_time": "2021-07-13T17:15:46.453376",
     "status": "completed"
    },
    "tags": []
   },
   "outputs": [
    {
     "data": {
      "text/plain": "            count       mean        std   min   25%   50%   75%   max\ndefault                                                              \n0        100776.0  39.316742  11.517875  21.0  30.0  37.0  48.0  72.0\n1          9372.0  38.525395  11.495797  21.0  29.0  36.0  47.0  72.0",
      "text/html": "<div>\n<style scoped>\n    .dataframe tbody tr th:only-of-type {\n        vertical-align: middle;\n    }\n\n    .dataframe tbody tr th {\n        vertical-align: top;\n    }\n\n    .dataframe thead th {\n        text-align: right;\n    }\n</style>\n<table border=\"1\" class=\"dataframe\">\n  <thead>\n    <tr style=\"text-align: right;\">\n      <th></th>\n      <th>count</th>\n      <th>mean</th>\n      <th>std</th>\n      <th>min</th>\n      <th>25%</th>\n      <th>50%</th>\n      <th>75%</th>\n      <th>max</th>\n    </tr>\n    <tr>\n      <th>default</th>\n      <th></th>\n      <th></th>\n      <th></th>\n      <th></th>\n      <th></th>\n      <th></th>\n      <th></th>\n      <th></th>\n    </tr>\n  </thead>\n  <tbody>\n    <tr>\n      <th>0</th>\n      <td>100776.0</td>\n      <td>39.316742</td>\n      <td>11.517875</td>\n      <td>21.0</td>\n      <td>30.0</td>\n      <td>37.0</td>\n      <td>48.0</td>\n      <td>72.0</td>\n    </tr>\n    <tr>\n      <th>1</th>\n      <td>9372.0</td>\n      <td>38.525395</td>\n      <td>11.495797</td>\n      <td>21.0</td>\n      <td>29.0</td>\n      <td>36.0</td>\n      <td>47.0</td>\n      <td>72.0</td>\n    </tr>\n  </tbody>\n</table>\n</div>"
     },
     "execution_count": 27,
     "metadata": {},
     "output_type": "execute_result"
    }
   ],
   "source": [
    "data.groupby(data['default'])['age'].describe()"
   ]
  },
  {
   "cell_type": "markdown",
   "id": "c6aff9b0",
   "metadata": {
    "papermill": {
     "duration": 0.096997,
     "end_time": "2021-07-13T17:15:46.783040",
     "exception": false,
     "start_time": "2021-07-13T17:15:46.686043",
     "status": "completed"
    },
    "tags": []
   },
   "source": [
    "### Признак 'decline_app_cnt'"
   ]
  },
  {
   "cell_type": "code",
   "execution_count": 28,
   "id": "fd83758d",
   "metadata": {
    "execution": {
     "iopub.execute_input": "2021-07-13T17:15:46.983858Z",
     "iopub.status.busy": "2021-07-13T17:15:46.982818Z",
     "iopub.status.idle": "2021-07-13T17:15:47.376415Z",
     "shell.execute_reply": "2021-07-13T17:15:47.376932Z",
     "shell.execute_reply.started": "2021-07-13T17:13:13.451230Z"
    },
    "papermill": {
     "duration": 0.495793,
     "end_time": "2021-07-13T17:15:47.377126",
     "exception": false,
     "start_time": "2021-07-13T17:15:46.881333",
     "status": "completed"
    },
    "tags": []
   },
   "outputs": [
    {
     "data": {
      "text/plain": "<Figure size 432x288 with 1 Axes>",
      "image/png": "[encoded data removed]"
     },
     "metadata": {
      "needs_background": "light"
     },
     "output_type": "display_data"
    }
   ],
   "source": [
    "hist_plot('decline_app_cnt')"
   ]
  },
  {
   "cell_type": "code",
   "execution_count": 29,
   "id": "78d8661b",
   "metadata": {
    "execution": {
     "iopub.execute_input": "2021-07-13T17:15:47.577057Z",
     "iopub.status.busy": "2021-07-13T17:15:47.575997Z",
     "iopub.status.idle": "2021-07-13T17:15:47.817261Z",
     "shell.execute_reply": "2021-07-13T17:15:47.817812Z",
     "shell.execute_reply.started": "2021-07-13T17:13:14.888086Z"
    },
    "papermill": {
     "duration": 0.342627,
     "end_time": "2021-07-13T17:15:47.817987",
     "exception": false,
     "start_time": "2021-07-13T17:15:47.475360",
     "status": "completed"
    },
    "tags": []
   },
   "outputs": [
    {
     "data": {
      "text/plain": "<AxesSubplot:xlabel='default', ylabel='decline_app_cnt'>"
     },
     "execution_count": 29,
     "metadata": {},
     "output_type": "execute_result"
    },
    {
     "data": {
      "text/plain": "<Figure size 432x288 with 1 Axes>",
      "image/png": "[encoded data removed]"
     },
     "metadata": {
      "needs_background": "light"
     },
     "output_type": "display_data"
    }
   ],
   "source": [
    "sns.boxplot(x='default', y='decline_app_cnt',  data=data, palette={0: \"blue\", 1: \"red\"})"
   ]
  },
  {
   "cell_type": "markdown",
   "id": "121a8a7c",
   "metadata": {
    "papermill": {
     "duration": 0.101012,
     "end_time": "2021-07-13T17:15:48.016687",
     "exception": false,
     "start_time": "2021-07-13T17:15:47.915675",
     "status": "completed"
    },
    "tags": []
   },
   "source": [
    "\n",
    "Распределение по количеству отказов в кредите в категориях плательщиков и неплательщиков"
   ]
  },
  {
   "cell_type": "code",
   "execution_count": 30,
   "id": "d33a4311",
   "metadata": {
    "execution": {
     "iopub.execute_input": "2021-07-13T17:15:48.218324Z",
     "iopub.status.busy": "2021-07-13T17:15:48.217681Z",
     "iopub.status.idle": "2021-07-13T17:15:48.247771Z",
     "shell.execute_reply": "2021-07-13T17:15:48.248288Z",
     "shell.execute_reply.started": "2021-07-13T17:13:16.349836Z"
    },
    "papermill": {
     "duration": 0.132394,
     "end_time": "2021-07-13T17:15:48.248472",
     "exception": false,
     "start_time": "2021-07-13T17:15:48.116078",
     "status": "completed"
    },
    "tags": []
   },
   "outputs": [
    {
     "data": {
      "text/plain": "            count      mean       std  min  25%  50%  75%   max\ndefault                                                        \n0        100776.0  0.250675  0.756137  0.0  0.0  0.0  0.0  33.0\n1          9372.0  0.515472  1.137104  0.0  0.0  0.0  1.0  22.0",
      "text/html": "<div>\n<style scoped>\n    .dataframe tbody tr th:only-of-type {\n        vertical-align: middle;\n    }\n\n    .dataframe tbody tr th {\n        vertical-align: top;\n    }\n\n    .dataframe thead th {\n        text-align: right;\n    }\n</style>\n<table border=\"1\" class=\"dataframe\">\n  <thead>\n    <tr style=\"text-align: right;\">\n      <th></th>\n      <th>count</th>\n      <th>mean</th>\n      <th>std</th>\n      <th>min</th>\n      <th>25%</th>\n      <th>50%</th>\n      <th>75%</th>\n      <th>max</th>\n    </tr>\n    <tr>\n      <th>default</th>\n      <th></th>\n      <th></th>\n      <th></th>\n      <th></th>\n      <th></th>\n      <th></th>\n      <th></th>\n      <th></th>\n    </tr>\n  </thead>\n  <tbody>\n    <tr>\n      <th>0</th>\n      <td>100776.0</td>\n      <td>0.250675</td>\n      <td>0.756137</td>\n      <td>0.0</td>\n      <td>0.0</td>\n      <td>0.0</td>\n      <td>0.0</td>\n      <td>33.0</td>\n    </tr>\n    <tr>\n      <th>1</th>\n      <td>9372.0</td>\n      <td>0.515472</td>\n      <td>1.137104</td>\n      <td>0.0</td>\n      <td>0.0</td>\n      <td>0.0</td>\n      <td>1.0</td>\n      <td>22.0</td>\n    </tr>\n  </tbody>\n</table>\n</div>"
     },
     "execution_count": 30,
     "metadata": {},
     "output_type": "execute_result"
    }
   ],
   "source": [
    "\n",
    "data.groupby(data['default'])['decline_app_cnt'].describe()\n"
   ]
  },
  {
   "cell_type": "code",
   "execution_count": 31,
   "id": "14006906",
   "metadata": {
    "execution": {
     "iopub.execute_input": "2021-07-13T17:15:48.451116Z",
     "iopub.status.busy": "2021-07-13T17:15:48.450365Z",
     "iopub.status.idle": "2021-07-13T17:15:48.458538Z",
     "shell.execute_reply": "2021-07-13T17:15:48.459111Z",
     "shell.execute_reply.started": "2021-07-13T17:13:17.022822Z"
    },
    "papermill": {
     "duration": 0.111014,
     "end_time": "2021-07-13T17:15:48.459302",
     "exception": false,
     "start_time": "2021-07-13T17:15:48.348288",
     "status": "completed"
    },
    "tags": []
   },
   "outputs": [
    {
     "name": "stdout",
     "output_type": "stream",
     "text": [
      "часть строк с '0' значением  в признаке 'decline_app_cnt' составляет 83.04% от общего числа.\n"
     ]
    }
   ],
   "source": [
    "part = data.decline_app_cnt.value_counts()[0] #наибольшее количество строк с одним значением\n",
    "gen = data.shape[0] #общее количество строк\n",
    "\n",
    "print(\"часть строк с '0' значением  в признаке 'decline_app_cnt' составляет {:.2f}% от общего числа.\".format(part/gen*100))\n"
   ]
  },
  {
   "cell_type": "markdown",
   "id": "919d205f",
   "metadata": {
    "papermill": {
     "duration": 0.099123,
     "end_time": "2021-07-13T17:15:48.656717",
     "exception": false,
     "start_time": "2021-07-13T17:15:48.557594",
     "status": "completed"
    },
    "tags": []
   },
   "source": [
    "#### исходя из данных в признаке, где 83% тех, кто не имел отказа, а абсллютное большинство из остальных 17% имеют только 1 отказ в получении кредита, заменим признак на бинарный, где 0- отказов не было, а 1-отказы были. "
   ]
  },
  {
   "cell_type": "code",
   "execution_count": 32,
   "id": "990d3667",
   "metadata": {
    "execution": {
     "iopub.execute_input": "2021-07-13T17:15:48.864896Z",
     "iopub.status.busy": "2021-07-13T17:15:48.862784Z",
     "iopub.status.idle": "2021-07-13T17:15:48.936306Z",
     "shell.execute_reply": "2021-07-13T17:15:48.935688Z",
     "shell.execute_reply.started": "2021-07-13T17:13:18.455152Z"
    },
    "papermill": {
     "duration": 0.180694,
     "end_time": "2021-07-13T17:15:48.936485",
     "exception": false,
     "start_time": "2021-07-13T17:15:48.755791",
     "status": "completed"
    },
    "tags": []
   },
   "outputs": [],
   "source": [
    "data['decline_app_cnt'] = data['decline_app_cnt'].apply(lambda x: 1 if x >= 1 else 0)"
   ]
  },
  {
   "cell_type": "code",
   "execution_count": 33,
   "id": "934867c9",
   "metadata": {
    "execution": {
     "iopub.execute_input": "2021-07-13T17:15:49.156708Z",
     "iopub.status.busy": "2021-07-13T17:15:49.155579Z",
     "iopub.status.idle": "2021-07-13T17:15:49.163916Z",
     "shell.execute_reply": "2021-07-13T17:15:49.164594Z",
     "shell.execute_reply.started": "2021-07-13T17:13:19.241335Z"
    },
    "papermill": {
     "duration": 0.122288,
     "end_time": "2021-07-13T17:15:49.164776",
     "exception": false,
     "start_time": "2021-07-13T17:15:49.042488",
     "status": "completed"
    },
    "tags": []
   },
   "outputs": [
    {
     "data": {
      "text/plain": "0    91471\n1    18677\nName: decline_app_cnt, dtype: int64"
     },
     "execution_count": 33,
     "metadata": {},
     "output_type": "execute_result"
    }
   ],
   "source": [
    "data.decline_app_cnt.value_counts() #Проверка"
   ]
  },
  {
   "cell_type": "markdown",
   "id": "9e691148",
   "metadata": {
    "papermill": {
     "duration": 0.09929,
     "end_time": "2021-07-13T17:15:49.380789",
     "exception": false,
     "start_time": "2021-07-13T17:15:49.281499",
     "status": "completed"
    },
    "tags": []
   },
   "source": [
    "запишем этот признак в бинарный и уберем из числового"
   ]
  },
  {
   "cell_type": "code",
   "execution_count": 34,
   "id": "db24066a",
   "metadata": {
    "execution": {
     "iopub.execute_input": "2021-07-13T17:15:49.584964Z",
     "iopub.status.busy": "2021-07-13T17:15:49.584253Z",
     "iopub.status.idle": "2021-07-13T17:15:49.589382Z",
     "shell.execute_reply": "2021-07-13T17:15:49.589946Z",
     "shell.execute_reply.started": "2021-07-13T17:13:20.786001Z"
    },
    "papermill": {
     "duration": 0.107659,
     "end_time": "2021-07-13T17:15:49.590114",
     "exception": false,
     "start_time": "2021-07-13T17:15:49.482455",
     "status": "completed"
    },
    "tags": []
   },
   "outputs": [
    {
     "data": {
      "text/plain": "['age', 'bki_request_cnt', 'income', 'score_bki', 'region_rating']"
     },
     "execution_count": 34,
     "metadata": {},
     "output_type": "execute_result"
    }
   ],
   "source": [
    "num_cols.remove('decline_app_cnt')\n",
    "num_cols #Проверка"
   ]
  },
  {
   "cell_type": "markdown",
   "id": "b7730571",
   "metadata": {
    "papermill": {
     "duration": 0.098608,
     "end_time": "2021-07-13T17:15:49.788678",
     "exception": false,
     "start_time": "2021-07-13T17:15:49.690070",
     "status": "completed"
    },
    "tags": []
   },
   "source": [
    "### Признак 'bki_request_cnt'"
   ]
  },
  {
   "cell_type": "code",
   "execution_count": 35,
   "id": "f304a3b1",
   "metadata": {
    "execution": {
     "iopub.execute_input": "2021-07-13T17:15:49.990530Z",
     "iopub.status.busy": "2021-07-13T17:15:49.989852Z",
     "iopub.status.idle": "2021-07-13T17:15:50.355565Z",
     "shell.execute_reply": "2021-07-13T17:15:50.356111Z",
     "shell.execute_reply.started": "2021-07-13T17:13:22.291057Z"
    },
    "papermill": {
     "duration": 0.468449,
     "end_time": "2021-07-13T17:15:50.356289",
     "exception": false,
     "start_time": "2021-07-13T17:15:49.887840",
     "status": "completed"
    },
    "tags": []
   },
   "outputs": [
    {
     "data": {
      "text/plain": "<Figure size 432x288 with 1 Axes>",
      "image/png": "[encoded data removed]"
     },
     "metadata": {
      "needs_background": "light"
     },
     "output_type": "display_data"
    }
   ],
   "source": [
    "hist_plot('bki_request_cnt')"
   ]
  },
  {
   "cell_type": "code",
   "execution_count": 36,
   "id": "7768e151",
   "metadata": {
    "execution": {
     "iopub.execute_input": "2021-07-13T17:15:50.564856Z",
     "iopub.status.busy": "2021-07-13T17:15:50.564135Z",
     "iopub.status.idle": "2021-07-13T17:15:50.752480Z",
     "shell.execute_reply": "2021-07-13T17:15:50.752986Z",
     "shell.execute_reply.started": "2021-07-13T17:13:23.250088Z"
    },
    "papermill": {
     "duration": 0.295563,
     "end_time": "2021-07-13T17:15:50.753170",
     "exception": false,
     "start_time": "2021-07-13T17:15:50.457607",
     "status": "completed"
    },
    "tags": []
   },
   "outputs": [
    {
     "data": {
      "text/plain": "<AxesSubplot:xlabel='default', ylabel='bki_request_cnt'>"
     },
     "execution_count": 36,
     "metadata": {},
     "output_type": "execute_result"
    },
    {
     "data": {
      "text/plain": "<Figure size 432x288 with 1 Axes>",
      "image/png": "[encoded data removed]"
     },
     "metadata": {
      "needs_background": "light"
     },
     "output_type": "display_data"
    }
   ],
   "source": [
    "sns.boxplot(x='default', y='bki_request_cnt',  data=data, palette={0: \"blue\", 1: \"red\"})"
   ]
  },
  {
   "cell_type": "markdown",
   "id": "47c097ff",
   "metadata": {
    "papermill": {
     "duration": 0.100001,
     "end_time": "2021-07-13T17:15:50.954075",
     "exception": false,
     "start_time": "2021-07-13T17:15:50.854074",
     "status": "completed"
    },
    "tags": []
   },
   "source": [
    "##### Распределение по количеству запросов в БКИ  в категориях плательщиков и неплательщиков"
   ]
  },
  {
   "cell_type": "code",
   "execution_count": 37,
   "id": "b4af6d77",
   "metadata": {
    "execution": {
     "iopub.execute_input": "2021-07-13T17:15:51.160363Z",
     "iopub.status.busy": "2021-07-13T17:15:51.159343Z",
     "iopub.status.idle": "2021-07-13T17:15:51.192712Z",
     "shell.execute_reply": "2021-07-13T17:15:51.192171Z",
     "shell.execute_reply.started": "2021-07-13T17:13:24.793450Z"
    },
    "papermill": {
     "duration": 0.137968,
     "end_time": "2021-07-13T17:15:51.192919",
     "exception": false,
     "start_time": "2021-07-13T17:15:51.054951",
     "status": "completed"
    },
    "tags": []
   },
   "outputs": [
    {
     "data": {
      "text/plain": "            count      mean       std  min  25%  50%  75%   max\ndefault                                                        \n0        100776.0  1.962471  2.214528  0.0  0.0  1.0  3.0  53.0\n1          9372.0  2.462335  2.726922  0.0  1.0  2.0  3.0  46.0",
      "text/html": "<div>\n<style scoped>\n    .dataframe tbody tr th:only-of-type {\n        vertical-align: middle;\n    }\n\n    .dataframe tbody tr th {\n        vertical-align: top;\n    }\n\n    .dataframe thead th {\n        text-align: right;\n    }\n</style>\n<table border=\"1\" class=\"dataframe\">\n  <thead>\n    <tr style=\"text-align: right;\">\n      <th></th>\n      <th>count</th>\n      <th>mean</th>\n      <th>std</th>\n      <th>min</th>\n      <th>25%</th>\n      <th>50%</th>\n      <th>75%</th>\n      <th>max</th>\n    </tr>\n    <tr>\n      <th>default</th>\n      <th></th>\n      <th></th>\n      <th></th>\n      <th></th>\n      <th></th>\n      <th></th>\n      <th></th>\n      <th></th>\n    </tr>\n  </thead>\n  <tbody>\n    <tr>\n      <th>0</th>\n      <td>100776.0</td>\n      <td>1.962471</td>\n      <td>2.214528</td>\n      <td>0.0</td>\n      <td>0.0</td>\n      <td>1.0</td>\n      <td>3.0</td>\n      <td>53.0</td>\n    </tr>\n    <tr>\n      <th>1</th>\n      <td>9372.0</td>\n      <td>2.462335</td>\n      <td>2.726922</td>\n      <td>0.0</td>\n      <td>1.0</td>\n      <td>2.0</td>\n      <td>3.0</td>\n      <td>46.0</td>\n    </tr>\n  </tbody>\n</table>\n</div>"
     },
     "execution_count": 37,
     "metadata": {},
     "output_type": "execute_result"
    }
   ],
   "source": [
    "data.groupby(data['default'])['bki_request_cnt'].describe()"
   ]
  },
  {
   "cell_type": "markdown",
   "id": "a9a12519",
   "metadata": {
    "papermill": {
     "duration": 0.100276,
     "end_time": "2021-07-13T17:15:51.395876",
     "exception": false,
     "start_time": "2021-07-13T17:15:51.295600",
     "status": "completed"
    },
    "tags": []
   },
   "source": [
    "### Признак 'income'"
   ]
  },
  {
   "cell_type": "code",
   "execution_count": 38,
   "id": "05c22d9a",
   "metadata": {
    "execution": {
     "iopub.execute_input": "2021-07-13T17:15:51.603938Z",
     "iopub.status.busy": "2021-07-13T17:15:51.603132Z",
     "iopub.status.idle": "2021-07-13T17:15:51.985195Z",
     "shell.execute_reply": "2021-07-13T17:15:51.984660Z",
     "shell.execute_reply.started": "2021-07-13T17:13:26.086307Z"
    },
    "papermill": {
     "duration": 0.487764,
     "end_time": "2021-07-13T17:15:51.985343",
     "exception": false,
     "start_time": "2021-07-13T17:15:51.497579",
     "status": "completed"
    },
    "tags": []
   },
   "outputs": [
    {
     "data": {
      "text/plain": "<Figure size 432x288 with 1 Axes>",
      "image/png": "[encoded data removed]"
     },
     "metadata": {
      "needs_background": "light"
     },
     "output_type": "display_data"
    }
   ],
   "source": [
    "hist_plot('income')"
   ]
  },
  {
   "cell_type": "code",
   "execution_count": 39,
   "id": "766f3a36",
   "metadata": {
    "execution": {
     "iopub.execute_input": "2021-07-13T17:15:52.198637Z",
     "iopub.status.busy": "2021-07-13T17:15:52.197958Z",
     "iopub.status.idle": "2021-07-13T17:15:52.399233Z",
     "shell.execute_reply": "2021-07-13T17:15:52.399758Z",
     "shell.execute_reply.started": "2021-07-13T17:13:26.866982Z"
    },
    "papermill": {
     "duration": 0.309257,
     "end_time": "2021-07-13T17:15:52.399935",
     "exception": false,
     "start_time": "2021-07-13T17:15:52.090678",
     "status": "completed"
    },
    "tags": []
   },
   "outputs": [
    {
     "data": {
      "text/plain": "<AxesSubplot:xlabel='default', ylabel='income'>"
     },
     "execution_count": 39,
     "metadata": {},
     "output_type": "execute_result"
    },
    {
     "data": {
      "text/plain": "<Figure size 432x288 with 1 Axes>",
      "image/png": "[encoded data removed]"
     },
     "metadata": {
      "needs_background": "light"
     },
     "output_type": "display_data"
    }
   ],
   "source": [
    "sns.boxplot(x='default', y='income',  data=data, palette={0: \"blue\", 1: \"red\"})"
   ]
  },
  {
   "cell_type": "markdown",
   "id": "e59e459d",
   "metadata": {
    "papermill": {
     "duration": 0.104021,
     "end_time": "2021-07-13T17:15:52.607482",
     "exception": false,
     "start_time": "2021-07-13T17:15:52.503461",
     "status": "completed"
    },
    "tags": []
   },
   "source": [
    "##### Распределение по доходам в категориях плательщиков и неплательщиков"
   ]
  },
  {
   "cell_type": "code",
   "execution_count": 40,
   "id": "99da1f5d",
   "metadata": {
    "execution": {
     "iopub.execute_input": "2021-07-13T17:15:52.817163Z",
     "iopub.status.busy": "2021-07-13T17:15:52.816450Z",
     "iopub.status.idle": "2021-07-13T17:15:52.849741Z",
     "shell.execute_reply": "2021-07-13T17:15:52.850297Z",
     "shell.execute_reply.started": "2021-07-13T17:13:28.392146Z"
    },
    "papermill": {
     "duration": 0.140183,
     "end_time": "2021-07-13T17:15:52.850502",
     "exception": false,
     "start_time": "2021-07-13T17:15:52.710319",
     "status": "completed"
    },
    "tags": []
   },
   "outputs": [
    {
     "data": {
      "text/plain": "            count          mean           std     min      25%      50%  \\\ndefault                                                                   \n0        100776.0  41452.022436  45842.903800  1000.0  20000.0  30000.0   \n1          9372.0  36288.113316  40026.389614  3700.0  20000.0  28000.0   \n\n             75%        max  \ndefault                      \n0        50000.0  1000000.0  \n1        40000.0   830000.0  ",
      "text/html": "<div>\n<style scoped>\n    .dataframe tbody tr th:only-of-type {\n        vertical-align: middle;\n    }\n\n    .dataframe tbody tr th {\n        vertical-align: top;\n    }\n\n    .dataframe thead th {\n        text-align: right;\n    }\n</style>\n<table border=\"1\" class=\"dataframe\">\n  <thead>\n    <tr style=\"text-align: right;\">\n      <th></th>\n      <th>count</th>\n      <th>mean</th>\n      <th>std</th>\n      <th>min</th>\n      <th>25%</th>\n      <th>50%</th>\n      <th>75%</th>\n      <th>max</th>\n    </tr>\n    <tr>\n      <th>default</th>\n      <th></th>\n      <th></th>\n      <th></th>\n      <th></th>\n      <th></th>\n      <th></th>\n      <th></th>\n      <th></th>\n    </tr>\n  </thead>\n  <tbody>\n    <tr>\n      <th>0</th>\n      <td>100776.0</td>\n      <td>41452.022436</td>\n      <td>45842.903800</td>\n      <td>1000.0</td>\n      <td>20000.0</td>\n      <td>30000.0</td>\n      <td>50000.0</td>\n      <td>1000000.0</td>\n    </tr>\n    <tr>\n      <th>1</th>\n      <td>9372.0</td>\n      <td>36288.113316</td>\n      <td>40026.389614</td>\n      <td>3700.0</td>\n      <td>20000.0</td>\n      <td>28000.0</td>\n      <td>40000.0</td>\n      <td>830000.0</td>\n    </tr>\n  </tbody>\n</table>\n</div>"
     },
     "execution_count": 40,
     "metadata": {},
     "output_type": "execute_result"
    }
   ],
   "source": [
    "data.groupby(data['default'])['income'].describe()"
   ]
  },
  {
   "cell_type": "markdown",
   "id": "6f46b48f",
   "metadata": {
    "papermill": {
     "duration": 0.106733,
     "end_time": "2021-07-13T17:15:53.061290",
     "exception": false,
     "start_time": "2021-07-13T17:15:52.954557",
     "status": "completed"
    },
    "tags": []
   },
   "source": [
    "### Признак 'score_bki'"
   ]
  },
  {
   "cell_type": "code",
   "execution_count": 41,
   "id": "9adcf91e",
   "metadata": {
    "execution": {
     "iopub.execute_input": "2021-07-13T17:15:53.282088Z",
     "iopub.status.busy": "2021-07-13T17:15:53.281407Z",
     "iopub.status.idle": "2021-07-13T17:15:53.655419Z",
     "shell.execute_reply": "2021-07-13T17:15:53.654883Z",
     "shell.execute_reply.started": "2021-07-13T17:13:29.914092Z"
    },
    "papermill": {
     "duration": 0.485141,
     "end_time": "2021-07-13T17:15:53.655585",
     "exception": false,
     "start_time": "2021-07-13T17:15:53.170444",
     "status": "completed"
    },
    "tags": []
   },
   "outputs": [
    {
     "data": {
      "text/plain": "<Figure size 432x288 with 1 Axes>",
      "image/png": "[encoded data removed]"
     },
     "metadata": {
      "needs_background": "light"
     },
     "output_type": "display_data"
    }
   ],
   "source": [
    "hist_plot('score_bki')"
   ]
  },
  {
   "cell_type": "code",
   "execution_count": 42,
   "id": "8e549519",
   "metadata": {
    "execution": {
     "iopub.execute_input": "2021-07-13T17:15:53.872061Z",
     "iopub.status.busy": "2021-07-13T17:15:53.871320Z",
     "iopub.status.idle": "2021-07-13T17:15:54.059915Z",
     "shell.execute_reply": "2021-07-13T17:15:54.060427Z",
     "shell.execute_reply.started": "2021-07-13T17:13:31.102704Z"
    },
    "papermill": {
     "duration": 0.299746,
     "end_time": "2021-07-13T17:15:54.060642",
     "exception": false,
     "start_time": "2021-07-13T17:15:53.760896",
     "status": "completed"
    },
    "tags": []
   },
   "outputs": [
    {
     "data": {
      "text/plain": "<AxesSubplot:xlabel='default', ylabel='score_bki'>"
     },
     "execution_count": 42,
     "metadata": {},
     "output_type": "execute_result"
    },
    {
     "data": {
      "text/plain": "<Figure size 432x288 with 1 Axes>",
      "image/png": "[encoded data removed]"
     },
     "metadata": {
      "needs_background": "light"
     },
     "output_type": "display_data"
    }
   ],
   "source": [
    "sns.boxplot(x='default', y='score_bki',  data=data, palette={0: \"blue\", 1: \"red\"})"
   ]
  },
  {
   "cell_type": "markdown",
   "id": "59fd40b6",
   "metadata": {
    "papermill": {
     "duration": 0.107507,
     "end_time": "2021-07-13T17:15:54.274173",
     "exception": false,
     "start_time": "2021-07-13T17:15:54.166666",
     "status": "completed"
    },
    "tags": []
   },
   "source": [
    "##### Распределение по оценкам БКИ в категориях плательщиков и неплательщиков"
   ]
  },
  {
   "cell_type": "code",
   "execution_count": 43,
   "id": "ed7c3d86",
   "metadata": {
    "execution": {
     "iopub.execute_input": "2021-07-13T17:15:54.488223Z",
     "iopub.status.busy": "2021-07-13T17:15:54.487548Z",
     "iopub.status.idle": "2021-07-13T17:15:54.520200Z",
     "shell.execute_reply": "2021-07-13T17:15:54.519655Z",
     "shell.execute_reply.started": "2021-07-13T17:13:32.538450Z"
    },
    "papermill": {
     "duration": 0.141155,
     "end_time": "2021-07-13T17:15:54.520355",
     "exception": false,
     "start_time": "2021-07-13T17:15:54.379200",
     "status": "completed"
    },
    "tags": []
   },
   "outputs": [
    {
     "data": {
      "text/plain": "            count      mean       std       min       25%       50%       75%  \\\ndefault                                                                         \n0        100776.0 -1.925822  0.494479 -3.624586 -2.275984 -1.943587 -1.593718   \n1          9372.0 -1.675637  0.494691 -3.456086 -2.015871 -1.683857 -1.337922   \n\n              max  \ndefault            \n0        0.199773  \n1        0.199773  ",
      "text/html": "<div>\n<style scoped>\n    .dataframe tbody tr th:only-of-type {\n        vertical-align: middle;\n    }\n\n    .dataframe tbody tr th {\n        vertical-align: top;\n    }\n\n    .dataframe thead th {\n        text-align: right;\n    }\n</style>\n<table border=\"1\" class=\"dataframe\">\n  <thead>\n    <tr style=\"text-align: right;\">\n      <th></th>\n      <th>count</th>\n      <th>mean</th>\n      <th>std</th>\n      <th>min</th>\n      <th>25%</th>\n      <th>50%</th>\n      <th>75%</th>\n      <th>max</th>\n    </tr>\n    <tr>\n      <th>default</th>\n      <th></th>\n      <th></th>\n      <th></th>\n      <th></th>\n      <th></th>\n      <th></th>\n      <th></th>\n      <th></th>\n    </tr>\n  </thead>\n  <tbody>\n    <tr>\n      <th>0</th>\n      <td>100776.0</td>\n      <td>-1.925822</td>\n      <td>0.494479</td>\n      <td>-3.624586</td>\n      <td>-2.275984</td>\n      <td>-1.943587</td>\n      <td>-1.593718</td>\n      <td>0.199773</td>\n    </tr>\n    <tr>\n      <th>1</th>\n      <td>9372.0</td>\n      <td>-1.675637</td>\n      <td>0.494691</td>\n      <td>-3.456086</td>\n      <td>-2.015871</td>\n      <td>-1.683857</td>\n      <td>-1.337922</td>\n      <td>0.199773</td>\n    </tr>\n  </tbody>\n</table>\n</div>"
     },
     "execution_count": 43,
     "metadata": {},
     "output_type": "execute_result"
    }
   ],
   "source": [
    "data.groupby(data['default'])['score_bki'].describe()"
   ]
  },
  {
   "cell_type": "markdown",
   "id": "22faacda",
   "metadata": {
    "papermill": {
     "duration": 0.104737,
     "end_time": "2021-07-13T17:15:54.730865",
     "exception": false,
     "start_time": "2021-07-13T17:15:54.626128",
     "status": "completed"
    },
    "tags": []
   },
   "source": [
    "### Признак 'region_rating'"
   ]
  },
  {
   "cell_type": "code",
   "execution_count": 44,
   "id": "594f90e5",
   "metadata": {
    "execution": {
     "iopub.execute_input": "2021-07-13T17:15:54.951484Z",
     "iopub.status.busy": "2021-07-13T17:15:54.950760Z",
     "iopub.status.idle": "2021-07-13T17:15:55.508308Z",
     "shell.execute_reply": "2021-07-13T17:15:55.508827Z",
     "shell.execute_reply.started": "2021-07-13T17:13:34.158638Z"
    },
    "papermill": {
     "duration": 0.67032,
     "end_time": "2021-07-13T17:15:55.509021",
     "exception": false,
     "start_time": "2021-07-13T17:15:54.838701",
     "status": "completed"
    },
    "tags": []
   },
   "outputs": [
    {
     "data": {
      "text/plain": "<Figure size 432x288 with 1 Axes>",
      "image/png": "[encoded data removed]"
     },
     "metadata": {
      "needs_background": "light"
     },
     "output_type": "display_data"
    }
   ],
   "source": [
    "hist_plot('region_rating')"
   ]
  },
  {
   "cell_type": "code",
   "execution_count": 45,
   "id": "c1fdb7e6",
   "metadata": {
    "execution": {
     "iopub.execute_input": "2021-07-13T17:15:55.725583Z",
     "iopub.status.busy": "2021-07-13T17:15:55.724891Z",
     "iopub.status.idle": "2021-07-13T17:15:55.978985Z",
     "shell.execute_reply": "2021-07-13T17:15:55.979652Z",
     "shell.execute_reply.started": "2021-07-13T17:13:34.949497Z"
    },
    "papermill": {
     "duration": 0.363863,
     "end_time": "2021-07-13T17:15:55.979864",
     "exception": false,
     "start_time": "2021-07-13T17:15:55.616001",
     "status": "completed"
    },
    "tags": []
   },
   "outputs": [
    {
     "data": {
      "text/plain": "<AxesSubplot:xlabel='default', ylabel='region_rating'>"
     },
     "execution_count": 45,
     "metadata": {},
     "output_type": "execute_result"
    },
    {
     "data": {
      "text/plain": "<Figure size 432x288 with 1 Axes>",
      "image/png": "[encoded data removed]"
     },
     "metadata": {
      "needs_background": "light"
     },
     "output_type": "display_data"
    }
   ],
   "source": [
    "sns.boxplot(x='default', y='region_rating',  data=data, palette={0: \"blue\", 1: \"red\"})"
   ]
  },
  {
   "cell_type": "markdown",
   "id": "8376f2fc",
   "metadata": {
    "papermill": {
     "duration": 0.108073,
     "end_time": "2021-07-13T17:15:56.199223",
     "exception": false,
     "start_time": "2021-07-13T17:15:56.091150",
     "status": "completed"
    },
    "tags": []
   },
   "source": [
    "##### Распределение по рейтингу регионов в категориях плательщиков и неплательщиков"
   ]
  },
  {
   "cell_type": "code",
   "execution_count": 46,
   "id": "4002b67a",
   "metadata": {
    "execution": {
     "iopub.execute_input": "2021-07-13T17:15:56.422296Z",
     "iopub.status.busy": "2021-07-13T17:15:56.421594Z",
     "iopub.status.idle": "2021-07-13T17:15:56.454275Z",
     "shell.execute_reply": "2021-07-13T17:15:56.454834Z",
     "shell.execute_reply.started": "2021-07-13T17:13:36.563984Z"
    },
    "papermill": {
     "duration": 0.144243,
     "end_time": "2021-07-13T17:15:56.455045",
     "exception": false,
     "start_time": "2021-07-13T17:15:56.310802",
     "status": "completed"
    },
    "tags": []
   },
   "outputs": [
    {
     "data": {
      "text/plain": "            count       mean        std   min   25%   50%   75%   max\ndefault                                                              \n0        100776.0  57.036993  13.131114  20.0  50.0  50.0  60.0  80.0\n1          9372.0  53.677977  11.918337  20.0  50.0  50.0  60.0  80.0",
      "text/html": "<div>\n<style scoped>\n    .dataframe tbody tr th:only-of-type {\n        vertical-align: middle;\n    }\n\n    .dataframe tbody tr th {\n        vertical-align: top;\n    }\n\n    .dataframe thead th {\n        text-align: right;\n    }\n</style>\n<table border=\"1\" class=\"dataframe\">\n  <thead>\n    <tr style=\"text-align: right;\">\n      <th></th>\n      <th>count</th>\n      <th>mean</th>\n      <th>std</th>\n      <th>min</th>\n      <th>25%</th>\n      <th>50%</th>\n      <th>75%</th>\n      <th>max</th>\n    </tr>\n    <tr>\n      <th>default</th>\n      <th></th>\n      <th></th>\n      <th></th>\n      <th></th>\n      <th></th>\n      <th></th>\n      <th></th>\n      <th></th>\n    </tr>\n  </thead>\n  <tbody>\n    <tr>\n      <th>0</th>\n      <td>100776.0</td>\n      <td>57.036993</td>\n      <td>13.131114</td>\n      <td>20.0</td>\n      <td>50.0</td>\n      <td>50.0</td>\n      <td>60.0</td>\n      <td>80.0</td>\n    </tr>\n    <tr>\n      <th>1</th>\n      <td>9372.0</td>\n      <td>53.677977</td>\n      <td>11.918337</td>\n      <td>20.0</td>\n      <td>50.0</td>\n      <td>50.0</td>\n      <td>60.0</td>\n      <td>80.0</td>\n    </tr>\n  </tbody>\n</table>\n</div>"
     },
     "execution_count": 46,
     "metadata": {},
     "output_type": "execute_result"
    }
   ],
   "source": [
    "data.groupby(data['default'])['region_rating'].describe()"
   ]
  },
  {
   "cell_type": "markdown",
   "id": "bf6aab6b",
   "metadata": {
    "papermill": {
     "duration": 0.109457,
     "end_time": "2021-07-13T17:15:56.673335",
     "exception": false,
     "start_time": "2021-07-13T17:15:56.563878",
     "status": "completed"
    },
    "tags": []
   },
   "source": [
    "### Все числовые данные содержат выбросы и несбалансированы\n",
    "### для корректой работы скоринговой модели заменим выбросы на медианные значения по каждому признаку"
   ]
  },
  {
   "cell_type": "code",
   "execution_count": 47,
   "id": "dbd01528",
   "metadata": {
    "execution": {
     "iopub.execute_input": "2021-07-13T17:15:56.892664Z",
     "iopub.status.busy": "2021-07-13T17:15:56.892008Z",
     "iopub.status.idle": "2021-07-13T17:15:57.694318Z",
     "shell.execute_reply": "2021-07-13T17:15:57.694910Z",
     "shell.execute_reply.started": "2021-07-13T17:13:38.170162Z"
    },
    "papermill": {
     "duration": 0.913645,
     "end_time": "2021-07-13T17:15:57.695111",
     "exception": false,
     "start_time": "2021-07-13T17:15:56.781466",
     "status": "completed"
    },
    "tags": []
   },
   "outputs": [],
   "source": [
    "for col in num_cols:\n",
    "    data[col] = subset_by_iqr(data, col, whisker_width=1.5)"
   ]
  },
  {
   "cell_type": "code",
   "execution_count": 48,
   "id": "41da14f5",
   "metadata": {
    "execution": {
     "iopub.execute_input": "2021-07-13T17:15:57.915360Z",
     "iopub.status.busy": "2021-07-13T17:15:57.914690Z",
     "iopub.status.idle": "2021-07-13T17:15:57.966617Z",
     "shell.execute_reply": "2021-07-13T17:15:57.967156Z",
     "shell.execute_reply.started": "2021-07-13T17:13:39.032981Z"
    },
    "papermill": {
     "duration": 0.163781,
     "end_time": "2021-07-13T17:15:57.967328",
     "exception": false,
     "start_time": "2021-07-13T17:15:57.803547",
     "status": "completed"
    },
    "tags": []
   },
   "outputs": [
    {
     "data": {
      "text/plain": "                 age  bki_request_cnt         income      score_bki  \\\ncount  110148.000000    110148.000000  110148.000000  110148.000000   \nmean       39.249410         1.764635   32165.580201      -1.909583   \nstd        11.518063         1.660476   16706.622124       0.488131   \nmin        21.000000         0.000000    1000.000000      -3.298952   \n25%        30.000000         0.000000   20000.000000      -2.259268   \n50%        37.000000         1.000000   30000.000000      -1.920823   \n75%        48.000000         3.000000   40000.000000      -1.574614   \nmax        72.000000         7.000000   89000.000000      -0.530358   \n\n       region_rating  \ncount  110148.000000  \nmean       52.238806  \nstd         8.176620  \nmin        40.000000  \n25%        50.000000  \n50%        50.000000  \n75%        60.000000  \nmax        70.000000  ",
      "text/html": "<div>\n<style scoped>\n    .dataframe tbody tr th:only-of-type {\n        vertical-align: middle;\n    }\n\n    .dataframe tbody tr th {\n        vertical-align: top;\n    }\n\n    .dataframe thead th {\n        text-align: right;\n    }\n</style>\n<table border=\"1\" class=\"dataframe\">\n  <thead>\n    <tr style=\"text-align: right;\">\n      <th></th>\n      <th>age</th>\n      <th>bki_request_cnt</th>\n      <th>income</th>\n      <th>score_bki</th>\n      <th>region_rating</th>\n    </tr>\n  </thead>\n  <tbody>\n    <tr>\n      <th>count</th>\n      <td>110148.000000</td>\n      <td>110148.000000</td>\n      <td>110148.000000</td>\n      <td>110148.000000</td>\n      <td>110148.000000</td>\n    </tr>\n    <tr>\n      <th>mean</th>\n      <td>39.249410</td>\n      <td>1.764635</td>\n      <td>32165.580201</td>\n      <td>-1.909583</td>\n      <td>52.238806</td>\n    </tr>\n    <tr>\n      <th>std</th>\n      <td>11.518063</td>\n      <td>1.660476</td>\n      <td>16706.622124</td>\n      <td>0.488131</td>\n      <td>8.176620</td>\n    </tr>\n    <tr>\n      <th>min</th>\n      <td>21.000000</td>\n      <td>0.000000</td>\n      <td>1000.000000</td>\n      <td>-3.298952</td>\n      <td>40.000000</td>\n    </tr>\n    <tr>\n      <th>25%</th>\n      <td>30.000000</td>\n      <td>0.000000</td>\n      <td>20000.000000</td>\n      <td>-2.259268</td>\n      <td>50.000000</td>\n    </tr>\n    <tr>\n      <th>50%</th>\n      <td>37.000000</td>\n      <td>1.000000</td>\n      <td>30000.000000</td>\n      <td>-1.920823</td>\n      <td>50.000000</td>\n    </tr>\n    <tr>\n      <th>75%</th>\n      <td>48.000000</td>\n      <td>3.000000</td>\n      <td>40000.000000</td>\n      <td>-1.574614</td>\n      <td>60.000000</td>\n    </tr>\n    <tr>\n      <th>max</th>\n      <td>72.000000</td>\n      <td>7.000000</td>\n      <td>89000.000000</td>\n      <td>-0.530358</td>\n      <td>70.000000</td>\n    </tr>\n  </tbody>\n</table>\n</div>"
     },
     "execution_count": 48,
     "metadata": {},
     "output_type": "execute_result"
    }
   ],
   "source": [
    "data[num_cols].describe() # проверяем распределение числовых признаков"
   ]
  },
  {
   "cell_type": "code",
   "execution_count": 49,
   "id": "5801b66f",
   "metadata": {
    "execution": {
     "iopub.execute_input": "2021-07-13T17:15:58.231820Z",
     "iopub.status.busy": "2021-07-13T17:15:58.231092Z",
     "iopub.status.idle": "2021-07-13T17:15:58.246537Z",
     "shell.execute_reply": "2021-07-13T17:15:58.245977Z",
     "shell.execute_reply.started": "2021-07-13T17:13:39.914730Z"
    },
    "papermill": {
     "duration": 0.143963,
     "end_time": "2021-07-13T17:15:58.246685",
     "exception": false,
     "start_time": "2021-07-13T17:15:58.102722",
     "status": "completed"
    },
    "tags": []
   },
   "outputs": [
    {
     "data": {
      "text/plain": "age                0\nbki_request_cnt    0\nincome             0\nscore_bki          0\nregion_rating      0\ndtype: int64"
     },
     "execution_count": 49,
     "metadata": {},
     "output_type": "execute_result"
    }
   ],
   "source": [
    "data[num_cols].isna().sum() # NAN значения в числовых данных"
   ]
  },
  {
   "cell_type": "markdown",
   "id": "e3357695",
   "metadata": {
    "papermill": {
     "duration": 0.11013,
     "end_time": "2021-07-13T17:15:58.479613",
     "exception": false,
     "start_time": "2021-07-13T17:15:58.369483",
     "status": "completed"
    },
    "tags": []
   },
   "source": [
    "### Значимость числовых переменных"
   ]
  },
  {
   "cell_type": "code",
   "execution_count": 50,
   "id": "dcaf82ae",
   "metadata": {
    "execution": {
     "iopub.execute_input": "2021-07-13T17:15:58.701787Z",
     "iopub.status.busy": "2021-07-13T17:15:58.700771Z",
     "iopub.status.idle": "2021-07-13T17:15:58.932619Z",
     "shell.execute_reply": "2021-07-13T17:15:58.931504Z",
     "shell.execute_reply.started": "2021-07-13T17:13:41.501964Z"
    },
    "papermill": {
     "duration": 0.343824,
     "end_time": "2021-07-13T17:15:58.932783",
     "exception": false,
     "start_time": "2021-07-13T17:15:58.588959",
     "status": "completed"
    },
    "tags": []
   },
   "outputs": [
    {
     "data": {
      "text/plain": "<AxesSubplot:>"
     },
     "execution_count": 50,
     "metadata": {},
     "output_type": "execute_result"
    },
    {
     "data": {
      "text/plain": "<Figure size 432x288 with 1 Axes>",
      "image/png": "[encoded data removed]"
     },
     "metadata": {
      "needs_background": "light"
     },
     "output_type": "display_data"
    }
   ],
   "source": [
    "imp_num = pd.Series(f_classif(data[num_cols], data['default'])[0], index = num_cols)\n",
    "imp_num.sort_values(inplace = True)\n",
    "imp_num.plot(kind = 'barh')"
   ]
  },
  {
   "cell_type": "markdown",
   "id": "bf4ebe71",
   "metadata": {
    "papermill": {
     "duration": 0.11492,
     "end_time": "2021-07-13T17:15:59.161107",
     "exception": false,
     "start_time": "2021-07-13T17:15:59.046187",
     "status": "completed"
    },
    "tags": []
   },
   "source": [
    "## Бинарные признаки"
   ]
  },
  {
   "cell_type": "code",
   "execution_count": 51,
   "id": "4b62f22c",
   "metadata": {
    "execution": {
     "iopub.execute_input": "2021-07-13T17:15:59.388929Z",
     "iopub.status.busy": "2021-07-13T17:15:59.388223Z",
     "iopub.status.idle": "2021-07-13T17:15:59.390329Z",
     "shell.execute_reply": "2021-07-13T17:15:59.390848Z",
     "shell.execute_reply.started": "2021-07-13T17:13:43.132487Z"
    },
    "papermill": {
     "duration": 0.118221,
     "end_time": "2021-07-13T17:15:59.391019",
     "exception": false,
     "start_time": "2021-07-13T17:15:59.272798",
     "status": "completed"
    },
    "tags": []
   },
   "outputs": [],
   "source": [
    "bin_cols = ['decline_app_cnt','sex','car', 'car_type', 'good_work', 'foreign_passport']"
   ]
  },
  {
   "cell_type": "code",
   "execution_count": 52,
   "id": "d4d5933a",
   "metadata": {
    "execution": {
     "iopub.execute_input": "2021-07-13T17:15:59.615457Z",
     "iopub.status.busy": "2021-07-13T17:15:59.614791Z",
     "iopub.status.idle": "2021-07-13T17:15:59.874341Z",
     "shell.execute_reply": "2021-07-13T17:15:59.873800Z",
     "shell.execute_reply.started": "2021-07-13T17:13:43.876121Z"
    },
    "papermill": {
     "duration": 0.371934,
     "end_time": "2021-07-13T17:15:59.874491",
     "exception": false,
     "start_time": "2021-07-13T17:15:59.502557",
     "status": "completed"
    },
    "tags": []
   },
   "outputs": [
    {
     "data": {
      "text/plain": "<Figure size 432x288 with 1 Axes>",
      "image/png": "[encoded data removed]"
     },
     "metadata": {
      "needs_background": "light"
     },
     "output_type": "display_data"
    },
    {
     "name": "stdout",
     "output_type": "stream",
     "text": [
      "Доля дефолта от общего количества \n",
      " 0    0.073302\n",
      "1    0.142796\n",
      "Name: decline_app_cnt, dtype: float64\n"
     ]
    }
   ],
   "source": [
    "bin_plot('decline_app_cnt')"
   ]
  },
  {
   "cell_type": "code",
   "execution_count": 53,
   "id": "d8502d06",
   "metadata": {
    "execution": {
     "iopub.execute_input": "2021-07-13T17:16:00.108418Z",
     "iopub.status.busy": "2021-07-13T17:16:00.105050Z",
     "iopub.status.idle": "2021-07-13T17:16:00.422787Z",
     "shell.execute_reply": "2021-07-13T17:16:00.422259Z",
     "shell.execute_reply.started": "2021-07-13T17:13:44.654525Z"
    },
    "papermill": {
     "duration": 0.436751,
     "end_time": "2021-07-13T17:16:00.422933",
     "exception": false,
     "start_time": "2021-07-13T17:15:59.986182",
     "status": "completed"
    },
    "tags": []
   },
   "outputs": [
    {
     "data": {
      "text/plain": "<Figure size 432x288 with 1 Axes>",
      "image/png": "[encoded data removed]"
     },
     "metadata": {
      "needs_background": "light"
     },
     "output_type": "display_data"
    },
    {
     "name": "stdout",
     "output_type": "stream",
     "text": [
      "Доля дефолта от общего количества \n",
      " F    0.081490\n",
      "M    0.089688\n",
      "Name: sex, dtype: float64\n"
     ]
    }
   ],
   "source": [
    "bin_plot('sex')"
   ]
  },
  {
   "cell_type": "code",
   "execution_count": 54,
   "id": "4633340f",
   "metadata": {
    "execution": {
     "iopub.execute_input": "2021-07-13T17:16:00.655607Z",
     "iopub.status.busy": "2021-07-13T17:16:00.654551Z",
     "iopub.status.idle": "2021-07-13T17:16:00.951770Z",
     "shell.execute_reply": "2021-07-13T17:16:00.951226Z",
     "shell.execute_reply.started": "2021-07-13T17:13:45.434841Z"
    },
    "papermill": {
     "duration": 0.414611,
     "end_time": "2021-07-13T17:16:00.951926",
     "exception": false,
     "start_time": "2021-07-13T17:16:00.537315",
     "status": "completed"
    },
    "tags": []
   },
   "outputs": [
    {
     "data": {
      "text/plain": "<Figure size 432x288 with 1 Axes>",
      "image/png": "[encoded data removed]"
     },
     "metadata": {
      "needs_background": "light"
     },
     "output_type": "display_data"
    },
    {
     "name": "stdout",
     "output_type": "stream",
     "text": [
      "Доля дефолта от общего количества \n",
      " N    0.09187\n",
      "Y    0.07103\n",
      "Name: car, dtype: float64\n"
     ]
    }
   ],
   "source": [
    "bin_plot('car')"
   ]
  },
  {
   "cell_type": "code",
   "execution_count": 55,
   "id": "9d7eb716",
   "metadata": {
    "execution": {
     "iopub.execute_input": "2021-07-13T17:16:01.185552Z",
     "iopub.status.busy": "2021-07-13T17:16:01.182550Z",
     "iopub.status.idle": "2021-07-13T17:16:01.458779Z",
     "shell.execute_reply": "2021-07-13T17:16:01.459300Z",
     "shell.execute_reply.started": "2021-07-13T17:13:46.251013Z"
    },
    "papermill": {
     "duration": 0.394323,
     "end_time": "2021-07-13T17:16:01.459483",
     "exception": false,
     "start_time": "2021-07-13T17:16:01.065160",
     "status": "completed"
    },
    "tags": []
   },
   "outputs": [
    {
     "data": {
      "text/plain": "<Figure size 432x288 with 1 Axes>",
      "image/png": "[encoded data removed]"
     },
     "metadata": {
      "needs_background": "light"
     },
     "output_type": "display_data"
    },
    {
     "name": "stdout",
     "output_type": "stream",
     "text": [
      "Доля дефолта от общего количества \n",
      " N    0.091396\n",
      "Y    0.058311\n",
      "Name: car_type, dtype: float64\n"
     ]
    }
   ],
   "source": [
    "bin_plot('car_type')"
   ]
  },
  {
   "cell_type": "code",
   "execution_count": 56,
   "id": "f69703d7",
   "metadata": {
    "execution": {
     "iopub.execute_input": "2021-07-13T17:16:01.695757Z",
     "iopub.status.busy": "2021-07-13T17:16:01.695076Z",
     "iopub.status.idle": "2021-07-13T17:16:01.946232Z",
     "shell.execute_reply": "2021-07-13T17:16:01.946745Z",
     "shell.execute_reply.started": "2021-07-13T17:13:47.023634Z"
    },
    "papermill": {
     "duration": 0.371082,
     "end_time": "2021-07-13T17:16:01.946917",
     "exception": false,
     "start_time": "2021-07-13T17:16:01.575835",
     "status": "completed"
    },
    "tags": []
   },
   "outputs": [
    {
     "data": {
      "text/plain": "<Figure size 432x288 with 1 Axes>",
      "image/png": "[encoded data removed]"
     },
     "metadata": {
      "needs_background": "light"
     },
     "output_type": "display_data"
    },
    {
     "name": "stdout",
     "output_type": "stream",
     "text": [
      "Доля дефолта от общего количества \n",
      " 0    0.089450\n",
      "1    0.063079\n",
      "Name: good_work, dtype: float64\n"
     ]
    }
   ],
   "source": [
    "bin_plot('good_work')"
   ]
  },
  {
   "cell_type": "code",
   "execution_count": 57,
   "id": "ea5d71a7",
   "metadata": {
    "execution": {
     "iopub.execute_input": "2021-07-13T17:16:02.189151Z",
     "iopub.status.busy": "2021-07-13T17:16:02.188385Z",
     "iopub.status.idle": "2021-07-13T17:16:02.463346Z",
     "shell.execute_reply": "2021-07-13T17:16:02.463888Z",
     "shell.execute_reply.started": "2021-07-13T17:13:47.773267Z"
    },
    "papermill": {
     "duration": 0.397416,
     "end_time": "2021-07-13T17:16:02.464067",
     "exception": false,
     "start_time": "2021-07-13T17:16:02.066651",
     "status": "completed"
    },
    "tags": []
   },
   "outputs": [
    {
     "data": {
      "text/plain": "<Figure size 432x288 with 1 Axes>",
      "image/png": "[encoded data removed]"
     },
     "metadata": {
      "needs_background": "light"
     },
     "output_type": "display_data"
    },
    {
     "name": "stdout",
     "output_type": "stream",
     "text": [
      "Доля дефолта от общего количества \n",
      " N    0.091250\n",
      "Y    0.049918\n",
      "Name: foreign_passport, dtype: float64\n"
     ]
    }
   ],
   "source": [
    "bin_plot('foreign_passport')"
   ]
  },
  {
   "cell_type": "markdown",
   "id": "2e7d95c5",
   "metadata": {
    "papermill": {
     "duration": 0.118202,
     "end_time": "2021-07-13T17:16:02.702137",
     "exception": false,
     "start_time": "2021-07-13T17:16:02.583935",
     "status": "completed"
    },
    "tags": []
   },
   "source": [
    "### Преобразуем бинарные признаки в числовые переменные"
   ]
  },
  {
   "cell_type": "code",
   "execution_count": 58,
   "id": "8b04ec4c",
   "metadata": {
    "execution": {
     "iopub.execute_input": "2021-07-13T17:16:02.942392Z",
     "iopub.status.busy": "2021-07-13T17:16:02.941725Z",
     "iopub.status.idle": "2021-07-13T17:16:03.098045Z",
     "shell.execute_reply": "2021-07-13T17:16:03.097349Z",
     "shell.execute_reply.started": "2021-07-13T17:13:49.387585Z"
    },
    "papermill": {
     "duration": 0.278496,
     "end_time": "2021-07-13T17:16:03.098194",
     "exception": false,
     "start_time": "2021-07-13T17:16:02.819698",
     "status": "completed"
    },
    "tags": []
   },
   "outputs": [],
   "source": [
    "for column in bin_cols:\n",
    "    data[column] = LabelEncoder().fit_transform(data[column])"
   ]
  },
  {
   "cell_type": "code",
   "execution_count": 59,
   "id": "8b368e68",
   "metadata": {
    "execution": {
     "iopub.execute_input": "2021-07-13T17:16:03.343447Z",
     "iopub.status.busy": "2021-07-13T17:16:03.342745Z",
     "iopub.status.idle": "2021-07-13T17:16:03.370829Z",
     "shell.execute_reply": "2021-07-13T17:16:03.370269Z",
     "shell.execute_reply.started": "2021-07-13T17:13:50.189204Z"
    },
    "papermill": {
     "duration": 0.14876,
     "end_time": "2021-07-13T17:16:03.370994",
     "exception": false,
     "start_time": "2021-07-13T17:16:03.222234",
     "status": "completed"
    },
    "tags": []
   },
   "outputs": [
    {
     "data": {
      "text/plain": "   decline_app_cnt  sex  car  car_type  good_work  foreign_passport\n0                0    1    1         1          0                 0\n1                1    0    0         0          0                 0\n2                0    1    1         1          0                 1\n3                0    1    0         0          0                 0\n4                0    0    0         0          0                 0",
      "text/html": "<div>\n<style scoped>\n    .dataframe tbody tr th:only-of-type {\n        vertical-align: middle;\n    }\n\n    .dataframe tbody tr th {\n        vertical-align: top;\n    }\n\n    .dataframe thead th {\n        text-align: right;\n    }\n</style>\n<table border=\"1\" class=\"dataframe\">\n  <thead>\n    <tr style=\"text-align: right;\">\n      <th></th>\n      <th>decline_app_cnt</th>\n      <th>sex</th>\n      <th>car</th>\n      <th>car_type</th>\n      <th>good_work</th>\n      <th>foreign_passport</th>\n    </tr>\n  </thead>\n  <tbody>\n    <tr>\n      <th>0</th>\n      <td>0</td>\n      <td>1</td>\n      <td>1</td>\n      <td>1</td>\n      <td>0</td>\n      <td>0</td>\n    </tr>\n    <tr>\n      <th>1</th>\n      <td>1</td>\n      <td>0</td>\n      <td>0</td>\n      <td>0</td>\n      <td>0</td>\n      <td>0</td>\n    </tr>\n    <tr>\n      <th>2</th>\n      <td>0</td>\n      <td>1</td>\n      <td>1</td>\n      <td>1</td>\n      <td>0</td>\n      <td>1</td>\n    </tr>\n    <tr>\n      <th>3</th>\n      <td>0</td>\n      <td>1</td>\n      <td>0</td>\n      <td>0</td>\n      <td>0</td>\n      <td>0</td>\n    </tr>\n    <tr>\n      <th>4</th>\n      <td>0</td>\n      <td>0</td>\n      <td>0</td>\n      <td>0</td>\n      <td>0</td>\n      <td>0</td>\n    </tr>\n  </tbody>\n</table>\n</div>"
     },
     "execution_count": 59,
     "metadata": {},
     "output_type": "execute_result"
    }
   ],
   "source": [
    " data[bin_cols].head() #убедимся в преобразовании"
   ]
  },
  {
   "cell_type": "markdown",
   "id": "9cf3c08f",
   "metadata": {
    "papermill": {
     "duration": 0.119131,
     "end_time": "2021-07-13T17:16:03.606693",
     "exception": false,
     "start_time": "2021-07-13T17:16:03.487562",
     "status": "completed"
    },
    "tags": []
   },
   "source": [
    "## Категориальные переменные\n"
   ]
  },
  {
   "cell_type": "code",
   "execution_count": 60,
   "id": "61989119",
   "metadata": {
    "execution": {
     "iopub.execute_input": "2021-07-13T17:16:03.847170Z",
     "iopub.status.busy": "2021-07-13T17:16:03.846052Z",
     "iopub.status.idle": "2021-07-13T17:16:03.850688Z",
     "shell.execute_reply": "2021-07-13T17:16:03.851244Z",
     "shell.execute_reply.started": "2021-07-13T17:13:51.770116Z"
    },
    "papermill": {
     "duration": 0.126596,
     "end_time": "2021-07-13T17:16:03.851427",
     "exception": false,
     "start_time": "2021-07-13T17:16:03.724831",
     "status": "completed"
    },
    "tags": []
   },
   "outputs": [],
   "source": [
    "cat_cols = ['education', 'home_address',\n",
    "           'work_address', 'sna', 'first_time']"
   ]
  },
  {
   "cell_type": "code",
   "execution_count": 61,
   "id": "b1942f54",
   "metadata": {
    "execution": {
     "iopub.execute_input": "2021-07-13T17:16:04.102082Z",
     "iopub.status.busy": "2021-07-13T17:16:04.101004Z",
     "iopub.status.idle": "2021-07-13T17:16:04.131252Z",
     "shell.execute_reply": "2021-07-13T17:16:04.131816Z",
     "shell.execute_reply.started": "2021-07-13T17:13:52.524152Z"
    },
    "papermill": {
     "duration": 0.159252,
     "end_time": "2021-07-13T17:16:04.132007",
     "exception": false,
     "start_time": "2021-07-13T17:16:03.972755",
     "status": "completed"
    },
    "tags": []
   },
   "outputs": [
    {
     "name": "stdout",
     "output_type": "stream",
     "text": [
      "Пропущеных значений 478, что составляет 0.43% от общего количества\n"
     ]
    }
   ],
   "source": [
    "print('Пропущеных значений {}, что составляет {:.2f}% от общего количества'.format(data.education.isna().sum(), data.education.isna().sum() /data.shape[0]*100))"
   ]
  },
  {
   "cell_type": "markdown",
   "id": "e7866f9b",
   "metadata": {
    "papermill": {
     "duration": 0.119314,
     "end_time": "2021-07-13T17:16:04.370171",
     "exception": false,
     "start_time": "2021-07-13T17:16:04.250857",
     "status": "completed"
    },
    "tags": []
   },
   "source": [
    "что за данные в 'education'?"
   ]
  },
  {
   "cell_type": "code",
   "execution_count": 62,
   "id": "f17110f8",
   "metadata": {
    "execution": {
     "iopub.execute_input": "2021-07-13T17:16:04.639710Z",
     "iopub.status.busy": "2021-07-13T17:16:04.638960Z",
     "iopub.status.idle": "2021-07-13T17:16:04.644891Z",
     "shell.execute_reply": "2021-07-13T17:16:04.645529Z",
     "shell.execute_reply.started": "2021-07-13T17:13:54.128762Z"
    },
    "papermill": {
     "duration": 0.156501,
     "end_time": "2021-07-13T17:16:04.645726",
     "exception": false,
     "start_time": "2021-07-13T17:16:04.489225",
     "status": "completed"
    },
    "tags": []
   },
   "outputs": [
    {
     "data": {
      "text/plain": "SCH    57998\nGRD    34768\nUGR    14748\nPGR     1865\nACD      291\nName: education, dtype: int64"
     },
     "execution_count": 62,
     "metadata": {},
     "output_type": "execute_result"
    }
   ],
   "source": [
    "data.education.value_counts()"
   ]
  },
  {
   "cell_type": "markdown",
   "id": "b9999cdd",
   "metadata": {
    "papermill": {
     "duration": 0.121532,
     "end_time": "2021-07-13T17:16:04.885208",
     "exception": false,
     "start_time": "2021-07-13T17:16:04.763676",
     "status": "completed"
    },
    "tags": []
   },
   "source": [
    "Приведенная абривеатура может означать уровень образования, где\n",
    "\n",
    "Graduation's code | Value\n",
    "-----|-------------------------\n",
    "SCH  |  school graduated\n",
    "GRD  |  Graduate Research Degrees\n",
    "UGR  |  Upper graduated researchers\n",
    "PGR  |  Post graduated researchers\n",
    "ACD  |  Upper post graduated degrees\n"
   ]
  },
  {
   "cell_type": "markdown",
   "id": "c36a66e1",
   "metadata": {
    "papermill": {
     "duration": 0.117982,
     "end_time": "2021-07-13T17:16:05.123627",
     "exception": false,
     "start_time": "2021-07-13T17:16:05.005645",
     "status": "completed"
    },
    "tags": []
   },
   "source": [
    "##### Исходя из небольшого процента пропущенных данных, заменим пропущенные значения наиболее встречающимися в выборке"
   ]
  },
  {
   "cell_type": "code",
   "execution_count": 63,
   "id": "eff4230f",
   "metadata": {
    "execution": {
     "iopub.execute_input": "2021-07-13T17:16:05.363032Z",
     "iopub.status.busy": "2021-07-13T17:16:05.362316Z",
     "iopub.status.idle": "2021-07-13T17:16:05.396939Z",
     "shell.execute_reply": "2021-07-13T17:16:05.396323Z",
     "shell.execute_reply.started": "2021-07-13T17:13:56.391598Z"
    },
    "papermill": {
     "duration": 0.155747,
     "end_time": "2021-07-13T17:16:05.397086",
     "exception": false,
     "start_time": "2021-07-13T17:16:05.241339",
     "status": "completed"
    },
    "tags": []
   },
   "outputs": [],
   "source": [
    "data['education'] = data['education'].fillna(data['education'].mode()[0])"
   ]
  },
  {
   "cell_type": "code",
   "execution_count": 64,
   "id": "062a4d6a",
   "metadata": {
    "execution": {
     "iopub.execute_input": "2021-07-13T17:16:05.644366Z",
     "iopub.status.busy": "2021-07-13T17:16:05.643595Z",
     "iopub.status.idle": "2021-07-13T17:16:05.668083Z",
     "shell.execute_reply": "2021-07-13T17:16:05.667162Z",
     "shell.execute_reply.started": "2021-07-13T17:13:57.159147Z"
    },
    "papermill": {
     "duration": 0.153232,
     "end_time": "2021-07-13T17:16:05.668307",
     "exception": false,
     "start_time": "2021-07-13T17:16:05.515075",
     "status": "completed"
    },
    "tags": []
   },
   "outputs": [
    {
     "data": {
      "text/plain": "client_id           0\neducation           0\nsex                 0\nage                 0\ncar                 0\ncar_type            0\ndecline_app_cnt     0\ngood_work           0\nscore_bki           0\nbki_request_cnt     0\nregion_rating       0\nhome_address        0\nwork_address        0\nincome              0\nsna                 0\nfirst_time          0\nforeign_passport    0\nsample              0\ndefault             0\nmonth               0\ndate                0\ndayofweek           0\ndtype: int64"
     },
     "execution_count": 64,
     "metadata": {},
     "output_type": "execute_result"
    }
   ],
   "source": [
    "data.isna().sum() # проверка"
   ]
  },
  {
   "cell_type": "code",
   "execution_count": 65,
   "id": "c0164102",
   "metadata": {
    "execution": {
     "iopub.execute_input": "2021-07-13T17:16:05.913124Z",
     "iopub.status.busy": "2021-07-13T17:16:05.912051Z",
     "iopub.status.idle": "2021-07-13T17:16:06.293885Z",
     "shell.execute_reply": "2021-07-13T17:16:06.293306Z",
     "shell.execute_reply.started": "2021-07-13T17:13:57.982425Z"
    },
    "papermill": {
     "duration": 0.505798,
     "end_time": "2021-07-13T17:16:06.294056",
     "exception": false,
     "start_time": "2021-07-13T17:16:05.788258",
     "status": "completed"
    },
    "tags": []
   },
   "outputs": [
    {
     "data": {
      "text/plain": "<Figure size 432x288 with 1 Axes>",
      "image/png": "[encoded data removed]"
     },
     "metadata": {
      "needs_background": "light"
     },
     "output_type": "display_data"
    },
    {
     "name": "stdout",
     "output_type": "stream",
     "text": [
      "Доля дефолта от общего количества \n",
      " SCH    0.100674\n",
      "GRD    0.060544\n",
      "UGR    0.087537\n",
      "PGR    0.043432\n",
      "ACD    0.027491\n",
      "Name: education, dtype: float64\n"
     ]
    }
   ],
   "source": [
    "bin_plot('education')"
   ]
  },
  {
   "cell_type": "code",
   "execution_count": 66,
   "id": "11c6a544",
   "metadata": {
    "execution": {
     "iopub.execute_input": "2021-07-13T17:16:06.568610Z",
     "iopub.status.busy": "2021-07-13T17:16:06.565571Z",
     "iopub.status.idle": "2021-07-13T17:16:06.573786Z",
     "shell.execute_reply": "2021-07-13T17:16:06.573212Z",
     "shell.execute_reply.started": "2021-07-13T17:13:58.765886Z"
    },
    "papermill": {
     "duration": 0.160433,
     "end_time": "2021-07-13T17:16:06.573932",
     "exception": false,
     "start_time": "2021-07-13T17:16:06.413499",
     "status": "completed"
    },
    "tags": []
   },
   "outputs": [
    {
     "data": {
      "text/plain": "SCH    58476\nGRD    34768\nUGR    14748\nPGR     1865\nACD      291\nName: education, dtype: int64"
     },
     "execution_count": 66,
     "metadata": {},
     "output_type": "execute_result"
    }
   ],
   "source": [
    "#распределение данных в education\n",
    "data['education'].value_counts()"
   ]
  },
  {
   "cell_type": "markdown",
   "id": "a4649add",
   "metadata": {
    "papermill": {
     "duration": 0.122464,
     "end_time": "2021-07-13T17:16:06.816868",
     "exception": false,
     "start_time": "2021-07-13T17:16:06.694404",
     "status": "completed"
    },
    "tags": []
   },
   "source": [
    "#### преобразуем признак 'education' в численный формат"
   ]
  },
  {
   "cell_type": "code",
   "execution_count": 67,
   "id": "44f5ffff",
   "metadata": {
    "execution": {
     "iopub.execute_input": "2021-07-13T17:16:07.110169Z",
     "iopub.status.busy": "2021-07-13T17:16:07.083080Z",
     "iopub.status.idle": "2021-07-13T17:16:07.120808Z",
     "shell.execute_reply": "2021-07-13T17:16:07.120111Z",
     "shell.execute_reply.started": "2021-07-13T17:14:00.236470Z"
    },
    "papermill": {
     "duration": 0.183097,
     "end_time": "2021-07-13T17:16:07.120963",
     "exception": false,
     "start_time": "2021-07-13T17:16:06.937866",
     "status": "completed"
    },
    "tags": []
   },
   "outputs": [
    {
     "data": {
      "text/plain": "3    58476\n1    34768\n4    14748\n2     1865\n0      291\nName: education, dtype: int64"
     },
     "execution_count": 67,
     "metadata": {},
     "output_type": "execute_result"
    }
   ],
   "source": [
    "data['education'] = LabelEncoder().fit_transform(data['education'])\n",
    "data['education'].value_counts()"
   ]
  },
  {
   "cell_type": "code",
   "execution_count": 68,
   "id": "c99c02b7",
   "metadata": {
    "execution": {
     "iopub.execute_input": "2021-07-13T17:16:07.367644Z",
     "iopub.status.busy": "2021-07-13T17:16:07.366847Z",
     "iopub.status.idle": "2021-07-13T17:16:07.672490Z",
     "shell.execute_reply": "2021-07-13T17:16:07.672001Z",
     "shell.execute_reply.started": "2021-07-13T17:14:00.990449Z"
    },
    "papermill": {
     "duration": 0.431921,
     "end_time": "2021-07-13T17:16:07.672659",
     "exception": false,
     "start_time": "2021-07-13T17:16:07.240738",
     "status": "completed"
    },
    "tags": []
   },
   "outputs": [
    {
     "data": {
      "text/plain": "<Figure size 432x288 with 1 Axes>",
      "image/png": "[encoded data removed]"
     },
     "metadata": {
      "needs_background": "light"
     },
     "output_type": "display_data"
    },
    {
     "name": "stdout",
     "output_type": "stream",
     "text": [
      "Доля дефолта от общего количества \n",
      " 2    0.104026\n",
      "1    0.062171\n",
      "3    0.078117\n",
      "Name: home_address, dtype: float64\n"
     ]
    }
   ],
   "source": [
    "bin_plot('home_address')"
   ]
  },
  {
   "cell_type": "code",
   "execution_count": 69,
   "id": "d91985ba",
   "metadata": {
    "execution": {
     "iopub.execute_input": "2021-07-13T17:16:07.920663Z",
     "iopub.status.busy": "2021-07-13T17:16:07.919885Z",
     "iopub.status.idle": "2021-07-13T17:16:08.225007Z",
     "shell.execute_reply": "2021-07-13T17:16:08.224213Z",
     "shell.execute_reply.started": "2021-07-13T17:14:01.753145Z"
    },
    "papermill": {
     "duration": 0.431685,
     "end_time": "2021-07-13T17:16:08.225187",
     "exception": false,
     "start_time": "2021-07-13T17:16:07.793502",
     "status": "completed"
    },
    "tags": []
   },
   "outputs": [
    {
     "data": {
      "text/plain": "<Figure size 432x288 with 1 Axes>",
      "image/png": "[encoded data removed]"
     },
     "metadata": {
      "needs_background": "light"
     },
     "output_type": "display_data"
    },
    {
     "name": "stdout",
     "output_type": "stream",
     "text": [
      "Доля дефолта от общего количества \n",
      " 3    0.099116\n",
      "2    0.068333\n",
      "1    0.050350\n",
      "Name: work_address, dtype: float64\n"
     ]
    }
   ],
   "source": [
    "bin_plot('work_address')"
   ]
  },
  {
   "cell_type": "code",
   "execution_count": 70,
   "id": "bebce56e",
   "metadata": {
    "execution": {
     "iopub.execute_input": "2021-07-13T17:16:08.475197Z",
     "iopub.status.busy": "2021-07-13T17:16:08.474453Z",
     "iopub.status.idle": "2021-07-13T17:16:08.790426Z",
     "shell.execute_reply": "2021-07-13T17:16:08.790981Z",
     "shell.execute_reply.started": "2021-07-13T17:14:02.487203Z"
    },
    "papermill": {
     "duration": 0.441526,
     "end_time": "2021-07-13T17:16:08.791167",
     "exception": false,
     "start_time": "2021-07-13T17:16:08.349641",
     "status": "completed"
    },
    "tags": []
   },
   "outputs": [
    {
     "data": {
      "text/plain": "<Figure size 432x288 with 1 Axes>",
      "image/png": "[encoded data removed]"
     },
     "metadata": {
      "needs_background": "light"
     },
     "output_type": "display_data"
    },
    {
     "name": "stdout",
     "output_type": "stream",
     "text": [
      "Доля дефолта от общего количества \n",
      " 1    0.065718\n",
      "4    0.142154\n",
      "2    0.100556\n",
      "3    0.105622\n",
      "Name: sna, dtype: float64\n"
     ]
    }
   ],
   "source": [
    "bin_plot('sna')"
   ]
  },
  {
   "cell_type": "code",
   "execution_count": 71,
   "id": "01f032ce",
   "metadata": {
    "execution": {
     "iopub.execute_input": "2021-07-13T17:16:09.045129Z",
     "iopub.status.busy": "2021-07-13T17:16:09.044405Z",
     "iopub.status.idle": "2021-07-13T17:16:09.351052Z",
     "shell.execute_reply": "2021-07-13T17:16:09.350503Z",
     "shell.execute_reply.started": "2021-07-13T17:14:03.284817Z"
    },
    "papermill": {
     "duration": 0.436499,
     "end_time": "2021-07-13T17:16:09.351212",
     "exception": false,
     "start_time": "2021-07-13T17:16:08.914713",
     "status": "completed"
    },
    "tags": []
   },
   "outputs": [
    {
     "data": {
      "text/plain": "<Figure size 432x288 with 1 Axes>",
      "image/png": "[encoded data removed]"
     },
     "metadata": {
      "needs_background": "light"
     },
     "output_type": "display_data"
    },
    {
     "name": "stdout",
     "output_type": "stream",
     "text": [
      "Доля дефолта от общего количества \n",
      " 1    0.124508\n",
      "2    0.104250\n",
      "3    0.080686\n",
      "4    0.054860\n",
      "Name: first_time, dtype: float64\n"
     ]
    }
   ],
   "source": [
    "bin_plot('first_time')"
   ]
  },
  {
   "cell_type": "markdown",
   "id": "9ed29e67",
   "metadata": {
    "papermill": {
     "duration": 0.139185,
     "end_time": "2021-07-13T17:16:09.617551",
     "exception": false,
     "start_time": "2021-07-13T17:16:09.478366",
     "status": "completed"
    },
    "tags": []
   },
   "source": [
    "### Целевой признак"
   ]
  },
  {
   "cell_type": "code",
   "execution_count": 72,
   "id": "8455a09b",
   "metadata": {
    "execution": {
     "iopub.execute_input": "2021-07-13T17:16:09.879027Z",
     "iopub.status.busy": "2021-07-13T17:16:09.878216Z",
     "iopub.status.idle": "2021-07-13T17:16:10.108895Z",
     "shell.execute_reply": "2021-07-13T17:16:10.109415Z",
     "shell.execute_reply.started": "2021-07-13T17:14:04.814489Z"
    },
    "papermill": {
     "duration": 0.364823,
     "end_time": "2021-07-13T17:16:10.109649",
     "exception": false,
     "start_time": "2021-07-13T17:16:09.744826",
     "status": "completed"
    },
    "tags": []
   },
   "outputs": [
    {
     "data": {
      "text/plain": "0    64427\n1     9372\nName: default, dtype: int64"
     },
     "execution_count": 72,
     "metadata": {},
     "output_type": "execute_result"
    },
    {
     "data": {
      "text/plain": "<Figure size 432x288 with 1 Axes>",
      "image/png": "[encoded data removed]"
     },
     "metadata": {
      "needs_background": "light"
     },
     "output_type": "display_data"
    }
   ],
   "source": [
    "data.query('sample ==1').default.hist()\n",
    "data.query('sample ==1').default.value_counts()\n"
   ]
  },
  {
   "cell_type": "markdown",
   "id": "ea9139de",
   "metadata": {
    "papermill": {
     "duration": 0.130993,
     "end_time": "2021-07-13T17:16:10.373642",
     "exception": false,
     "start_time": "2021-07-13T17:16:10.242649",
     "status": "completed"
    },
    "tags": []
   },
   "source": [
    "### Значимость категориальных и бинарных признаков"
   ]
  },
  {
   "cell_type": "code",
   "execution_count": 73,
   "id": "c293d9f5",
   "metadata": {
    "execution": {
     "iopub.execute_input": "2021-07-13T17:16:10.640542Z",
     "iopub.status.busy": "2021-07-13T17:16:10.639820Z",
     "iopub.status.idle": "2021-07-13T17:16:11.047301Z",
     "shell.execute_reply": "2021-07-13T17:16:11.046739Z",
     "shell.execute_reply.started": "2021-07-13T17:14:06.315476Z"
    },
    "papermill": {
     "duration": 0.546365,
     "end_time": "2021-07-13T17:16:11.047479",
     "exception": false,
     "start_time": "2021-07-13T17:16:10.501114",
     "status": "completed"
    },
    "tags": []
   },
   "outputs": [
    {
     "data": {
      "text/plain": "<AxesSubplot:>"
     },
     "execution_count": 73,
     "metadata": {},
     "output_type": "execute_result"
    },
    {
     "data": {
      "text/plain": "<Figure size 432x288 with 1 Axes>",
      "image/png": "[encoded data removed]"
     },
     "metadata": {
      "needs_background": "light"
     },
     "output_type": "display_data"
    }
   ],
   "source": [
    "\n",
    "imp_cat = Series(mutual_info_classif(data[bin_cols + cat_cols], data['default'],\n",
    "                                     discrete_features =True), index = bin_cols + cat_cols)\n",
    "imp_cat.sort_values(inplace = True)\n",
    "imp_cat.plot(kind = 'barh')"
   ]
  },
  {
   "cell_type": "code",
   "execution_count": 74,
   "id": "77b29649",
   "metadata": {
    "execution": {
     "iopub.execute_input": "2021-07-13T17:16:11.364264Z",
     "iopub.status.busy": "2021-07-13T17:16:11.363327Z",
     "iopub.status.idle": "2021-07-13T17:16:11.381319Z",
     "shell.execute_reply": "2021-07-13T17:16:11.381909Z",
     "shell.execute_reply.started": "2021-07-13T17:14:07.071153Z"
    },
    "papermill": {
     "duration": 0.188908,
     "end_time": "2021-07-13T17:16:11.382123",
     "exception": false,
     "start_time": "2021-07-13T17:16:11.193215",
     "status": "completed"
    },
    "tags": []
   },
   "outputs": [
    {
     "name": "stdout",
     "output_type": "stream",
     "text": [
      "<class 'pandas.core.frame.DataFrame'>\n",
      "RangeIndex: 110148 entries, 0 to 110147\n",
      "Data columns (total 22 columns):\n",
      " #   Column            Non-Null Count   Dtype  \n",
      "---  ------            --------------   -----  \n",
      " 0   client_id         110148 non-null  int64  \n",
      " 1   education         110148 non-null  int32  \n",
      " 2   sex               110148 non-null  int32  \n",
      " 3   age               110148 non-null  int64  \n",
      " 4   car               110148 non-null  int32  \n",
      " 5   car_type          110148 non-null  int32  \n",
      " 6   decline_app_cnt   110148 non-null  int64  \n",
      " 7   good_work         110148 non-null  int64  \n",
      " 8   score_bki         110148 non-null  float64\n",
      " 9   bki_request_cnt   110148 non-null  float64\n",
      " 10  region_rating     110148 non-null  float64\n",
      " 11  home_address      110148 non-null  int64  \n",
      " 12  work_address      110148 non-null  int64  \n",
      " 13  income            110148 non-null  float64\n",
      " 14  sna               110148 non-null  int64  \n",
      " 15  first_time        110148 non-null  int64  \n",
      " 16  foreign_passport  110148 non-null  int32  \n",
      " 17  sample            110148 non-null  int64  \n",
      " 18  default           110148 non-null  int64  \n",
      " 19  month             110148 non-null  int64  \n",
      " 20  date              110148 non-null  int64  \n",
      " 21  dayofweek         110148 non-null  int64  \n",
      "dtypes: float64(4), int32(5), int64(13)\n",
      "memory usage: 16.4 MB\n"
     ]
    }
   ],
   "source": [
    "data.info()"
   ]
  },
  {
   "cell_type": "markdown",
   "id": "7e9f1b92",
   "metadata": {
    "papermill": {
     "duration": 0.12917,
     "end_time": "2021-07-13T17:16:11.647598",
     "exception": false,
     "start_time": "2021-07-13T17:16:11.518428",
     "status": "completed"
    },
    "tags": []
   },
   "source": [
    "### посмотрим вновь на таблицу корреляции "
   ]
  },
  {
   "cell_type": "code",
   "execution_count": 75,
   "id": "3d3316fa",
   "metadata": {
    "execution": {
     "iopub.execute_input": "2021-07-13T17:16:11.919536Z",
     "iopub.status.busy": "2021-07-13T17:16:11.917947Z",
     "iopub.status.idle": "2021-07-13T17:16:12.246350Z",
     "shell.execute_reply": "2021-07-13T17:16:12.245630Z",
     "shell.execute_reply.started": "2021-07-13T17:14:08.594562Z"
    },
    "papermill": {
     "duration": 0.4701,
     "end_time": "2021-07-13T17:16:12.246508",
     "exception": false,
     "start_time": "2021-07-13T17:16:11.776408",
     "status": "completed"
    },
    "tags": []
   },
   "outputs": [
    {
     "data": {
      "text/plain": "<pandas.io.formats.style.Styler at 0x182852d8df0>",
      "text/html": "<style  type=\"text/css\" >\n    #T_f629d_ th {\n          font-size: 7pt;\n    }    #T_f629d_ td {\n          padding: 0em 0em;\n    }    #T_f629d_ th:hover {\n          font-size: 12pt;\n    }    #T_f629d_ tr:hover td:hover {\n          max-width: 200px;\n          font-size: 12pt;\n    }#T_f629d_row0_col0,#T_f629d_row1_col1,#T_f629d_row2_col2,#T_f629d_row3_col3,#T_f629d_row4_col4,#T_f629d_row5_col5,#T_f629d_row6_col6,#T_f629d_row7_col7,#T_f629d_row8_col8,#T_f629d_row9_col9,#T_f629d_row10_col10,#T_f629d_row11_col11,#T_f629d_row12_col12,#T_f629d_row13_col13,#T_f629d_row14_col14,#T_f629d_row15_col15,#T_f629d_row16_col16,#T_f629d_row17_col17,#T_f629d_row18_col18,#T_f629d_row19_col19,#T_f629d_row20_col20,#T_f629d_row21_col21{\n            background-color:  #4479bb;\n            color:  #000000;\n            max-width:  80px;\n            font-size:  10pt;\n        }#T_f629d_row0_col1,#T_f629d_row1_col5,#T_f629d_row8_col0,#T_f629d_row8_col19,#T_f629d_row9_col12,#T_f629d_row9_col19,#T_f629d_row12_col21,#T_f629d_row18_col13,#T_f629d_row21_col6{\n            background-color:  #d94a67;\n            color:  #000000;\n            max-width:  80px;\n            font-size:  10pt;\n        }#T_f629d_row0_col2,#T_f629d_row0_col21,#T_f629d_row3_col8,#T_f629d_row9_col5,#T_f629d_row21_col3,#T_f629d_row21_col15{\n            background-color:  #d84462;\n            color:  #f1f1f1;\n            max-width:  80px;\n            font-size:  10pt;\n        }#T_f629d_row0_col3,#T_f629d_row0_col15,#T_f629d_row2_col9,#T_f629d_row4_col11,#T_f629d_row10_col7,#T_f629d_row12_col8,#T_f629d_row18_col20{\n            background-color:  #db5570;\n            color:  #000000;\n            max-width:  80px;\n            font-size:  10pt;\n        }#T_f629d_row0_col4,#T_f629d_row0_col6,#T_f629d_row9_col16,#T_f629d_row21_col2,#T_f629d_row21_col10,#T_f629d_row21_col14{\n            background-color:  #d94865;\n            color:  #000000;\n            max-width:  80px;\n            font-size:  10pt;\n        }#T_f629d_row0_col5,#T_f629d_row6_col15,#T_f629d_row8_col15,#T_f629d_row11_col4,#T_f629d_row18_col5,#T_f629d_row21_col7,#T_f629d_row21_col8,#T_f629d_row21_col17,#T_f629d_row21_col18{\n            background-color:  #d94764;\n            color:  #f1f1f1;\n            max-width:  80px;\n            font-size:  10pt;\n        }#T_f629d_row0_col7,#T_f629d_row0_col10,#T_f629d_row0_col17,#T_f629d_row4_col6,#T_f629d_row9_col14,#T_f629d_row9_col21,#T_f629d_row10_col8,#T_f629d_row10_col9,#T_f629d_row10_col20,#T_f629d_row12_col5,#T_f629d_row18_col3{\n            background-color:  #da516c;\n            color:  #000000;\n            max-width:  80px;\n            font-size:  10pt;\n        }#T_f629d_row0_col8,#T_f629d_row1_col13,#T_f629d_row2_col3,#T_f629d_row3_col2,#T_f629d_row4_col1,#T_f629d_row5_col1,#T_f629d_row6_col3,#T_f629d_row7_col1,#T_f629d_row8_col3,#T_f629d_row9_col2,#T_f629d_row9_col4,#T_f629d_row10_col3,#T_f629d_row11_col15,#T_f629d_row12_col15,#T_f629d_row13_col1,#T_f629d_row14_col15,#T_f629d_row15_col14,#T_f629d_row16_col14,#T_f629d_row17_col1,#T_f629d_row17_col2,#T_f629d_row17_col4,#T_f629d_row17_col5,#T_f629d_row17_col7,#T_f629d_row17_col10,#T_f629d_row17_col12,#T_f629d_row17_col21,#T_f629d_row18_col15,#T_f629d_row19_col20,#T_f629d_row20_col19,#T_f629d_row21_col0,#T_f629d_row21_col19{\n            background-color:  #d73c5b;\n            color:  #f1f1f1;\n            max-width:  80px;\n            font-size:  10pt;\n        }#T_f629d_row0_col9,#T_f629d_row0_col13,#T_f629d_row1_col16,#T_f629d_row4_col3,#T_f629d_row4_col9,#T_f629d_row8_col2,#T_f629d_row9_col10,#T_f629d_row10_col17,#T_f629d_row11_col9,#T_f629d_row12_col3,#T_f629d_row12_col9,#T_f629d_row18_col19{\n            background-color:  #da4e6a;\n            color:  #000000;\n            max-width:  80px;\n            font-size:  10pt;\n        }#T_f629d_row0_col11,#T_f629d_row1_col6,#T_f629d_row1_col18,#T_f629d_row11_col19,#T_f629d_row12_col0{\n            background-color:  #e3889a;\n            color:  #000000;\n            max-width:  80px;\n            font-size:  10pt;\n        }#T_f629d_row0_col12,#T_f629d_row11_col0,#T_f629d_row13_col7,#T_f629d_row13_col11,#T_f629d_row16_col10{\n            background-color:  #e28799;\n            color:  #000000;\n            max-width:  80px;\n            font-size:  10pt;\n        }#T_f629d_row0_col14,#T_f629d_row3_col7,#T_f629d_row4_col8,#T_f629d_row5_col14,#T_f629d_row6_col5,#T_f629d_row8_col4,#T_f629d_row8_col5,#T_f629d_row9_col7,#T_f629d_row9_col15,#T_f629d_row9_col20,#T_f629d_row10_col0,#T_f629d_row10_col14,#T_f629d_row10_col19,#T_f629d_row10_col21,#T_f629d_row11_col17,#T_f629d_row12_col17{\n            background-color:  #da506b;\n            color:  #000000;\n            max-width:  80px;\n            font-size:  10pt;\n        }#T_f629d_row0_col16,#T_f629d_row1_col7,#T_f629d_row9_col0,#T_f629d_row11_col5,#T_f629d_row18_col4,#T_f629d_row18_col7,#T_f629d_row18_col10,#T_f629d_row21_col1,#T_f629d_row21_col9{\n            background-color:  #da4b68;\n            color:  #000000;\n            max-width:  80px;\n            font-size:  10pt;\n        }#T_f629d_row0_col18,#T_f629d_row4_col14,#T_f629d_row10_col1,#T_f629d_row10_col11,#T_f629d_row11_col10,#T_f629d_row11_col20,#T_f629d_row16_col1,#T_f629d_row18_col16,#T_f629d_row21_col11,#T_f629d_row21_col16{\n            background-color:  #d94663;\n            color:  #f1f1f1;\n            max-width:  80px;\n            font-size:  10pt;\n        }#T_f629d_row0_col19,#T_f629d_row19_col0{\n            background-color:  #4d7fbe;\n            color:  #000000;\n            max-width:  80px;\n            font-size:  10pt;\n        }#T_f629d_row0_col20,#T_f629d_row2_col6,#T_f629d_row16_col9,#T_f629d_row18_col11,#T_f629d_row18_col12,#T_f629d_row19_col9,#T_f629d_row20_col1,#T_f629d_row20_col4,#T_f629d_row20_col5,#T_f629d_row20_col6,#T_f629d_row20_col18{\n            background-color:  #df6d84;\n            color:  #000000;\n            max-width:  80px;\n            font-size:  10pt;\n        }#T_f629d_row1_col0,#T_f629d_row1_col19,#T_f629d_row6_col1,#T_f629d_row8_col14,#T_f629d_row9_col8,#T_f629d_row19_col3{\n            background-color:  #e07389;\n            color:  #000000;\n            max-width:  80px;\n            font-size:  10pt;\n        }#T_f629d_row1_col2,#T_f629d_row2_col11,#T_f629d_row16_col17,#T_f629d_row20_col3,#T_f629d_row20_col9{\n            background-color:  #df7288;\n            color:  #000000;\n            max-width:  80px;\n            font-size:  10pt;\n        }#T_f629d_row1_col3,#T_f629d_row1_col11,#T_f629d_row1_col12,#T_f629d_row1_col21,#T_f629d_row4_col15,#T_f629d_row7_col15{\n            background-color:  #e17c90;\n            color:  #000000;\n            max-width:  80px;\n            font-size:  10pt;\n        }#T_f629d_row1_col4,#T_f629d_row2_col7,#T_f629d_row2_col8,#T_f629d_row3_col5,#T_f629d_row18_col21{\n            background-color:  #db5872;\n            color:  #000000;\n            max-width:  80px;\n            font-size:  10pt;\n        }#T_f629d_row1_col8{\n            background-color:  #e28396;\n            color:  #000000;\n            max-width:  80px;\n            font-size:  10pt;\n        }#T_f629d_row1_col9,#T_f629d_row7_col5,#T_f629d_row16_col21,#T_f629d_row19_col10,#T_f629d_row19_col13,#T_f629d_row19_col14,#T_f629d_row20_col7,#T_f629d_row20_col8,#T_f629d_row20_col14,#T_f629d_row20_col16,#T_f629d_row20_col17{\n            background-color:  #df6f85;\n            color:  #000000;\n            max-width:  80px;\n            font-size:  10pt;\n        }#T_f629d_row1_col10,#T_f629d_row5_col7,#T_f629d_row7_col10,#T_f629d_row16_col20,#T_f629d_row19_col7,#T_f629d_row19_col17,#T_f629d_row20_col10{\n            background-color:  #df7086;\n            color:  #000000;\n            max-width:  80px;\n            font-size:  10pt;\n        }#T_f629d_row1_col14{\n            background-color:  #e595a5;\n            color:  #000000;\n            max-width:  80px;\n            font-size:  10pt;\n        }#T_f629d_row1_col15,#T_f629d_row3_col10,#T_f629d_row3_col14,#T_f629d_row6_col4,#T_f629d_row6_col7,#T_f629d_row11_col3,#T_f629d_row11_col6,#T_f629d_row11_col8,#T_f629d_row12_col1,#T_f629d_row13_col3{\n            background-color:  #db546f;\n            color:  #000000;\n            max-width:  80px;\n            font-size:  10pt;\n        }#T_f629d_row1_col17,#T_f629d_row1_col20,#T_f629d_row5_col10,#T_f629d_row13_col0,#T_f629d_row13_col6,#T_f629d_row13_col17,#T_f629d_row13_col19{\n            background-color:  #e0778c;\n            color:  #000000;\n            max-width:  80px;\n            font-size:  10pt;\n        }#T_f629d_row2_col0,#T_f629d_row4_col12,#T_f629d_row4_col20,#T_f629d_row5_col6,#T_f629d_row6_col19{\n            background-color:  #dc5b75;\n            color:  #000000;\n            max-width:  80px;\n            font-size:  10pt;\n        }#T_f629d_row2_col1,#T_f629d_row3_col18,#T_f629d_row6_col13,#T_f629d_row10_col2,#T_f629d_row11_col13,#T_f629d_row16_col18{\n            background-color:  #dd6179;\n            color:  #000000;\n            max-width:  80px;\n            font-size:  10pt;\n        }#T_f629d_row2_col4{\n            background-color:  #ebbfc8;\n            color:  #000000;\n            max-width:  80px;\n            font-size:  10pt;\n        }#T_f629d_row2_col5{\n            background-color:  #e9afbb;\n            color:  #000000;\n            max-width:  80px;\n            font-size:  10pt;\n        }#T_f629d_row2_col10,#T_f629d_row6_col14,#T_f629d_row11_col14,#T_f629d_row12_col14,#T_f629d_row18_col6{\n            background-color:  #e0768b;\n            color:  #000000;\n            max-width:  80px;\n            font-size:  10pt;\n        }#T_f629d_row2_col12,#T_f629d_row13_col8,#T_f629d_row16_col11,#T_f629d_row16_col12{\n            background-color:  #e17d91;\n            color:  #000000;\n            max-width:  80px;\n            font-size:  10pt;\n        }#T_f629d_row2_col13,#T_f629d_row15_col0,#T_f629d_row15_col19{\n            background-color:  #ebbec6;\n            color:  #000000;\n            max-width:  80px;\n            font-size:  10pt;\n        }#T_f629d_row2_col14,#T_f629d_row2_col17,#T_f629d_row3_col12,#T_f629d_row6_col11,#T_f629d_row19_col2,#T_f629d_row19_col21{\n            background-color:  #dd657d;\n            color:  #000000;\n            max-width:  80px;\n            font-size:  10pt;\n        }#T_f629d_row2_col15,#T_f629d_row2_col18,#T_f629d_row3_col0,#T_f629d_row3_col1,#T_f629d_row3_col11,#T_f629d_row3_col19,#T_f629d_row5_col17,#T_f629d_row7_col0,#T_f629d_row7_col4,#T_f629d_row7_col8,#T_f629d_row7_col19,#T_f629d_row16_col8,#T_f629d_row18_col1,#T_f629d_row19_col1,#T_f629d_row19_col16,#T_f629d_row20_col21{\n            background-color:  #de6b82;\n            color:  #000000;\n            max-width:  80px;\n            font-size:  10pt;\n        }#T_f629d_row2_col16,#T_f629d_row4_col16,#T_f629d_row8_col9{\n            background-color:  #e28194;\n            color:  #000000;\n            max-width:  80px;\n            font-size:  10pt;\n        }#T_f629d_row2_col19,#T_f629d_row5_col3,#T_f629d_row5_col18,#T_f629d_row7_col2,#T_f629d_row9_col3,#T_f629d_row9_col13,#T_f629d_row10_col5,#T_f629d_row11_col2,#T_f629d_row11_col16,#T_f629d_row18_col2,#T_f629d_row19_col8{\n            background-color:  #dc5c76;\n            color:  #000000;\n            max-width:  80px;\n            font-size:  10pt;\n        }#T_f629d_row2_col20,#T_f629d_row6_col17,#T_f629d_row8_col11,#T_f629d_row8_col13{\n            background-color:  #dd627b;\n            color:  #000000;\n            max-width:  80px;\n            font-size:  10pt;\n        }#T_f629d_row2_col21,#T_f629d_row3_col17,#T_f629d_row3_col20,#T_f629d_row4_col10,#T_f629d_row5_col11,#T_f629d_row6_col2,#T_f629d_row9_col6,#T_f629d_row10_col16,#T_f629d_row16_col6,#T_f629d_row18_col9,#T_f629d_row19_col5{\n            background-color:  #de687f;\n            color:  #000000;\n            max-width:  80px;\n            font-size:  10pt;\n        }#T_f629d_row3_col4,#T_f629d_row4_col0,#T_f629d_row4_col19,#T_f629d_row4_col21,#T_f629d_row6_col16,#T_f629d_row8_col16,#T_f629d_row12_col6{\n            background-color:  #db5771;\n            color:  #000000;\n            max-width:  80px;\n            font-size:  10pt;\n        }#T_f629d_row3_col6,#T_f629d_row21_col12{\n            background-color:  #d8415f;\n            color:  #f1f1f1;\n            max-width:  80px;\n            font-size:  10pt;\n        }#T_f629d_row3_col9,#T_f629d_row13_col20,#T_f629d_row13_col21,#T_f629d_row19_col15{\n            background-color:  #e0748a;\n            color:  #000000;\n            max-width:  80px;\n            font-size:  10pt;\n        }#T_f629d_row3_col13,#T_f629d_row21_col4{\n            background-color:  #d8405e;\n            color:  #f1f1f1;\n            max-width:  80px;\n            font-size:  10pt;\n        }#T_f629d_row3_col15,#T_f629d_row16_col7{\n            background-color:  #e18093;\n            color:  #000000;\n            max-width:  80px;\n            font-size:  10pt;\n        }#T_f629d_row3_col16,#T_f629d_row6_col0,#T_f629d_row7_col14,#T_f629d_row10_col4,#T_f629d_row13_col14{\n            background-color:  #dc5973;\n            color:  #000000;\n            max-width:  80px;\n            font-size:  10pt;\n        }#T_f629d_row3_col21,#T_f629d_row5_col0,#T_f629d_row5_col9,#T_f629d_row5_col19,#T_f629d_row5_col21,#T_f629d_row6_col21,#T_f629d_row8_col12,#T_f629d_row16_col3,#T_f629d_row20_col12{\n            background-color:  #dd637c;\n            color:  #000000;\n            max-width:  80px;\n            font-size:  10pt;\n        }#T_f629d_row4_col2,#T_f629d_row14_col0,#T_f629d_row14_col10,#T_f629d_row14_col17,#T_f629d_row14_col19,#T_f629d_row14_col20,#T_f629d_row15_col17{\n            background-color:  #eab9c3;\n            color:  #000000;\n            max-width:  80px;\n            font-size:  10pt;\n        }#T_f629d_row4_col5{\n            background-color:  #a2bad9;\n            color:  #000000;\n            max-width:  80px;\n            font-size:  10pt;\n        }#T_f629d_row4_col7,#T_f629d_row4_col17,#T_f629d_row5_col8,#T_f629d_row6_col10,#T_f629d_row7_col6,#T_f629d_row7_col18,#T_f629d_row8_col17,#T_f629d_row8_col20,#T_f629d_row8_col21,#T_f629d_row9_col18,#T_f629d_row10_col12{\n            background-color:  #dc5e77;\n            color:  #000000;\n            max-width:  80px;\n            font-size:  10pt;\n        }#T_f629d_row4_col13{\n            background-color:  #e9b1bc;\n            color:  #000000;\n            max-width:  80px;\n            font-size:  10pt;\n        }#T_f629d_row4_col18,#T_f629d_row7_col3,#T_f629d_row11_col1{\n            background-color:  #db526e;\n            color:  #000000;\n            max-width:  80px;\n            font-size:  10pt;\n        }#T_f629d_row5_col2{\n            background-color:  #e9b2bd;\n            color:  #000000;\n            max-width:  80px;\n            font-size:  10pt;\n        }#T_f629d_row5_col4,#T_f629d_row11_col12{\n            background-color:  #9eb8d8;\n            color:  #000000;\n            max-width:  80px;\n            font-size:  10pt;\n        }#T_f629d_row5_col12,#T_f629d_row7_col9,#T_f629d_row13_col18,#T_f629d_row16_col0,#T_f629d_row16_col19,#T_f629d_row20_col2,#T_f629d_row20_col13,#T_f629d_row20_col15{\n            background-color:  #de6c83;\n            color:  #000000;\n            max-width:  80px;\n            font-size:  10pt;\n        }#T_f629d_row5_col13{\n            background-color:  #ecc3cb;\n            color:  #000000;\n            max-width:  80px;\n            font-size:  10pt;\n        }#T_f629d_row5_col15,#T_f629d_row16_col2{\n            background-color:  #e38b9d;\n            color:  #000000;\n            max-width:  80px;\n            font-size:  10pt;\n        }#T_f629d_row5_col16{\n            background-color:  #e59aa9;\n            color:  #000000;\n            max-width:  80px;\n            font-size:  10pt;\n        }#T_f629d_row5_col20,#T_f629d_row7_col17,#T_f629d_row7_col20,#T_f629d_row7_col21,#T_f629d_row8_col1,#T_f629d_row12_col2,#T_f629d_row12_col13,#T_f629d_row19_col4,#T_f629d_row19_col6{\n            background-color:  #de6980;\n            color:  #000000;\n            max-width:  80px;\n            font-size:  10pt;\n        }#T_f629d_row6_col8,#T_f629d_row18_col17{\n            background-color:  #e6a0ae;\n            color:  #000000;\n            max-width:  80px;\n            font-size:  10pt;\n        }#T_f629d_row6_col9,#T_f629d_row7_col13,#T_f629d_row10_col13{\n            background-color:  #e17a8f;\n            color:  #000000;\n            max-width:  80px;\n            font-size:  10pt;\n        }#T_f629d_row6_col12,#T_f629d_row7_col11,#T_f629d_row7_col12,#T_f629d_row11_col18,#T_f629d_row12_col18,#T_f629d_row19_col18,#T_f629d_row20_col11{\n            background-color:  #de667e;\n            color:  #000000;\n            max-width:  80px;\n            font-size:  10pt;\n        }#T_f629d_row6_col18{\n            background-color:  #e17e92;\n            color:  #000000;\n            max-width:  80px;\n            font-size:  10pt;\n        }#T_f629d_row6_col20,#T_f629d_row8_col7,#T_f629d_row8_col10,#T_f629d_row12_col10,#T_f629d_row12_col16{\n            background-color:  #dd5f78;\n            color:  #000000;\n            max-width:  80px;\n            font-size:  10pt;\n        }#T_f629d_row7_col16,#T_f629d_row18_col14{\n            background-color:  #e0798d;\n            color:  #000000;\n            max-width:  80px;\n            font-size:  10pt;\n        }#T_f629d_row8_col6,#T_f629d_row13_col10,#T_f629d_row16_col5{\n            background-color:  #e69ead;\n            color:  #000000;\n            max-width:  80px;\n            font-size:  10pt;\n        }#T_f629d_row8_col18,#T_f629d_row12_col19,#T_f629d_row17_col18,#T_f629d_row20_col0{\n            background-color:  #e38a9c;\n            color:  #000000;\n            max-width:  80px;\n            font-size:  10pt;\n        }#T_f629d_row9_col1,#T_f629d_row10_col18,#T_f629d_row12_col20,#T_f629d_row21_col13,#T_f629d_row21_col20{\n            background-color:  #d84361;\n            color:  #f1f1f1;\n            max-width:  80px;\n            font-size:  10pt;\n        }#T_f629d_row9_col11,#T_f629d_row9_col17,#T_f629d_row10_col6,#T_f629d_row10_col15,#T_f629d_row11_col7,#T_f629d_row11_col21,#T_f629d_row12_col4,#T_f629d_row12_col7,#T_f629d_row18_col0{\n            background-color:  #da4d69;\n            color:  #000000;\n            max-width:  80px;\n            font-size:  10pt;\n        }#T_f629d_row12_col11{\n            background-color:  #9db7d7;\n            color:  #000000;\n            max-width:  80px;\n            font-size:  10pt;\n        }#T_f629d_row13_col2{\n            background-color:  #edcad1;\n            color:  #000000;\n            max-width:  80px;\n            font-size:  10pt;\n        }#T_f629d_row13_col4{\n            background-color:  #ecc5cc;\n            color:  #000000;\n            max-width:  80px;\n            font-size:  10pt;\n        }#T_f629d_row13_col5{\n            background-color:  #edcdd3;\n            color:  #000000;\n            max-width:  80px;\n            font-size:  10pt;\n        }#T_f629d_row13_col9{\n            background-color:  #e28698;\n            color:  #000000;\n            max-width:  80px;\n            font-size:  10pt;\n        }#T_f629d_row13_col12{\n            background-color:  #e48e9f;\n            color:  #000000;\n            max-width:  80px;\n            font-size:  10pt;\n        }#T_f629d_row13_col15{\n            background-color:  #e69caa;\n            color:  #000000;\n            max-width:  80px;\n            font-size:  10pt;\n        }#T_f629d_row13_col16{\n            background-color:  #e9b4be;\n            color:  #000000;\n            max-width:  80px;\n            font-size:  10pt;\n        }#T_f629d_row14_col1{\n            background-color:  #edd0d6;\n            color:  #000000;\n            max-width:  80px;\n            font-size:  10pt;\n        }#T_f629d_row14_col2,#T_f629d_row15_col21{\n            background-color:  #eab8c2;\n            color:  #000000;\n            max-width:  80px;\n            font-size:  10pt;\n        }#T_f629d_row14_col3,#T_f629d_row15_col11{\n            background-color:  #e8abb7;\n            color:  #000000;\n            max-width:  80px;\n            font-size:  10pt;\n        }#T_f629d_row14_col4,#T_f629d_row15_col6{\n            background-color:  #e7a7b4;\n            color:  #000000;\n            max-width:  80px;\n            font-size:  10pt;\n        }#T_f629d_row14_col5,#T_f629d_row19_col11,#T_f629d_row19_col12{\n            background-color:  #e7a4b1;\n            color:  #000000;\n            max-width:  80px;\n            font-size:  10pt;\n        }#T_f629d_row14_col6,#T_f629d_row14_col8{\n            background-color:  #ecc9d0;\n            color:  #000000;\n            max-width:  80px;\n            font-size:  10pt;\n        }#T_f629d_row14_col7,#T_f629d_row16_col15{\n            background-color:  #e8adb8;\n            color:  #000000;\n            max-width:  80px;\n            font-size:  10pt;\n        }#T_f629d_row14_col9,#T_f629d_row15_col2{\n            background-color:  #eabcc5;\n            color:  #000000;\n            max-width:  80px;\n            font-size:  10pt;\n        }#T_f629d_row14_col11{\n            background-color:  #eed4d9;\n            color:  #000000;\n            max-width:  80px;\n            font-size:  10pt;\n        }#T_f629d_row14_col12{\n            background-color:  #eed3d8;\n            color:  #000000;\n            max-width:  80px;\n            font-size:  10pt;\n        }#T_f629d_row14_col13{\n            background-color:  #e6a1af;\n            color:  #000000;\n            max-width:  80px;\n            font-size:  10pt;\n        }#T_f629d_row14_col16{\n            background-color:  #e48fa0;\n            color:  #000000;\n            max-width:  80px;\n            font-size:  10pt;\n        }#T_f629d_row14_col18,#T_f629d_row15_col5{\n            background-color:  #eed2d7;\n            color:  #000000;\n            max-width:  80px;\n            font-size:  10pt;\n        }#T_f629d_row14_col21,#T_f629d_row15_col9{\n            background-color:  #eabbc4;\n            color:  #000000;\n            max-width:  80px;\n            font-size:  10pt;\n        }#T_f629d_row15_col1{\n            background-color:  #e69dab;\n            color:  #000000;\n            max-width:  80px;\n            font-size:  10pt;\n        }#T_f629d_row15_col3{\n            background-color:  #edccd2;\n            color:  #000000;\n            max-width:  80px;\n            font-size:  10pt;\n        }#T_f629d_row15_col4{\n            background-color:  #edcfd5;\n            color:  #000000;\n            max-width:  80px;\n            font-size:  10pt;\n        }#T_f629d_row15_col7{\n            background-color:  #ecc8cf;\n            color:  #000000;\n            max-width:  80px;\n            font-size:  10pt;\n        }#T_f629d_row15_col8{\n            background-color:  #e7a8b5;\n            color:  #000000;\n            max-width:  80px;\n            font-size:  10pt;\n        }#T_f629d_row15_col10,#T_f629d_row15_col20{\n            background-color:  #eab7c1;\n            color:  #000000;\n            max-width:  80px;\n            font-size:  10pt;\n        }#T_f629d_row15_col12{\n            background-color:  #e8aab6;\n            color:  #000000;\n            max-width:  80px;\n            font-size:  10pt;\n        }#T_f629d_row15_col13{\n            background-color:  #eed6db;\n            color:  #000000;\n            max-width:  80px;\n            font-size:  10pt;\n        }#T_f629d_row15_col16{\n            background-color:  #f1e7e9;\n            color:  #000000;\n            max-width:  80px;\n            font-size:  10pt;\n        }#T_f629d_row15_col18{\n            background-color:  #e7a5b2;\n            color:  #000000;\n            max-width:  80px;\n            font-size:  10pt;\n        }#T_f629d_row16_col4{\n            background-color:  #e491a1;\n            color:  #000000;\n            max-width:  80px;\n            font-size:  10pt;\n        }#T_f629d_row16_col13{\n            background-color:  #e8aeba;\n            color:  #000000;\n            max-width:  80px;\n            font-size:  10pt;\n        }#T_f629d_row17_col0,#T_f629d_row17_col3,#T_f629d_row17_col6,#T_f629d_row17_col16,#T_f629d_row21_col5{\n            background-color:  #d83e5d;\n            color:  #f1f1f1;\n            max-width:  80px;\n            font-size:  10pt;\n        }#T_f629d_row17_col8,#T_f629d_row17_col9,#T_f629d_row17_col11,#T_f629d_row17_col13,#T_f629d_row17_col14,#T_f629d_row17_col15,#T_f629d_row17_col19,#T_f629d_row17_col20{\n            background-color:  #d73d5c;\n            color:  #f1f1f1;\n            max-width:  80px;\n            font-size:  10pt;\n        }#T_f629d_row18_col8{\n            background-color:  #e28497;\n            color:  #000000;\n            max-width:  80px;\n            font-size:  10pt;\n        }</style><table id=\"T_f629d_\" ><caption>Heatmap</caption><thead>    <tr>        <th class=\"blank level0\" ></th>        <th class=\"col_heading level0 col0\" >client_id</th>        <th class=\"col_heading level0 col1\" >education</th>        <th class=\"col_heading level0 col2\" >sex</th>        <th class=\"col_heading level0 col3\" >age</th>        <th class=\"col_heading level0 col4\" >car</th>        <th class=\"col_heading level0 col5\" >car_type</th>        <th class=\"col_heading level0 col6\" >decline_app_cnt</th>        <th class=\"col_heading level0 col7\" >good_work</th>        <th class=\"col_heading level0 col8\" >score_bki</th>        <th class=\"col_heading level0 col9\" >bki_request_cnt</th>        <th class=\"col_heading level0 col10\" >region_rating</th>        <th class=\"col_heading level0 col11\" >home_address</th>        <th class=\"col_heading level0 col12\" >work_address</th>        <th class=\"col_heading level0 col13\" >income</th>        <th class=\"col_heading level0 col14\" >sna</th>        <th class=\"col_heading level0 col15\" >first_time</th>        <th class=\"col_heading level0 col16\" >foreign_passport</th>        <th class=\"col_heading level0 col17\" >sample</th>        <th class=\"col_heading level0 col18\" >default</th>        <th class=\"col_heading level0 col19\" >month</th>        <th class=\"col_heading level0 col20\" >date</th>        <th class=\"col_heading level0 col21\" >dayofweek</th>    </tr></thead><tbody>\n                <tr>\n                        <th id=\"T_f629d_level0_row0\" class=\"row_heading level0 row0\" >client_id</th>\n                        <td id=\"T_f629d_row0_col0\" class=\"data row0 col0\" >1.00</td>\n                        <td id=\"T_f629d_row0_col1\" class=\"data row0 col1\" >-0.02</td>\n                        <td id=\"T_f629d_row0_col2\" class=\"data row0 col2\" >-0.03</td>\n                        <td id=\"T_f629d_row0_col3\" class=\"data row0 col3\" >0.02</td>\n                        <td id=\"T_f629d_row0_col4\" class=\"data row0 col4\" >-0.02</td>\n                        <td id=\"T_f629d_row0_col5\" class=\"data row0 col5\" >-0.02</td>\n                        <td id=\"T_f629d_row0_col6\" class=\"data row0 col6\" >-0.02</td>\n                        <td id=\"T_f629d_row0_col7\" class=\"data row0 col7\" >0.00</td>\n                        <td id=\"T_f629d_row0_col8\" class=\"data row0 col8\" >-0.06</td>\n                        <td id=\"T_f629d_row0_col9\" class=\"data row0 col9\" >-0.00</td>\n                        <td id=\"T_f629d_row0_col10\" class=\"data row0 col10\" >0.00</td>\n                        <td id=\"T_f629d_row0_col11\" class=\"data row0 col11\" >0.16</td>\n                        <td id=\"T_f629d_row0_col12\" class=\"data row0 col12\" >0.16</td>\n                        <td id=\"T_f629d_row0_col13\" class=\"data row0 col13\" >-0.00</td>\n                        <td id=\"T_f629d_row0_col14\" class=\"data row0 col14\" >-0.00</td>\n                        <td id=\"T_f629d_row0_col15\" class=\"data row0 col15\" >0.02</td>\n                        <td id=\"T_f629d_row0_col16\" class=\"data row0 col16\" >-0.01</td>\n                        <td id=\"T_f629d_row0_col17\" class=\"data row0 col17\" >0.00</td>\n                        <td id=\"T_f629d_row0_col18\" class=\"data row0 col18\" >-0.03</td>\n                        <td id=\"T_f629d_row0_col19\" class=\"data row0 col19\" >0.97</td>\n                        <td id=\"T_f629d_row0_col20\" class=\"data row0 col20\" >0.09</td>\n                        <td id=\"T_f629d_row0_col21\" class=\"data row0 col21\" >-0.03</td>\n            </tr>\n            <tr>\n                        <th id=\"T_f629d_level0_row1\" class=\"row_heading level0 row1\" >education</th>\n                        <td id=\"T_f629d_row1_col0\" class=\"data row1 col0\" >-0.02</td>\n                        <td id=\"T_f629d_row1_col1\" class=\"data row1 col1\" >1.00</td>\n                        <td id=\"T_f629d_row1_col2\" class=\"data row1 col2\" >-0.02</td>\n                        <td id=\"T_f629d_row1_col3\" class=\"data row1 col3\" >0.01</td>\n                        <td id=\"T_f629d_row1_col4\" class=\"data row1 col4\" >-0.11</td>\n                        <td id=\"T_f629d_row1_col5\" class=\"data row1 col5\" >-0.15</td>\n                        <td id=\"T_f629d_row1_col6\" class=\"data row1 col6\" >0.06</td>\n                        <td id=\"T_f629d_row1_col7\" class=\"data row1 col7\" >-0.15</td>\n                        <td id=\"T_f629d_row1_col8\" class=\"data row1 col8\" >0.04</td>\n                        <td id=\"T_f629d_row1_col9\" class=\"data row1 col9\" >-0.03</td>\n                        <td id=\"T_f629d_row1_col10\" class=\"data row1 col10\" >-0.03</td>\n                        <td id=\"T_f629d_row1_col11\" class=\"data row1 col11\" >0.01</td>\n                        <td id=\"T_f629d_row1_col12\" class=\"data row1 col12\" >0.01</td>\n                        <td id=\"T_f629d_row1_col13\" class=\"data row1 col13\" >-0.20</td>\n                        <td id=\"T_f629d_row1_col14\" class=\"data row1 col14\" >0.10</td>\n                        <td id=\"T_f629d_row1_col15\" class=\"data row1 col15\" >-0.12</td>\n                        <td id=\"T_f629d_row1_col16\" class=\"data row1 col16\" >-0.14</td>\n                        <td id=\"T_f629d_row1_col17\" class=\"data row1 col17\" >-0.00</td>\n                        <td id=\"T_f629d_row1_col18\" class=\"data row1 col18\" >0.06</td>\n                        <td id=\"T_f629d_row1_col19\" class=\"data row1 col19\" >-0.02</td>\n                        <td id=\"T_f629d_row1_col20\" class=\"data row1 col20\" >-0.00</td>\n                        <td id=\"T_f629d_row1_col21\" class=\"data row1 col21\" >0.01</td>\n            </tr>\n            <tr>\n                        <th id=\"T_f629d_level0_row2\" class=\"row_heading level0 row2\" >sex</th>\n                        <td id=\"T_f629d_row2_col0\" class=\"data row2 col0\" >-0.03</td>\n                        <td id=\"T_f629d_row2_col1\" class=\"data row2 col1\" >-0.02</td>\n                        <td id=\"T_f629d_row2_col2\" class=\"data row2 col2\" >1.00</td>\n                        <td id=\"T_f629d_row2_col3\" class=\"data row2 col3\" >-0.13</td>\n                        <td id=\"T_f629d_row2_col4\" class=\"data row2 col4\" >0.28</td>\n                        <td id=\"T_f629d_row2_col5\" class=\"data row2 col5\" >0.22</td>\n                        <td id=\"T_f629d_row2_col6\" class=\"data row2 col6\" >0.02</td>\n                        <td id=\"T_f629d_row2_col7\" class=\"data row2 col7\" >-0.04</td>\n                        <td id=\"T_f629d_row2_col8\" class=\"data row2 col8\" >-0.05</td>\n                        <td id=\"T_f629d_row2_col9\" class=\"data row2 col9\" >-0.05</td>\n                        <td id=\"T_f629d_row2_col10\" class=\"data row2 col10\" >0.05</td>\n                        <td id=\"T_f629d_row2_col11\" class=\"data row2 col11\" >0.04</td>\n                        <td id=\"T_f629d_row2_col12\" class=\"data row2 col12\" >0.07</td>\n                        <td id=\"T_f629d_row2_col13\" class=\"data row2 col13\" >0.27</td>\n                        <td id=\"T_f629d_row2_col14\" class=\"data row2 col14\" >-0.00</td>\n                        <td id=\"T_f629d_row2_col15\" class=\"data row2 col15\" >0.01</td>\n                        <td id=\"T_f629d_row2_col16\" class=\"data row2 col16\" >0.09</td>\n                        <td id=\"T_f629d_row2_col17\" class=\"data row2 col17\" >-0.01</td>\n                        <td id=\"T_f629d_row2_col18\" class=\"data row2 col18\" >0.01</td>\n                        <td id=\"T_f629d_row2_col19\" class=\"data row2 col19\" >-0.03</td>\n                        <td id=\"T_f629d_row2_col20\" class=\"data row2 col20\" >-0.01</td>\n                        <td id=\"T_f629d_row2_col21\" class=\"data row2 col21\" >0.01</td>\n            </tr>\n            <tr>\n                        <th id=\"T_f629d_level0_row3\" class=\"row_heading level0 row3\" >age</th>\n                        <td id=\"T_f629d_row3_col0\" class=\"data row3 col0\" >0.02</td>\n                        <td id=\"T_f629d_row3_col1\" class=\"data row3 col1\" >0.01</td>\n                        <td id=\"T_f629d_row3_col2\" class=\"data row3 col2\" >-0.13</td>\n                        <td id=\"T_f629d_row3_col3\" class=\"data row3 col3\" >1.00</td>\n                        <td id=\"T_f629d_row3_col4\" class=\"data row3 col4\" >-0.05</td>\n                        <td id=\"T_f629d_row3_col5\" class=\"data row3 col5\" >-0.04</td>\n                        <td id=\"T_f629d_row3_col6\" class=\"data row3 col6\" >-0.11</td>\n                        <td id=\"T_f629d_row3_col7\" class=\"data row3 col7\" >-0.07</td>\n                        <td id=\"T_f629d_row3_col8\" class=\"data row3 col8\" >-0.11</td>\n                        <td id=\"T_f629d_row3_col9\" class=\"data row3 col9\" >0.04</td>\n                        <td id=\"T_f629d_row3_col10\" class=\"data row3 col10\" >-0.06</td>\n                        <td id=\"T_f629d_row3_col11\" class=\"data row3 col11\" >0.01</td>\n                        <td id=\"T_f629d_row3_col12\" class=\"data row3 col12\" >-0.00</td>\n                        <td id=\"T_f629d_row3_col13\" class=\"data row3 col13\" >-0.12</td>\n                        <td id=\"T_f629d_row3_col14\" class=\"data row3 col14\" >-0.06</td>\n                        <td id=\"T_f629d_row3_col15\" class=\"data row3 col15\" >0.08</td>\n                        <td id=\"T_f629d_row3_col16\" class=\"data row3 col16\" >-0.04</td>\n                        <td id=\"T_f629d_row3_col17\" class=\"data row3 col17\" >0.00</td>\n                        <td id=\"T_f629d_row3_col18\" class=\"data row3 col18\" >-0.02</td>\n                        <td id=\"T_f629d_row3_col19\" class=\"data row3 col19\" >0.01</td>\n                        <td id=\"T_f629d_row3_col20\" class=\"data row3 col20\" >0.01</td>\n                        <td id=\"T_f629d_row3_col21\" class=\"data row3 col21\" >-0.01</td>\n            </tr>\n            <tr>\n                        <th id=\"T_f629d_level0_row4\" class=\"row_heading level0 row4\" >car</th>\n                        <td id=\"T_f629d_row4_col0\" class=\"data row4 col0\" >-0.02</td>\n                        <td id=\"T_f629d_row4_col1\" class=\"data row4 col1\" >-0.11</td>\n                        <td id=\"T_f629d_row4_col2\" class=\"data row4 col2\" >0.28</td>\n                        <td id=\"T_f629d_row4_col3\" class=\"data row4 col3\" >-0.05</td>\n                        <td id=\"T_f629d_row4_col4\" class=\"data row4 col4\" >1.00</td>\n                        <td id=\"T_f629d_row4_col5\" class=\"data row4 col5\" >0.70</td>\n                        <td id=\"T_f629d_row4_col6\" class=\"data row4 col6\" >-0.04</td>\n                        <td id=\"T_f629d_row4_col7\" class=\"data row4 col7\" >0.00</td>\n                        <td id=\"T_f629d_row4_col8\" class=\"data row4 col8\" >-0.04</td>\n                        <td id=\"T_f629d_row4_col9\" class=\"data row4 col9\" >-0.05</td>\n                        <td id=\"T_f629d_row4_col10\" class=\"data row4 col10\" >0.03</td>\n                        <td id=\"T_f629d_row4_col11\" class=\"data row4 col11\" >-0.02</td>\n                        <td id=\"T_f629d_row4_col12\" class=\"data row4 col12\" >-0.01</td>\n                        <td id=\"T_f629d_row4_col13\" class=\"data row4 col13\" >0.25</td>\n                        <td id=\"T_f629d_row4_col14\" class=\"data row4 col14\" >-0.07</td>\n                        <td id=\"T_f629d_row4_col15\" class=\"data row4 col15\" >0.09</td>\n                        <td id=\"T_f629d_row4_col16\" class=\"data row4 col16\" >0.11</td>\n                        <td id=\"T_f629d_row4_col17\" class=\"data row4 col17\" >-0.00</td>\n                        <td id=\"T_f629d_row4_col18\" class=\"data row4 col18\" >-0.03</td>\n                        <td id=\"T_f629d_row4_col19\" class=\"data row4 col19\" >-0.02</td>\n                        <td id=\"T_f629d_row4_col20\" class=\"data row4 col20\" >-0.01</td>\n                        <td id=\"T_f629d_row4_col21\" class=\"data row4 col21\" >-0.02</td>\n            </tr>\n            <tr>\n                        <th id=\"T_f629d_level0_row5\" class=\"row_heading level0 row5\" >car_type</th>\n                        <td id=\"T_f629d_row5_col0\" class=\"data row5 col0\" >-0.02</td>\n                        <td id=\"T_f629d_row5_col1\" class=\"data row5 col1\" >-0.15</td>\n                        <td id=\"T_f629d_row5_col2\" class=\"data row5 col2\" >0.22</td>\n                        <td id=\"T_f629d_row5_col3\" class=\"data row5 col3\" >-0.04</td>\n                        <td id=\"T_f629d_row5_col4\" class=\"data row5 col4\" >0.70</td>\n                        <td id=\"T_f629d_row5_col5\" class=\"data row5 col5\" >1.00</td>\n                        <td id=\"T_f629d_row5_col6\" class=\"data row5 col6\" >-0.05</td>\n                        <td id=\"T_f629d_row5_col7\" class=\"data row5 col7\" >0.02</td>\n                        <td id=\"T_f629d_row5_col8\" class=\"data row5 col8\" >-0.04</td>\n                        <td id=\"T_f629d_row5_col9\" class=\"data row5 col9\" >-0.02</td>\n                        <td id=\"T_f629d_row5_col10\" class=\"data row5 col10\" >0.04</td>\n                        <td id=\"T_f629d_row5_col11\" class=\"data row5 col11\" >-0.01</td>\n                        <td id=\"T_f629d_row5_col12\" class=\"data row5 col12\" >0.00</td>\n                        <td id=\"T_f629d_row5_col13\" class=\"data row5 col13\" >0.28</td>\n                        <td id=\"T_f629d_row5_col14\" class=\"data row5 col14\" >-0.09</td>\n                        <td id=\"T_f629d_row5_col15\" class=\"data row5 col15\" >0.10</td>\n                        <td id=\"T_f629d_row5_col16\" class=\"data row5 col16\" >0.15</td>\n                        <td id=\"T_f629d_row5_col17\" class=\"data row5 col17\" >-0.00</td>\n                        <td id=\"T_f629d_row5_col18\" class=\"data row5 col18\" >-0.05</td>\n                        <td id=\"T_f629d_row5_col19\" class=\"data row5 col19\" >-0.02</td>\n                        <td id=\"T_f629d_row5_col20\" class=\"data row5 col20\" >-0.01</td>\n                        <td id=\"T_f629d_row5_col21\" class=\"data row5 col21\" >-0.02</td>\n            </tr>\n            <tr>\n                        <th id=\"T_f629d_level0_row6\" class=\"row_heading level0 row6\" >decline_app_cnt</th>\n                        <td id=\"T_f629d_row6_col0\" class=\"data row6 col0\" >-0.02</td>\n                        <td id=\"T_f629d_row6_col1\" class=\"data row6 col1\" >0.06</td>\n                        <td id=\"T_f629d_row6_col2\" class=\"data row6 col2\" >0.02</td>\n                        <td id=\"T_f629d_row6_col3\" class=\"data row6 col3\" >-0.11</td>\n                        <td id=\"T_f629d_row6_col4\" class=\"data row6 col4\" >-0.04</td>\n                        <td id=\"T_f629d_row6_col5\" class=\"data row6 col5\" >-0.05</td>\n                        <td id=\"T_f629d_row6_col6\" class=\"data row6 col6\" >1.00</td>\n                        <td id=\"T_f629d_row6_col7\" class=\"data row6 col7\" >-0.04</td>\n                        <td id=\"T_f629d_row6_col8\" class=\"data row6 col8\" >0.19</td>\n                        <td id=\"T_f629d_row6_col9\" class=\"data row6 col9\" >0.08</td>\n                        <td id=\"T_f629d_row6_col10\" class=\"data row6 col10\" >-0.01</td>\n                        <td id=\"T_f629d_row6_col11\" class=\"data row6 col11\" >0.01</td>\n                        <td id=\"T_f629d_row6_col12\" class=\"data row6 col12\" >0.02</td>\n                        <td id=\"T_f629d_row6_col13\" class=\"data row6 col13\" >-0.00</td>\n                        <td id=\"T_f629d_row6_col14\" class=\"data row6 col14\" >0.07</td>\n                        <td id=\"T_f629d_row6_col15\" class=\"data row6 col15\" >-0.08</td>\n                        <td id=\"T_f629d_row6_col16\" class=\"data row6 col16\" >-0.03</td>\n                        <td id=\"T_f629d_row6_col17\" class=\"data row6 col17\" >0.00</td>\n                        <td id=\"T_f629d_row6_col18\" class=\"data row6 col18\" >0.09</td>\n                        <td id=\"T_f629d_row6_col19\" class=\"data row6 col19\" >-0.02</td>\n                        <td id=\"T_f629d_row6_col20\" class=\"data row6 col20\" >-0.01</td>\n                        <td id=\"T_f629d_row6_col21\" class=\"data row6 col21\" >0.01</td>\n            </tr>\n            <tr>\n                        <th id=\"T_f629d_level0_row7\" class=\"row_heading level0 row7\" >good_work</th>\n                        <td id=\"T_f629d_row7_col0\" class=\"data row7 col0\" >0.00</td>\n                        <td id=\"T_f629d_row7_col1\" class=\"data row7 col1\" >-0.15</td>\n                        <td id=\"T_f629d_row7_col2\" class=\"data row7 col2\" >-0.04</td>\n                        <td id=\"T_f629d_row7_col3\" class=\"data row7 col3\" >-0.07</td>\n                        <td id=\"T_f629d_row7_col4\" class=\"data row7 col4\" >0.00</td>\n                        <td id=\"T_f629d_row7_col5\" class=\"data row7 col5\" >0.02</td>\n                        <td id=\"T_f629d_row7_col6\" class=\"data row7 col6\" >-0.04</td>\n                        <td id=\"T_f629d_row7_col7\" class=\"data row7 col7\" >1.00</td>\n                        <td id=\"T_f629d_row7_col8\" class=\"data row7 col8\" >0.01</td>\n                        <td id=\"T_f629d_row7_col9\" class=\"data row7 col9\" >0.01</td>\n                        <td id=\"T_f629d_row7_col10\" class=\"data row7 col10\" >0.02</td>\n                        <td id=\"T_f629d_row7_col11\" class=\"data row7 col11\" >-0.01</td>\n                        <td id=\"T_f629d_row7_col12\" class=\"data row7 col12\" >-0.01</td>\n                        <td id=\"T_f629d_row7_col13\" class=\"data row7 col13\" >0.05</td>\n                        <td id=\"T_f629d_row7_col14\" class=\"data row7 col14\" >-0.05</td>\n                        <td id=\"T_f629d_row7_col15\" class=\"data row7 col15\" >0.06</td>\n                        <td id=\"T_f629d_row7_col16\" class=\"data row7 col16\" >0.05</td>\n                        <td id=\"T_f629d_row7_col17\" class=\"data row7 col17\" >-0.00</td>\n                        <td id=\"T_f629d_row7_col18\" class=\"data row7 col18\" >-0.04</td>\n                        <td id=\"T_f629d_row7_col19\" class=\"data row7 col19\" >0.00</td>\n                        <td id=\"T_f629d_row7_col20\" class=\"data row7 col20\" >-0.00</td>\n                        <td id=\"T_f629d_row7_col21\" class=\"data row7 col21\" >0.00</td>\n            </tr>\n            <tr>\n                        <th id=\"T_f629d_level0_row8\" class=\"row_heading level0 row8\" >score_bki</th>\n                        <td id=\"T_f629d_row8_col0\" class=\"data row8 col0\" >-0.06</td>\n                        <td id=\"T_f629d_row8_col1\" class=\"data row8 col1\" >0.04</td>\n                        <td id=\"T_f629d_row8_col2\" class=\"data row8 col2\" >-0.05</td>\n                        <td id=\"T_f629d_row8_col3\" class=\"data row8 col3\" >-0.11</td>\n                        <td id=\"T_f629d_row8_col4\" class=\"data row8 col4\" >-0.04</td>\n                        <td id=\"T_f629d_row8_col5\" class=\"data row8 col5\" >-0.04</td>\n                        <td id=\"T_f629d_row8_col6\" class=\"data row8 col6\" >0.19</td>\n                        <td id=\"T_f629d_row8_col7\" class=\"data row8 col7\" >0.01</td>\n                        <td id=\"T_f629d_row8_col8\" class=\"data row8 col8\" >1.00</td>\n                        <td id=\"T_f629d_row8_col9\" class=\"data row8 col9\" >0.11</td>\n                        <td id=\"T_f629d_row8_col10\" class=\"data row8 col10\" >0.01</td>\n                        <td id=\"T_f629d_row8_col11\" class=\"data row8 col11\" >0.01</td>\n                        <td id=\"T_f629d_row8_col12\" class=\"data row8 col12\" >0.02</td>\n                        <td id=\"T_f629d_row8_col13\" class=\"data row8 col13\" >0.02</td>\n                        <td id=\"T_f629d_row8_col14\" class=\"data row8 col14\" >0.07</td>\n                        <td id=\"T_f629d_row8_col15\" class=\"data row8 col15\" >-0.07</td>\n                        <td id=\"T_f629d_row8_col16\" class=\"data row8 col16\" >-0.02</td>\n                        <td id=\"T_f629d_row8_col17\" class=\"data row8 col17\" >-0.00</td>\n                        <td id=\"T_f629d_row8_col18\" class=\"data row8 col18\" >0.14</td>\n                        <td id=\"T_f629d_row8_col19\" class=\"data row8 col19\" >-0.06</td>\n                        <td id=\"T_f629d_row8_col20\" class=\"data row8 col20\" >0.00</td>\n                        <td id=\"T_f629d_row8_col21\" class=\"data row8 col21\" >-0.00</td>\n            </tr>\n            <tr>\n                        <th id=\"T_f629d_level0_row9\" class=\"row_heading level0 row9\" >bki_request_cnt</th>\n                        <td id=\"T_f629d_row9_col0\" class=\"data row9 col0\" >-0.00</td>\n                        <td id=\"T_f629d_row9_col1\" class=\"data row9 col1\" >-0.03</td>\n                        <td id=\"T_f629d_row9_col2\" class=\"data row9 col2\" >-0.05</td>\n                        <td id=\"T_f629d_row9_col3\" class=\"data row9 col3\" >0.04</td>\n                        <td id=\"T_f629d_row9_col4\" class=\"data row9 col4\" >-0.05</td>\n                        <td id=\"T_f629d_row9_col5\" class=\"data row9 col5\" >-0.02</td>\n                        <td id=\"T_f629d_row9_col6\" class=\"data row9 col6\" >0.08</td>\n                        <td id=\"T_f629d_row9_col7\" class=\"data row9 col7\" >0.01</td>\n                        <td id=\"T_f629d_row9_col8\" class=\"data row9 col8\" >0.11</td>\n                        <td id=\"T_f629d_row9_col9\" class=\"data row9 col9\" >1.00</td>\n                        <td id=\"T_f629d_row9_col10\" class=\"data row9 col10\" >0.00</td>\n                        <td id=\"T_f629d_row9_col11\" class=\"data row9 col11\" >-0.00</td>\n                        <td id=\"T_f629d_row9_col12\" class=\"data row9 col12\" >-0.01</td>\n                        <td id=\"T_f629d_row9_col13\" class=\"data row9 col13\" >0.05</td>\n                        <td id=\"T_f629d_row9_col14\" class=\"data row9 col14\" >0.01</td>\n                        <td id=\"T_f629d_row9_col15\" class=\"data row9 col15\" >0.01</td>\n                        <td id=\"T_f629d_row9_col16\" class=\"data row9 col16\" >-0.01</td>\n                        <td id=\"T_f629d_row9_col17\" class=\"data row9 col17\" >-0.00</td>\n                        <td id=\"T_f629d_row9_col18\" class=\"data row9 col18\" >0.05</td>\n                        <td id=\"T_f629d_row9_col19\" class=\"data row9 col19\" >-0.01</td>\n                        <td id=\"T_f629d_row9_col20\" class=\"data row9 col20\" >0.01</td>\n                        <td id=\"T_f629d_row9_col21\" class=\"data row9 col21\" >0.01</td>\n            </tr>\n            <tr>\n                        <th id=\"T_f629d_level0_row10\" class=\"row_heading level0 row10\" >region_rating</th>\n                        <td id=\"T_f629d_row10_col0\" class=\"data row10 col0\" >0.00</td>\n                        <td id=\"T_f629d_row10_col1\" class=\"data row10 col1\" >-0.03</td>\n                        <td id=\"T_f629d_row10_col2\" class=\"data row10 col2\" >0.05</td>\n                        <td id=\"T_f629d_row10_col3\" class=\"data row10 col3\" >-0.06</td>\n                        <td id=\"T_f629d_row10_col4\" class=\"data row10 col4\" >0.03</td>\n                        <td id=\"T_f629d_row10_col5\" class=\"data row10 col5\" >0.04</td>\n                        <td id=\"T_f629d_row10_col6\" class=\"data row10 col6\" >-0.01</td>\n                        <td id=\"T_f629d_row10_col7\" class=\"data row10 col7\" >0.02</td>\n                        <td id=\"T_f629d_row10_col8\" class=\"data row10 col8\" >0.01</td>\n                        <td id=\"T_f629d_row10_col9\" class=\"data row10 col9\" >0.00</td>\n                        <td id=\"T_f629d_row10_col10\" class=\"data row10 col10\" >1.00</td>\n                        <td id=\"T_f629d_row10_col11\" class=\"data row10 col11\" >-0.03</td>\n                        <td id=\"T_f629d_row10_col12\" class=\"data row10 col12\" >0.04</td>\n                        <td id=\"T_f629d_row10_col13\" class=\"data row10 col13\" >0.12</td>\n                        <td id=\"T_f629d_row10_col14\" class=\"data row10 col14\" >0.00</td>\n                        <td id=\"T_f629d_row10_col15\" class=\"data row10 col15\" >-0.01</td>\n                        <td id=\"T_f629d_row10_col16\" class=\"data row10 col16\" >0.07</td>\n                        <td id=\"T_f629d_row10_col17\" class=\"data row10 col17\" >-0.00</td>\n                        <td id=\"T_f629d_row10_col18\" class=\"data row10 col18\" >-0.04</td>\n                        <td id=\"T_f629d_row10_col19\" class=\"data row10 col19\" >0.00</td>\n                        <td id=\"T_f629d_row10_col20\" class=\"data row10 col20\" >0.01</td>\n                        <td id=\"T_f629d_row10_col21\" class=\"data row10 col21\" >0.00</td>\n            </tr>\n            <tr>\n                        <th id=\"T_f629d_level0_row11\" class=\"row_heading level0 row11\" >home_address</th>\n                        <td id=\"T_f629d_row11_col0\" class=\"data row11 col0\" >0.16</td>\n                        <td id=\"T_f629d_row11_col1\" class=\"data row11 col1\" >0.01</td>\n                        <td id=\"T_f629d_row11_col2\" class=\"data row11 col2\" >0.04</td>\n                        <td id=\"T_f629d_row11_col3\" class=\"data row11 col3\" >0.01</td>\n                        <td id=\"T_f629d_row11_col4\" class=\"data row11 col4\" >-0.02</td>\n                        <td id=\"T_f629d_row11_col5\" class=\"data row11 col5\" >-0.01</td>\n                        <td id=\"T_f629d_row11_col6\" class=\"data row11 col6\" >0.01</td>\n                        <td id=\"T_f629d_row11_col7\" class=\"data row11 col7\" >-0.01</td>\n                        <td id=\"T_f629d_row11_col8\" class=\"data row11 col8\" >0.01</td>\n                        <td id=\"T_f629d_row11_col9\" class=\"data row11 col9\" >-0.00</td>\n                        <td id=\"T_f629d_row11_col10\" class=\"data row11 col10\" >-0.03</td>\n                        <td id=\"T_f629d_row11_col11\" class=\"data row11 col11\" >1.00</td>\n                        <td id=\"T_f629d_row11_col12\" class=\"data row11 col12\" >0.73</td>\n                        <td id=\"T_f629d_row11_col13\" class=\"data row11 col13\" >0.05</td>\n                        <td id=\"T_f629d_row11_col14\" class=\"data row11 col14\" >0.11</td>\n                        <td id=\"T_f629d_row11_col15\" class=\"data row11 col15\" >-0.06</td>\n                        <td id=\"T_f629d_row11_col16\" class=\"data row11 col16\" >0.04</td>\n                        <td id=\"T_f629d_row11_col17\" class=\"data row11 col17\" >0.00</td>\n                        <td id=\"T_f629d_row11_col18\" class=\"data row11 col18\" >0.07</td>\n                        <td id=\"T_f629d_row11_col19\" class=\"data row11 col19\" >0.17</td>\n                        <td id=\"T_f629d_row11_col20\" class=\"data row11 col20\" >-0.03</td>\n                        <td id=\"T_f629d_row11_col21\" class=\"data row11 col21\" >-0.01</td>\n            </tr>\n            <tr>\n                        <th id=\"T_f629d_level0_row12\" class=\"row_heading level0 row12\" >work_address</th>\n                        <td id=\"T_f629d_row12_col0\" class=\"data row12 col0\" >0.16</td>\n                        <td id=\"T_f629d_row12_col1\" class=\"data row12 col1\" >0.01</td>\n                        <td id=\"T_f629d_row12_col2\" class=\"data row12 col2\" >0.07</td>\n                        <td id=\"T_f629d_row12_col3\" class=\"data row12 col3\" >-0.00</td>\n                        <td id=\"T_f629d_row12_col4\" class=\"data row12 col4\" >-0.01</td>\n                        <td id=\"T_f629d_row12_col5\" class=\"data row12 col5\" >0.00</td>\n                        <td id=\"T_f629d_row12_col6\" class=\"data row12 col6\" >0.02</td>\n                        <td id=\"T_f629d_row12_col7\" class=\"data row12 col7\" >-0.01</td>\n                        <td id=\"T_f629d_row12_col8\" class=\"data row12 col8\" >0.02</td>\n                        <td id=\"T_f629d_row12_col9\" class=\"data row12 col9\" >-0.01</td>\n                        <td id=\"T_f629d_row12_col10\" class=\"data row12 col10\" >0.04</td>\n                        <td id=\"T_f629d_row12_col11\" class=\"data row12 col11\" >0.73</td>\n                        <td id=\"T_f629d_row12_col12\" class=\"data row12 col12\" >1.00</td>\n                        <td id=\"T_f629d_row12_col13\" class=\"data row12 col13\" >0.07</td>\n                        <td id=\"T_f629d_row12_col14\" class=\"data row12 col14\" >0.11</td>\n                        <td id=\"T_f629d_row12_col15\" class=\"data row12 col15\" >-0.06</td>\n                        <td id=\"T_f629d_row12_col16\" class=\"data row12 col16\" >0.04</td>\n                        <td id=\"T_f629d_row12_col17\" class=\"data row12 col17\" >-0.00</td>\n                        <td id=\"T_f629d_row12_col18\" class=\"data row12 col18\" >0.06</td>\n                        <td id=\"T_f629d_row12_col19\" class=\"data row12 col19\" >0.17</td>\n                        <td id=\"T_f629d_row12_col20\" class=\"data row12 col20\" >-0.04</td>\n                        <td id=\"T_f629d_row12_col21\" class=\"data row12 col21\" >-0.02</td>\n            </tr>\n            <tr>\n                        <th id=\"T_f629d_level0_row13\" class=\"row_heading level0 row13\" >income</th>\n                        <td id=\"T_f629d_row13_col0\" class=\"data row13 col0\" >-0.00</td>\n                        <td id=\"T_f629d_row13_col1\" class=\"data row13 col1\" >-0.20</td>\n                        <td id=\"T_f629d_row13_col2\" class=\"data row13 col2\" >0.27</td>\n                        <td id=\"T_f629d_row13_col3\" class=\"data row13 col3\" >-0.12</td>\n                        <td id=\"T_f629d_row13_col4\" class=\"data row13 col4\" >0.25</td>\n                        <td id=\"T_f629d_row13_col5\" class=\"data row13 col5\" >0.28</td>\n                        <td id=\"T_f629d_row13_col6\" class=\"data row13 col6\" >-0.00</td>\n                        <td id=\"T_f629d_row13_col7\" class=\"data row13 col7\" >0.05</td>\n                        <td id=\"T_f629d_row13_col8\" class=\"data row13 col8\" >0.02</td>\n                        <td id=\"T_f629d_row13_col9\" class=\"data row13 col9\" >0.05</td>\n                        <td id=\"T_f629d_row13_col10\" class=\"data row13 col10\" >0.12</td>\n                        <td id=\"T_f629d_row13_col11\" class=\"data row13 col11\" >0.05</td>\n                        <td id=\"T_f629d_row13_col12\" class=\"data row13 col12\" >0.07</td>\n                        <td id=\"T_f629d_row13_col13\" class=\"data row13 col13\" >1.00</td>\n                        <td id=\"T_f629d_row13_col14\" class=\"data row13 col14\" >-0.10</td>\n                        <td id=\"T_f629d_row13_col15\" class=\"data row13 col15\" >0.12</td>\n                        <td id=\"T_f629d_row13_col16\" class=\"data row13 col16\" >0.20</td>\n                        <td id=\"T_f629d_row13_col17\" class=\"data row13 col17\" >-0.00</td>\n                        <td id=\"T_f629d_row13_col18\" class=\"data row13 col18\" >-0.04</td>\n                        <td id=\"T_f629d_row13_col19\" class=\"data row13 col19\" >-0.00</td>\n                        <td id=\"T_f629d_row13_col20\" class=\"data row13 col20\" >-0.01</td>\n                        <td id=\"T_f629d_row13_col21\" class=\"data row13 col21\" >-0.01</td>\n            </tr>\n            <tr>\n                        <th id=\"T_f629d_level0_row14\" class=\"row_heading level0 row14\" >sna</th>\n                        <td id=\"T_f629d_row14_col0\" class=\"data row14 col0\" >-0.00</td>\n                        <td id=\"T_f629d_row14_col1\" class=\"data row14 col1\" >0.10</td>\n                        <td id=\"T_f629d_row14_col2\" class=\"data row14 col2\" >-0.00</td>\n                        <td id=\"T_f629d_row14_col3\" class=\"data row14 col3\" >-0.06</td>\n                        <td id=\"T_f629d_row14_col4\" class=\"data row14 col4\" >-0.07</td>\n                        <td id=\"T_f629d_row14_col5\" class=\"data row14 col5\" >-0.09</td>\n                        <td id=\"T_f629d_row14_col6\" class=\"data row14 col6\" >0.07</td>\n                        <td id=\"T_f629d_row14_col7\" class=\"data row14 col7\" >-0.05</td>\n                        <td id=\"T_f629d_row14_col8\" class=\"data row14 col8\" >0.07</td>\n                        <td id=\"T_f629d_row14_col9\" class=\"data row14 col9\" >0.01</td>\n                        <td id=\"T_f629d_row14_col10\" class=\"data row14 col10\" >0.00</td>\n                        <td id=\"T_f629d_row14_col11\" class=\"data row14 col11\" >0.11</td>\n                        <td id=\"T_f629d_row14_col12\" class=\"data row14 col12\" >0.11</td>\n                        <td id=\"T_f629d_row14_col13\" class=\"data row14 col13\" >-0.10</td>\n                        <td id=\"T_f629d_row14_col14\" class=\"data row14 col14\" >1.00</td>\n                        <td id=\"T_f629d_row14_col15\" class=\"data row14 col15\" >-0.53</td>\n                        <td id=\"T_f629d_row14_col16\" class=\"data row14 col16\" >-0.17</td>\n                        <td id=\"T_f629d_row14_col17\" class=\"data row14 col17\" >0.00</td>\n                        <td id=\"T_f629d_row14_col18\" class=\"data row14 col18\" >0.10</td>\n                        <td id=\"T_f629d_row14_col19\" class=\"data row14 col19\" >-0.00</td>\n                        <td id=\"T_f629d_row14_col20\" class=\"data row14 col20\" >0.00</td>\n                        <td id=\"T_f629d_row14_col21\" class=\"data row14 col21\" >0.00</td>\n            </tr>\n            <tr>\n                        <th id=\"T_f629d_level0_row15\" class=\"row_heading level0 row15\" >first_time</th>\n                        <td id=\"T_f629d_row15_col0\" class=\"data row15 col0\" >0.02</td>\n                        <td id=\"T_f629d_row15_col1\" class=\"data row15 col1\" >-0.12</td>\n                        <td id=\"T_f629d_row15_col2\" class=\"data row15 col2\" >0.01</td>\n                        <td id=\"T_f629d_row15_col3\" class=\"data row15 col3\" >0.08</td>\n                        <td id=\"T_f629d_row15_col4\" class=\"data row15 col4\" >0.09</td>\n                        <td id=\"T_f629d_row15_col5\" class=\"data row15 col5\" >0.10</td>\n                        <td id=\"T_f629d_row15_col6\" class=\"data row15 col6\" >-0.08</td>\n                        <td id=\"T_f629d_row15_col7\" class=\"data row15 col7\" >0.06</td>\n                        <td id=\"T_f629d_row15_col8\" class=\"data row15 col8\" >-0.07</td>\n                        <td id=\"T_f629d_row15_col9\" class=\"data row15 col9\" >0.01</td>\n                        <td id=\"T_f629d_row15_col10\" class=\"data row15 col10\" >-0.01</td>\n                        <td id=\"T_f629d_row15_col11\" class=\"data row15 col11\" >-0.06</td>\n                        <td id=\"T_f629d_row15_col12\" class=\"data row15 col12\" >-0.06</td>\n                        <td id=\"T_f629d_row15_col13\" class=\"data row15 col13\" >0.12</td>\n                        <td id=\"T_f629d_row15_col14\" class=\"data row15 col14\" >-0.53</td>\n                        <td id=\"T_f629d_row15_col15\" class=\"data row15 col15\" >1.00</td>\n                        <td id=\"T_f629d_row15_col16\" class=\"data row15 col16\" >0.19</td>\n                        <td id=\"T_f629d_row15_col17\" class=\"data row15 col17\" >-0.00</td>\n                        <td id=\"T_f629d_row15_col18\" class=\"data row15 col18\" >-0.08</td>\n                        <td id=\"T_f629d_row15_col19\" class=\"data row15 col19\" >0.02</td>\n                        <td id=\"T_f629d_row15_col20\" class=\"data row15 col20\" >-0.01</td>\n                        <td id=\"T_f629d_row15_col21\" class=\"data row15 col21\" >-0.01</td>\n            </tr>\n            <tr>\n                        <th id=\"T_f629d_level0_row16\" class=\"row_heading level0 row16\" >foreign_passport</th>\n                        <td id=\"T_f629d_row16_col0\" class=\"data row16 col0\" >-0.01</td>\n                        <td id=\"T_f629d_row16_col1\" class=\"data row16 col1\" >-0.14</td>\n                        <td id=\"T_f629d_row16_col2\" class=\"data row16 col2\" >0.09</td>\n                        <td id=\"T_f629d_row16_col3\" class=\"data row16 col3\" >-0.04</td>\n                        <td id=\"T_f629d_row16_col4\" class=\"data row16 col4\" >0.11</td>\n                        <td id=\"T_f629d_row16_col5\" class=\"data row16 col5\" >0.15</td>\n                        <td id=\"T_f629d_row16_col6\" class=\"data row16 col6\" >-0.03</td>\n                        <td id=\"T_f629d_row16_col7\" class=\"data row16 col7\" >0.05</td>\n                        <td id=\"T_f629d_row16_col8\" class=\"data row16 col8\" >-0.02</td>\n                        <td id=\"T_f629d_row16_col9\" class=\"data row16 col9\" >-0.01</td>\n                        <td id=\"T_f629d_row16_col10\" class=\"data row16 col10\" >0.07</td>\n                        <td id=\"T_f629d_row16_col11\" class=\"data row16 col11\" >0.04</td>\n                        <td id=\"T_f629d_row16_col12\" class=\"data row16 col12\" >0.04</td>\n                        <td id=\"T_f629d_row16_col13\" class=\"data row16 col13\" >0.20</td>\n                        <td id=\"T_f629d_row16_col14\" class=\"data row16 col14\" >-0.17</td>\n                        <td id=\"T_f629d_row16_col15\" class=\"data row16 col15\" >0.19</td>\n                        <td id=\"T_f629d_row16_col16\" class=\"data row16 col16\" >1.00</td>\n                        <td id=\"T_f629d_row16_col17\" class=\"data row16 col17\" >0.00</td>\n                        <td id=\"T_f629d_row16_col18\" class=\"data row16 col18\" >-0.05</td>\n                        <td id=\"T_f629d_row16_col19\" class=\"data row16 col19\" >-0.01</td>\n                        <td id=\"T_f629d_row16_col20\" class=\"data row16 col20\" >-0.00</td>\n                        <td id=\"T_f629d_row16_col21\" class=\"data row16 col21\" >-0.00</td>\n            </tr>\n            <tr>\n                        <th id=\"T_f629d_level0_row17\" class=\"row_heading level0 row17\" >sample</th>\n                        <td id=\"T_f629d_row17_col0\" class=\"data row17 col0\" >0.00</td>\n                        <td id=\"T_f629d_row17_col1\" class=\"data row17 col1\" >-0.00</td>\n                        <td id=\"T_f629d_row17_col2\" class=\"data row17 col2\" >-0.01</td>\n                        <td id=\"T_f629d_row17_col3\" class=\"data row17 col3\" >0.00</td>\n                        <td id=\"T_f629d_row17_col4\" class=\"data row17 col4\" >-0.00</td>\n                        <td id=\"T_f629d_row17_col5\" class=\"data row17 col5\" >-0.00</td>\n                        <td id=\"T_f629d_row17_col6\" class=\"data row17 col6\" >0.00</td>\n                        <td id=\"T_f629d_row17_col7\" class=\"data row17 col7\" >-0.00</td>\n                        <td id=\"T_f629d_row17_col8\" class=\"data row17 col8\" >-0.00</td>\n                        <td id=\"T_f629d_row17_col9\" class=\"data row17 col9\" >-0.00</td>\n                        <td id=\"T_f629d_row17_col10\" class=\"data row17 col10\" >-0.00</td>\n                        <td id=\"T_f629d_row17_col11\" class=\"data row17 col11\" >0.00</td>\n                        <td id=\"T_f629d_row17_col12\" class=\"data row17 col12\" >-0.00</td>\n                        <td id=\"T_f629d_row17_col13\" class=\"data row17 col13\" >-0.00</td>\n                        <td id=\"T_f629d_row17_col14\" class=\"data row17 col14\" >0.00</td>\n                        <td id=\"T_f629d_row17_col15\" class=\"data row17 col15\" >-0.00</td>\n                        <td id=\"T_f629d_row17_col16\" class=\"data row17 col16\" >0.00</td>\n                        <td id=\"T_f629d_row17_col17\" class=\"data row17 col17\" >1.00</td>\n                        <td id=\"T_f629d_row17_col18\" class=\"data row17 col18\" >0.21</td>\n                        <td id=\"T_f629d_row17_col19\" class=\"data row17 col19\" >0.00</td>\n                        <td id=\"T_f629d_row17_col20\" class=\"data row17 col20\" >0.00</td>\n                        <td id=\"T_f629d_row17_col21\" class=\"data row17 col21\" >-0.00</td>\n            </tr>\n            <tr>\n                        <th id=\"T_f629d_level0_row18\" class=\"row_heading level0 row18\" >default</th>\n                        <td id=\"T_f629d_row18_col0\" class=\"data row18 col0\" >-0.03</td>\n                        <td id=\"T_f629d_row18_col1\" class=\"data row18 col1\" >0.06</td>\n                        <td id=\"T_f629d_row18_col2\" class=\"data row18 col2\" >0.01</td>\n                        <td id=\"T_f629d_row18_col3\" class=\"data row18 col3\" >-0.02</td>\n                        <td id=\"T_f629d_row18_col4\" class=\"data row18 col4\" >-0.03</td>\n                        <td id=\"T_f629d_row18_col5\" class=\"data row18 col5\" >-0.05</td>\n                        <td id=\"T_f629d_row18_col6\" class=\"data row18 col6\" >0.09</td>\n                        <td id=\"T_f629d_row18_col7\" class=\"data row18 col7\" >-0.04</td>\n                        <td id=\"T_f629d_row18_col8\" class=\"data row18 col8\" >0.14</td>\n                        <td id=\"T_f629d_row18_col9\" class=\"data row18 col9\" >0.05</td>\n                        <td id=\"T_f629d_row18_col10\" class=\"data row18 col10\" >-0.04</td>\n                        <td id=\"T_f629d_row18_col11\" class=\"data row18 col11\" >0.07</td>\n                        <td id=\"T_f629d_row18_col12\" class=\"data row18 col12\" >0.06</td>\n                        <td id=\"T_f629d_row18_col13\" class=\"data row18 col13\" >-0.04</td>\n                        <td id=\"T_f629d_row18_col14\" class=\"data row18 col14\" >0.10</td>\n                        <td id=\"T_f629d_row18_col15\" class=\"data row18 col15\" >-0.08</td>\n                        <td id=\"T_f629d_row18_col16\" class=\"data row18 col16\" >-0.05</td>\n                        <td id=\"T_f629d_row18_col17\" class=\"data row18 col17\" >0.21</td>\n                        <td id=\"T_f629d_row18_col18\" class=\"data row18 col18\" >1.00</td>\n                        <td id=\"T_f629d_row18_col19\" class=\"data row18 col19\" >-0.03</td>\n                        <td id=\"T_f629d_row18_col20\" class=\"data row18 col20\" >-0.00</td>\n                        <td id=\"T_f629d_row18_col21\" class=\"data row18 col21\" >0.00</td>\n            </tr>\n            <tr>\n                        <th id=\"T_f629d_level0_row19\" class=\"row_heading level0 row19\" >month</th>\n                        <td id=\"T_f629d_row19_col0\" class=\"data row19 col0\" >0.97</td>\n                        <td id=\"T_f629d_row19_col1\" class=\"data row19 col1\" >-0.02</td>\n                        <td id=\"T_f629d_row19_col2\" class=\"data row19 col2\" >-0.03</td>\n                        <td id=\"T_f629d_row19_col3\" class=\"data row19 col3\" >0.01</td>\n                        <td id=\"T_f629d_row19_col4\" class=\"data row19 col4\" >-0.02</td>\n                        <td id=\"T_f629d_row19_col5\" class=\"data row19 col5\" >-0.02</td>\n                        <td id=\"T_f629d_row19_col6\" class=\"data row19 col6\" >-0.02</td>\n                        <td id=\"T_f629d_row19_col7\" class=\"data row19 col7\" >0.00</td>\n                        <td id=\"T_f629d_row19_col8\" class=\"data row19 col8\" >-0.06</td>\n                        <td id=\"T_f629d_row19_col9\" class=\"data row19 col9\" >-0.01</td>\n                        <td id=\"T_f629d_row19_col10\" class=\"data row19 col10\" >0.00</td>\n                        <td id=\"T_f629d_row19_col11\" class=\"data row19 col11\" >0.17</td>\n                        <td id=\"T_f629d_row19_col12\" class=\"data row19 col12\" >0.17</td>\n                        <td id=\"T_f629d_row19_col13\" class=\"data row19 col13\" >-0.00</td>\n                        <td id=\"T_f629d_row19_col14\" class=\"data row19 col14\" >-0.00</td>\n                        <td id=\"T_f629d_row19_col15\" class=\"data row19 col15\" >0.02</td>\n                        <td id=\"T_f629d_row19_col16\" class=\"data row19 col16\" >-0.01</td>\n                        <td id=\"T_f629d_row19_col17\" class=\"data row19 col17\" >0.00</td>\n                        <td id=\"T_f629d_row19_col18\" class=\"data row19 col18\" >-0.03</td>\n                        <td id=\"T_f629d_row19_col19\" class=\"data row19 col19\" >1.00</td>\n                        <td id=\"T_f629d_row19_col20\" class=\"data row19 col20\" >-0.17</td>\n                        <td id=\"T_f629d_row19_col21\" class=\"data row19 col21\" >-0.03</td>\n            </tr>\n            <tr>\n                        <th id=\"T_f629d_level0_row20\" class=\"row_heading level0 row20\" >date</th>\n                        <td id=\"T_f629d_row20_col0\" class=\"data row20 col0\" >0.09</td>\n                        <td id=\"T_f629d_row20_col1\" class=\"data row20 col1\" >-0.00</td>\n                        <td id=\"T_f629d_row20_col2\" class=\"data row20 col2\" >-0.01</td>\n                        <td id=\"T_f629d_row20_col3\" class=\"data row20 col3\" >0.01</td>\n                        <td id=\"T_f629d_row20_col4\" class=\"data row20 col4\" >-0.01</td>\n                        <td id=\"T_f629d_row20_col5\" class=\"data row20 col5\" >-0.01</td>\n                        <td id=\"T_f629d_row20_col6\" class=\"data row20 col6\" >-0.01</td>\n                        <td id=\"T_f629d_row20_col7\" class=\"data row20 col7\" >-0.00</td>\n                        <td id=\"T_f629d_row20_col8\" class=\"data row20 col8\" >0.00</td>\n                        <td id=\"T_f629d_row20_col9\" class=\"data row20 col9\" >0.01</td>\n                        <td id=\"T_f629d_row20_col10\" class=\"data row20 col10\" >0.01</td>\n                        <td id=\"T_f629d_row20_col11\" class=\"data row20 col11\" >-0.03</td>\n                        <td id=\"T_f629d_row20_col12\" class=\"data row20 col12\" >-0.04</td>\n                        <td id=\"T_f629d_row20_col13\" class=\"data row20 col13\" >-0.01</td>\n                        <td id=\"T_f629d_row20_col14\" class=\"data row20 col14\" >0.00</td>\n                        <td id=\"T_f629d_row20_col15\" class=\"data row20 col15\" >-0.01</td>\n                        <td id=\"T_f629d_row20_col16\" class=\"data row20 col16\" >-0.00</td>\n                        <td id=\"T_f629d_row20_col17\" class=\"data row20 col17\" >0.00</td>\n                        <td id=\"T_f629d_row20_col18\" class=\"data row20 col18\" >-0.00</td>\n                        <td id=\"T_f629d_row20_col19\" class=\"data row20 col19\" >-0.17</td>\n                        <td id=\"T_f629d_row20_col20\" class=\"data row20 col20\" >1.00</td>\n                        <td id=\"T_f629d_row20_col21\" class=\"data row20 col21\" >-0.01</td>\n            </tr>\n            <tr>\n                        <th id=\"T_f629d_level0_row21\" class=\"row_heading level0 row21\" >dayofweek</th>\n                        <td id=\"T_f629d_row21_col0\" class=\"data row21 col0\" >-0.03</td>\n                        <td id=\"T_f629d_row21_col1\" class=\"data row21 col1\" >0.01</td>\n                        <td id=\"T_f629d_row21_col2\" class=\"data row21 col2\" >0.01</td>\n                        <td id=\"T_f629d_row21_col3\" class=\"data row21 col3\" >-0.01</td>\n                        <td id=\"T_f629d_row21_col4\" class=\"data row21 col4\" >-0.02</td>\n                        <td id=\"T_f629d_row21_col5\" class=\"data row21 col5\" >-0.02</td>\n                        <td id=\"T_f629d_row21_col6\" class=\"data row21 col6\" >0.01</td>\n                        <td id=\"T_f629d_row21_col7\" class=\"data row21 col7\" >0.00</td>\n                        <td id=\"T_f629d_row21_col8\" class=\"data row21 col8\" >-0.00</td>\n                        <td id=\"T_f629d_row21_col9\" class=\"data row21 col9\" >0.01</td>\n                        <td id=\"T_f629d_row21_col10\" class=\"data row21 col10\" >0.00</td>\n                        <td id=\"T_f629d_row21_col11\" class=\"data row21 col11\" >-0.01</td>\n                        <td id=\"T_f629d_row21_col12\" class=\"data row21 col12\" >-0.02</td>\n                        <td id=\"T_f629d_row21_col13\" class=\"data row21 col13\" >-0.01</td>\n                        <td id=\"T_f629d_row21_col14\" class=\"data row21 col14\" >0.00</td>\n                        <td id=\"T_f629d_row21_col15\" class=\"data row21 col15\" >-0.01</td>\n                        <td id=\"T_f629d_row21_col16\" class=\"data row21 col16\" >-0.00</td>\n                        <td id=\"T_f629d_row21_col17\" class=\"data row21 col17\" >-0.00</td>\n                        <td id=\"T_f629d_row21_col18\" class=\"data row21 col18\" >0.00</td>\n                        <td id=\"T_f629d_row21_col19\" class=\"data row21 col19\" >-0.03</td>\n                        <td id=\"T_f629d_row21_col20\" class=\"data row21 col20\" >-0.01</td>\n                        <td id=\"T_f629d_row21_col21\" class=\"data row21 col21\" >1.00</td>\n            </tr>\n    </tbody></table>"
     },
     "execution_count": 75,
     "metadata": {},
     "output_type": "execute_result"
    }
   ],
   "source": [
    "corr = data.corr()\n",
    "cmap = cmap=sns.diverging_palette(5, 250, as_cmap=True)\n",
    "\n",
    "def magnify():\n",
    "    return [dict(selector=\"th\",\n",
    "                 props=[(\"font-size\", \"7pt\")]),\n",
    "            dict(selector=\"td\",\n",
    "                 props=[('padding', \"0em 0em\")]),\n",
    "            dict(selector=\"th:hover\",\n",
    "                 props=[(\"font-size\", \"12pt\")]),\n",
    "            dict(selector=\"tr:hover td:hover\",\n",
    "                 props=[('max-width', '200px'),\n",
    "                        ('font-size', '12pt')])\n",
    "]\n",
    "\n",
    "corr.style.background_gradient(cmap, axis=1)\\\n",
    "    .set_properties(**{'max-width': '80px', 'font-size': '10pt'})\\\n",
    "    .set_caption(\"Heatmap\")\\\n",
    "    .set_precision(2)\\\n",
    "    .set_table_styles(magnify())"
   ]
  },
  {
   "cell_type": "markdown",
   "id": "4f870688",
   "metadata": {
    "papermill": {
     "duration": 0.133823,
     "end_time": "2021-07-13T17:16:12.519193",
     "exception": false,
     "start_time": "2021-07-13T17:16:12.385370",
     "status": "completed"
    },
    "tags": []
   },
   "source": [
    "#### выявлены сильные корреляции между:\n",
    "    * car и car_type\n",
    "    * home_address и work_address\n",
    "    * client_id и month\n"
   ]
  },
  {
   "cell_type": "code",
   "execution_count": 76,
   "id": "45fbfad5",
   "metadata": {
    "execution": {
     "iopub.execute_input": "2021-07-13T17:16:12.799263Z",
     "iopub.status.busy": "2021-07-13T17:16:12.798018Z",
     "iopub.status.idle": "2021-07-13T17:16:12.801377Z",
     "shell.execute_reply": "2021-07-13T17:16:12.800891Z",
     "shell.execute_reply.started": "2021-07-13T17:14:10.130094Z"
    },
    "papermill": {
     "duration": 0.14547,
     "end_time": "2021-07-13T17:16:12.801549",
     "exception": false,
     "start_time": "2021-07-13T17:16:12.656079",
     "status": "completed"
    },
    "tags": []
   },
   "outputs": [],
   "source": [
    "data.drop(['client_id','work_address','car_type'], axis = 1, inplace=True) # удаление сильно скоррелированных признаков"
   ]
  },
  {
   "cell_type": "code",
   "execution_count": 77,
   "id": "65dc1a85",
   "metadata": {
    "execution": {
     "iopub.execute_input": "2021-07-13T17:16:13.068752Z",
     "iopub.status.busy": "2021-07-13T17:16:13.068079Z",
     "iopub.status.idle": "2021-07-13T17:16:13.071105Z",
     "shell.execute_reply": "2021-07-13T17:16:13.070469Z",
     "shell.execute_reply.started": "2021-07-13T17:14:10.934631Z"
    },
    "papermill": {
     "duration": 0.139604,
     "end_time": "2021-07-13T17:16:13.071284",
     "exception": false,
     "start_time": "2021-07-13T17:16:12.931680",
     "status": "completed"
    },
    "tags": []
   },
   "outputs": [],
   "source": [
    "cat_cols.remove('work_address')\n",
    "\n"
   ]
  },
  {
   "cell_type": "code",
   "execution_count": 78,
   "id": "53140ea0",
   "metadata": {
    "execution": {
     "iopub.execute_input": "2021-07-13T17:16:13.356532Z",
     "iopub.status.busy": "2021-07-13T17:16:13.355590Z",
     "iopub.status.idle": "2021-07-13T17:16:13.359434Z",
     "shell.execute_reply": "2021-07-13T17:16:13.360051Z",
     "shell.execute_reply.started": "2021-07-13T17:14:11.719273Z"
    },
    "papermill": {
     "duration": 0.145589,
     "end_time": "2021-07-13T17:16:13.360227",
     "exception": false,
     "start_time": "2021-07-13T17:16:13.214638",
     "status": "completed"
    },
    "tags": []
   },
   "outputs": [],
   "source": [
    "bin_cols.remove('car_type')"
   ]
  },
  {
   "cell_type": "markdown",
   "id": "64442496",
   "metadata": {
    "papermill": {
     "duration": 0.136874,
     "end_time": "2021-07-13T17:16:13.637699",
     "exception": false,
     "start_time": "2021-07-13T17:16:13.500825",
     "status": "completed"
    },
    "tags": []
   },
   "source": [
    "### смотрим, что получилось"
   ]
  },
  {
   "cell_type": "code",
   "execution_count": 79,
   "id": "84af11b9",
   "metadata": {
    "execution": {
     "iopub.execute_input": "2021-07-13T17:16:13.921391Z",
     "iopub.status.busy": "2021-07-13T17:16:13.920616Z",
     "iopub.status.idle": "2021-07-13T17:16:13.951551Z",
     "shell.execute_reply": "2021-07-13T17:16:13.952140Z",
     "shell.execute_reply.started": "2021-07-13T17:14:13.205916Z"
    },
    "papermill": {
     "duration": 0.173761,
     "end_time": "2021-07-13T17:16:13.952354",
     "exception": false,
     "start_time": "2021-07-13T17:16:13.778593",
     "status": "completed"
    },
    "tags": []
   },
   "outputs": [
    {
     "data": {
      "text/plain": "        education  sex  age  car  decline_app_cnt  good_work  score_bki  \\\n51771           1    1   35    1                0          0  -1.262433   \n20241           3    0   33    0                0          1  -2.529228   \n24550           2    0   66    0                0          0  -2.643001   \n105552          3    0   28    0                0          0  -2.095499   \n101572          1    0   45    1                0          1  -2.357766   \n17552           3    0   48    0                0          0  -0.814360   \n8900            3    0   58    0                0          0  -1.775507   \n13778           1    1   54    0                0          0  -2.486736   \n107570          4    1   49    1                0          0  -1.265699   \n97380           3    0   44    0                0          0  -1.607335   \n\n        bki_request_cnt  region_rating  home_address   income  sna  \\\n51771               1.0           50.0             1  47000.0    1   \n20241               0.0           50.0             1  18000.0    1   \n24550               0.0           60.0             3  30000.0    2   \n105552              3.0           50.0             2  23000.0    2   \n101572              0.0           60.0             1  42000.0    4   \n17552               1.0           50.0             2  25000.0    4   \n8900                1.0           50.0             2   5000.0    1   \n13778               0.0           60.0             2  21000.0    3   \n107570              2.0           60.0             2  45000.0    4   \n97380               0.0           50.0             2  30000.0    1   \n\n        first_time  foreign_passport  sample  default  month  date  dayofweek  \n51771            4                 0       1        1      1    21          1  \n20241            4                 0       0        0      3    31          0  \n24550            3                 0       0        0      3    28          4  \n105552           1                 0       1        0      2     6          3  \n101572           1                 0       1        0      1    21          1  \n17552            3                 0       0        0      2    21          4  \n8900             3                 0       0        0      4    28          0  \n13778            3                 0       0        0      1    21          1  \n107570           3                 0       1        0      4    11          4  \n97380            4                 0       1        0      3    24          0  ",
      "text/html": "<div>\n<style scoped>\n    .dataframe tbody tr th:only-of-type {\n        vertical-align: middle;\n    }\n\n    .dataframe tbody tr th {\n        vertical-align: top;\n    }\n\n    .dataframe thead th {\n        text-align: right;\n    }\n</style>\n<table border=\"1\" class=\"dataframe\">\n  <thead>\n    <tr style=\"text-align: right;\">\n      <th></th>\n      <th>education</th>\n      <th>sex</th>\n      <th>age</th>\n      <th>car</th>\n      <th>decline_app_cnt</th>\n      <th>good_work</th>\n      <th>score_bki</th>\n      <th>bki_request_cnt</th>\n      <th>region_rating</th>\n      <th>home_address</th>\n      <th>income</th>\n      <th>sna</th>\n      <th>first_time</th>\n      <th>foreign_passport</th>\n      <th>sample</th>\n      <th>default</th>\n      <th>month</th>\n      <th>date</th>\n      <th>dayofweek</th>\n    </tr>\n  </thead>\n  <tbody>\n    <tr>\n      <th>51771</th>\n      <td>1</td>\n      <td>1</td>\n      <td>35</td>\n      <td>1</td>\n      <td>0</td>\n      <td>0</td>\n      <td>-1.262433</td>\n      <td>1.0</td>\n      <td>50.0</td>\n      <td>1</td>\n      <td>47000.0</td>\n      <td>1</td>\n      <td>4</td>\n      <td>0</td>\n      <td>1</td>\n      <td>1</td>\n      <td>1</td>\n      <td>21</td>\n      <td>1</td>\n    </tr>\n    <tr>\n      <th>20241</th>\n      <td>3</td>\n      <td>0</td>\n      <td>33</td>\n      <td>0</td>\n      <td>0</td>\n      <td>1</td>\n      <td>-2.529228</td>\n      <td>0.0</td>\n      <td>50.0</td>\n      <td>1</td>\n      <td>18000.0</td>\n      <td>1</td>\n      <td>4</td>\n      <td>0</td>\n      <td>0</td>\n      <td>0</td>\n      <td>3</td>\n      <td>31</td>\n      <td>0</td>\n    </tr>\n    <tr>\n      <th>24550</th>\n      <td>2</td>\n      <td>0</td>\n      <td>66</td>\n      <td>0</td>\n      <td>0</td>\n      <td>0</td>\n      <td>-2.643001</td>\n      <td>0.0</td>\n      <td>60.0</td>\n      <td>3</td>\n      <td>30000.0</td>\n      <td>2</td>\n      <td>3</td>\n      <td>0</td>\n      <td>0</td>\n      <td>0</td>\n      <td>3</td>\n      <td>28</td>\n      <td>4</td>\n    </tr>\n    <tr>\n      <th>105552</th>\n      <td>3</td>\n      <td>0</td>\n      <td>28</td>\n      <td>0</td>\n      <td>0</td>\n      <td>0</td>\n      <td>-2.095499</td>\n      <td>3.0</td>\n      <td>50.0</td>\n      <td>2</td>\n      <td>23000.0</td>\n      <td>2</td>\n      <td>1</td>\n      <td>0</td>\n      <td>1</td>\n      <td>0</td>\n      <td>2</td>\n      <td>6</td>\n      <td>3</td>\n    </tr>\n    <tr>\n      <th>101572</th>\n      <td>1</td>\n      <td>0</td>\n      <td>45</td>\n      <td>1</td>\n      <td>0</td>\n      <td>1</td>\n      <td>-2.357766</td>\n      <td>0.0</td>\n      <td>60.0</td>\n      <td>1</td>\n      <td>42000.0</td>\n      <td>4</td>\n      <td>1</td>\n      <td>0</td>\n      <td>1</td>\n      <td>0</td>\n      <td>1</td>\n      <td>21</td>\n      <td>1</td>\n    </tr>\n    <tr>\n      <th>17552</th>\n      <td>3</td>\n      <td>0</td>\n      <td>48</td>\n      <td>0</td>\n      <td>0</td>\n      <td>0</td>\n      <td>-0.814360</td>\n      <td>1.0</td>\n      <td>50.0</td>\n      <td>2</td>\n      <td>25000.0</td>\n      <td>4</td>\n      <td>3</td>\n      <td>0</td>\n      <td>0</td>\n      <td>0</td>\n      <td>2</td>\n      <td>21</td>\n      <td>4</td>\n    </tr>\n    <tr>\n      <th>8900</th>\n      <td>3</td>\n      <td>0</td>\n      <td>58</td>\n      <td>0</td>\n      <td>0</td>\n      <td>0</td>\n      <td>-1.775507</td>\n      <td>1.0</td>\n      <td>50.0</td>\n      <td>2</td>\n      <td>5000.0</td>\n      <td>1</td>\n      <td>3</td>\n      <td>0</td>\n      <td>0</td>\n      <td>0</td>\n      <td>4</td>\n      <td>28</td>\n      <td>0</td>\n    </tr>\n    <tr>\n      <th>13778</th>\n      <td>1</td>\n      <td>1</td>\n      <td>54</td>\n      <td>0</td>\n      <td>0</td>\n      <td>0</td>\n      <td>-2.486736</td>\n      <td>0.0</td>\n      <td>60.0</td>\n      <td>2</td>\n      <td>21000.0</td>\n      <td>3</td>\n      <td>3</td>\n      <td>0</td>\n      <td>0</td>\n      <td>0</td>\n      <td>1</td>\n      <td>21</td>\n      <td>1</td>\n    </tr>\n    <tr>\n      <th>107570</th>\n      <td>4</td>\n      <td>1</td>\n      <td>49</td>\n      <td>1</td>\n      <td>0</td>\n      <td>0</td>\n      <td>-1.265699</td>\n      <td>2.0</td>\n      <td>60.0</td>\n      <td>2</td>\n      <td>45000.0</td>\n      <td>4</td>\n      <td>3</td>\n      <td>0</td>\n      <td>1</td>\n      <td>0</td>\n      <td>4</td>\n      <td>11</td>\n      <td>4</td>\n    </tr>\n    <tr>\n      <th>97380</th>\n      <td>3</td>\n      <td>0</td>\n      <td>44</td>\n      <td>0</td>\n      <td>0</td>\n      <td>0</td>\n      <td>-1.607335</td>\n      <td>0.0</td>\n      <td>50.0</td>\n      <td>2</td>\n      <td>30000.0</td>\n      <td>1</td>\n      <td>4</td>\n      <td>0</td>\n      <td>1</td>\n      <td>0</td>\n      <td>3</td>\n      <td>24</td>\n      <td>0</td>\n    </tr>\n  </tbody>\n</table>\n</div>"
     },
     "execution_count": 79,
     "metadata": {},
     "output_type": "execute_result"
    }
   ],
   "source": [
    "data.sample(10)"
   ]
  },
  {
   "cell_type": "code",
   "execution_count": 80,
   "id": "313655de",
   "metadata": {
    "execution": {
     "iopub.execute_input": "2021-07-13T17:16:14.245472Z",
     "iopub.status.busy": "2021-07-13T17:16:14.244718Z",
     "iopub.status.idle": "2021-07-13T17:16:14.263706Z",
     "shell.execute_reply": "2021-07-13T17:16:14.262919Z",
     "shell.execute_reply.started": "2021-07-13T17:14:14.016951Z"
    },
    "papermill": {
     "duration": 0.16307,
     "end_time": "2021-07-13T17:16:14.263864",
     "exception": false,
     "start_time": "2021-07-13T17:16:14.100794",
     "status": "completed"
    },
    "tags": []
   },
   "outputs": [
    {
     "name": "stdout",
     "output_type": "stream",
     "text": [
      "<class 'pandas.core.frame.DataFrame'>\n",
      "RangeIndex: 110148 entries, 0 to 110147\n",
      "Data columns (total 19 columns):\n",
      " #   Column            Non-Null Count   Dtype  \n",
      "---  ------            --------------   -----  \n",
      " 0   education         110148 non-null  int32  \n",
      " 1   sex               110148 non-null  int32  \n",
      " 2   age               110148 non-null  int64  \n",
      " 3   car               110148 non-null  int32  \n",
      " 4   decline_app_cnt   110148 non-null  int64  \n",
      " 5   good_work         110148 non-null  int64  \n",
      " 6   score_bki         110148 non-null  float64\n",
      " 7   bki_request_cnt   110148 non-null  float64\n",
      " 8   region_rating     110148 non-null  float64\n",
      " 9   home_address      110148 non-null  int64  \n",
      " 10  income            110148 non-null  float64\n",
      " 11  sna               110148 non-null  int64  \n",
      " 12  first_time        110148 non-null  int64  \n",
      " 13  foreign_passport  110148 non-null  int32  \n",
      " 14  sample            110148 non-null  int64  \n",
      " 15  default           110148 non-null  int64  \n",
      " 16  month             110148 non-null  int64  \n",
      " 17  date              110148 non-null  int64  \n",
      " 18  dayofweek         110148 non-null  int64  \n",
      "dtypes: float64(4), int32(4), int64(11)\n",
      "memory usage: 14.3 MB\n"
     ]
    }
   ],
   "source": [
    "data.info()"
   ]
  },
  {
   "cell_type": "markdown",
   "id": "ea1aca9d",
   "metadata": {
    "papermill": {
     "duration": 0.139028,
     "end_time": "2021-07-13T17:16:14.540028",
     "exception": false,
     "start_time": "2021-07-13T17:16:14.401000",
     "status": "completed"
    },
    "tags": []
   },
   "source": [
    "#### после проведения предобработки данных и анализа EDA разделим вновь датасет на тренировочную и тестовую выборки\n"
   ]
  },
  {
   "cell_type": "code",
   "execution_count": 81,
   "id": "e5733c15",
   "metadata": {
    "execution": {
     "iopub.execute_input": "2021-07-13T17:16:14.830705Z",
     "iopub.status.busy": "2021-07-13T17:16:14.829915Z",
     "iopub.status.idle": "2021-07-13T17:16:14.861252Z",
     "shell.execute_reply": "2021-07-13T17:16:14.861943Z",
     "shell.execute_reply.started": "2021-07-13T17:14:15.494381Z"
    },
    "papermill": {
     "duration": 0.179161,
     "end_time": "2021-07-13T17:16:14.862159",
     "exception": false,
     "start_time": "2021-07-13T17:16:14.682998",
     "status": "completed"
    },
    "tags": []
   },
   "outputs": [],
   "source": [
    "df_train =  data.query('sample == 1').drop(['sample'], axis=1)\n",
    "df_test = data.query('sample == 0').drop(['sample'], axis=1)\n",
    "\n",
    "y = df_train.default.values # наш таргет\n",
    "df_train = df_train.drop(['default'], axis=1)"
   ]
  },
  {
   "cell_type": "markdown",
   "id": "240ad517",
   "metadata": {
    "execution": {
     "iopub.execute_input": "2021-07-13T16:12:51.642637Z",
     "iopub.status.busy": "2021-07-13T16:12:51.642276Z",
     "iopub.status.idle": "2021-07-13T16:12:51.647079Z",
     "shell.execute_reply": "2021-07-13T16:12:51.646053Z",
     "shell.execute_reply.started": "2021-07-13T16:12:51.642607Z"
    },
    "papermill": {
     "duration": 0.136432,
     "end_time": "2021-07-13T17:16:15.137761",
     "exception": false,
     "start_time": "2021-07-13T17:16:15.001329",
     "status": "completed"
    },
    "tags": []
   },
   "source": [
    "## Preprocessing"
   ]
  },
  {
   "cell_type": "code",
   "execution_count": 82,
   "id": "2d5a2dbe",
   "metadata": {
    "execution": {
     "iopub.execute_input": "2021-07-13T17:16:15.421972Z",
     "iopub.status.busy": "2021-07-13T17:16:15.421059Z",
     "iopub.status.idle": "2021-07-13T17:16:15.463815Z",
     "shell.execute_reply": "2021-07-13T17:16:15.464324Z",
     "shell.execute_reply.started": "2021-07-13T17:14:17.085154Z"
    },
    "papermill": {
     "duration": 0.183976,
     "end_time": "2021-07-13T17:16:15.464554",
     "exception": false,
     "start_time": "2021-07-13T17:16:15.280578",
     "status": "completed"
    },
    "tags": []
   },
   "outputs": [],
   "source": [
    "X_cat =  OneHotEncoder(sparse = False).fit_transform(df_train[cat_cols].values)"
   ]
  },
  {
   "cell_type": "markdown",
   "id": "9bf3b4e0",
   "metadata": {
    "execution": {
     "iopub.execute_input": "2021-07-13T16:16:35.017142Z",
     "iopub.status.busy": "2021-07-13T16:16:35.016766Z",
     "iopub.status.idle": "2021-07-13T16:16:35.038791Z",
     "shell.execute_reply": "2021-07-13T16:16:35.037653Z",
     "shell.execute_reply.started": "2021-07-13T16:16:35.01711Z"
    },
    "papermill": {
     "duration": 0.13278,
     "end_time": "2021-07-13T17:16:15.786908",
     "exception": false,
     "start_time": "2021-07-13T17:16:15.654128",
     "status": "completed"
    },
    "tags": []
   },
   "source": [
    "#### Стандартизируем числовые переменные"
   ]
  },
  {
   "cell_type": "code",
   "execution_count": 83,
   "id": "9bc99da6",
   "metadata": {
    "execution": {
     "iopub.execute_input": "2021-07-13T17:16:16.056652Z",
     "iopub.status.busy": "2021-07-13T17:16:16.055960Z",
     "iopub.status.idle": "2021-07-13T17:16:16.069879Z",
     "shell.execute_reply": "2021-07-13T17:16:16.070404Z",
     "shell.execute_reply.started": "2021-07-13T17:14:18.614105Z"
    },
    "papermill": {
     "duration": 0.150957,
     "end_time": "2021-07-13T17:16:16.070625",
     "exception": false,
     "start_time": "2021-07-13T17:16:15.919668",
     "status": "completed"
    },
    "tags": []
   },
   "outputs": [],
   "source": [
    "X_num = StandardScaler().fit_transform(df_train[num_cols].values)"
   ]
  },
  {
   "cell_type": "code",
   "execution_count": 84,
   "id": "b1bf0df5",
   "metadata": {
    "execution": {
     "iopub.execute_input": "2021-07-13T17:16:16.371405Z",
     "iopub.status.busy": "2021-07-13T17:16:16.364544Z",
     "iopub.status.idle": "2021-07-13T17:16:16.377797Z",
     "shell.execute_reply": "2021-07-13T17:16:16.378353Z",
     "shell.execute_reply.started": "2021-07-13T17:14:19.355204Z"
    },
    "papermill": {
     "duration": 0.168386,
     "end_time": "2021-07-13T17:16:16.378551",
     "exception": false,
     "start_time": "2021-07-13T17:16:16.210165",
     "status": "completed"
    },
    "tags": []
   },
   "outputs": [
    {
     "data": {
      "text/plain": "        education  sex  age  car  decline_app_cnt  good_work  score_bki  \\\n101645          3    0   32    0                1          0  -2.241649   \n64021           3    1   56    0                1          0  -1.589069   \n55476           3    0   60    0                0          0  -2.080399   \n\n        bki_request_cnt  region_rating  home_address   income  sna  \\\n101645              0.0           50.0             1  10000.0    1   \n64021               2.0           40.0             1  31000.0    1   \n55476               1.0           60.0             2   9000.0    1   \n\n        first_time  foreign_passport  month  date  dayofweek  \n101645           2                 0      2    19          2  \n64021            4                 0      1    18          5  \n55476            2                 0      1     9          3  ",
      "text/html": "<div>\n<style scoped>\n    .dataframe tbody tr th:only-of-type {\n        vertical-align: middle;\n    }\n\n    .dataframe tbody tr th {\n        vertical-align: top;\n    }\n\n    .dataframe thead th {\n        text-align: right;\n    }\n</style>\n<table border=\"1\" class=\"dataframe\">\n  <thead>\n    <tr style=\"text-align: right;\">\n      <th></th>\n      <th>education</th>\n      <th>sex</th>\n      <th>age</th>\n      <th>car</th>\n      <th>decline_app_cnt</th>\n      <th>good_work</th>\n      <th>score_bki</th>\n      <th>bki_request_cnt</th>\n      <th>region_rating</th>\n      <th>home_address</th>\n      <th>income</th>\n      <th>sna</th>\n      <th>first_time</th>\n      <th>foreign_passport</th>\n      <th>month</th>\n      <th>date</th>\n      <th>dayofweek</th>\n    </tr>\n  </thead>\n  <tbody>\n    <tr>\n      <th>101645</th>\n      <td>3</td>\n      <td>0</td>\n      <td>32</td>\n      <td>0</td>\n      <td>1</td>\n      <td>0</td>\n      <td>-2.241649</td>\n      <td>0.0</td>\n      <td>50.0</td>\n      <td>1</td>\n      <td>10000.0</td>\n      <td>1</td>\n      <td>2</td>\n      <td>0</td>\n      <td>2</td>\n      <td>19</td>\n      <td>2</td>\n    </tr>\n    <tr>\n      <th>64021</th>\n      <td>3</td>\n      <td>1</td>\n      <td>56</td>\n      <td>0</td>\n      <td>1</td>\n      <td>0</td>\n      <td>-1.589069</td>\n      <td>2.0</td>\n      <td>40.0</td>\n      <td>1</td>\n      <td>31000.0</td>\n      <td>1</td>\n      <td>4</td>\n      <td>0</td>\n      <td>1</td>\n      <td>18</td>\n      <td>5</td>\n    </tr>\n    <tr>\n      <th>55476</th>\n      <td>3</td>\n      <td>0</td>\n      <td>60</td>\n      <td>0</td>\n      <td>0</td>\n      <td>0</td>\n      <td>-2.080399</td>\n      <td>1.0</td>\n      <td>60.0</td>\n      <td>2</td>\n      <td>9000.0</td>\n      <td>1</td>\n      <td>2</td>\n      <td>0</td>\n      <td>1</td>\n      <td>9</td>\n      <td>3</td>\n    </tr>\n  </tbody>\n</table>\n</div>"
     },
     "execution_count": 84,
     "metadata": {},
     "output_type": "execute_result"
    }
   ],
   "source": [
    "df_train.sample(3)"
   ]
  },
  {
   "cell_type": "code",
   "execution_count": 85,
   "id": "ae14fc1f",
   "metadata": {
    "execution": {
     "iopub.execute_input": "2021-07-13T17:16:16.666119Z",
     "iopub.status.busy": "2021-07-13T17:16:16.665312Z",
     "iopub.status.idle": "2021-07-13T17:16:16.687135Z",
     "shell.execute_reply": "2021-07-13T17:16:16.686584Z",
     "shell.execute_reply.started": "2021-07-13T17:14:20.076633Z"
    },
    "papermill": {
     "duration": 0.163687,
     "end_time": "2021-07-13T17:16:16.687290",
     "exception": false,
     "start_time": "2021-07-13T17:16:16.523603",
     "status": "completed"
    },
    "tags": []
   },
   "outputs": [
    {
     "data": {
      "text/plain": "       education  sex  age  car  decline_app_cnt  good_work  score_bki  \\\n1720           1    0   38    0                1          1  -2.023134   \n16070          3    1   42    0                0          0  -2.217956   \n15126          4    0   26    1                0          1  -2.066080   \n\n       bki_request_cnt  region_rating  home_address   income  sna  first_time  \\\n1720               2.0           50.0             2  30000.0    1           4   \n16070              1.0           50.0             1  43000.0    1           4   \n15126              0.0           50.0             2  30000.0    1           3   \n\n       foreign_passport  default  month  date  dayofweek  \n1720                  0        0      4    25          4  \n16070                 1        0      2     1          5  \n15126                 0        0      4    22          1  ",
      "text/html": "<div>\n<style scoped>\n    .dataframe tbody tr th:only-of-type {\n        vertical-align: middle;\n    }\n\n    .dataframe tbody tr th {\n        vertical-align: top;\n    }\n\n    .dataframe thead th {\n        text-align: right;\n    }\n</style>\n<table border=\"1\" class=\"dataframe\">\n  <thead>\n    <tr style=\"text-align: right;\">\n      <th></th>\n      <th>education</th>\n      <th>sex</th>\n      <th>age</th>\n      <th>car</th>\n      <th>decline_app_cnt</th>\n      <th>good_work</th>\n      <th>score_bki</th>\n      <th>bki_request_cnt</th>\n      <th>region_rating</th>\n      <th>home_address</th>\n      <th>income</th>\n      <th>sna</th>\n      <th>first_time</th>\n      <th>foreign_passport</th>\n      <th>default</th>\n      <th>month</th>\n      <th>date</th>\n      <th>dayofweek</th>\n    </tr>\n  </thead>\n  <tbody>\n    <tr>\n      <th>1720</th>\n      <td>1</td>\n      <td>0</td>\n      <td>38</td>\n      <td>0</td>\n      <td>1</td>\n      <td>1</td>\n      <td>-2.023134</td>\n      <td>2.0</td>\n      <td>50.0</td>\n      <td>2</td>\n      <td>30000.0</td>\n      <td>1</td>\n      <td>4</td>\n      <td>0</td>\n      <td>0</td>\n      <td>4</td>\n      <td>25</td>\n      <td>4</td>\n    </tr>\n    <tr>\n      <th>16070</th>\n      <td>3</td>\n      <td>1</td>\n      <td>42</td>\n      <td>0</td>\n      <td>0</td>\n      <td>0</td>\n      <td>-2.217956</td>\n      <td>1.0</td>\n      <td>50.0</td>\n      <td>1</td>\n      <td>43000.0</td>\n      <td>1</td>\n      <td>4</td>\n      <td>1</td>\n      <td>0</td>\n      <td>2</td>\n      <td>1</td>\n      <td>5</td>\n    </tr>\n    <tr>\n      <th>15126</th>\n      <td>4</td>\n      <td>0</td>\n      <td>26</td>\n      <td>1</td>\n      <td>0</td>\n      <td>1</td>\n      <td>-2.066080</td>\n      <td>0.0</td>\n      <td>50.0</td>\n      <td>2</td>\n      <td>30000.0</td>\n      <td>1</td>\n      <td>3</td>\n      <td>0</td>\n      <td>0</td>\n      <td>4</td>\n      <td>22</td>\n      <td>1</td>\n    </tr>\n  </tbody>\n</table>\n</div>"
     },
     "execution_count": 85,
     "metadata": {},
     "output_type": "execute_result"
    }
   ],
   "source": [
    "df_test.sample(3)"
   ]
  },
  {
   "cell_type": "markdown",
   "id": "8ee9740d",
   "metadata": {
    "papermill": {
     "duration": 0.133705,
     "end_time": "2021-07-13T17:16:16.957267",
     "exception": false,
     "start_time": "2021-07-13T17:16:16.823562",
     "status": "completed"
    },
    "tags": []
   },
   "source": [
    "#### И объединим стандартизованные числовые, бинарные и закодированные категориальные переменные в одно признаковое пространство, разделив при этом признаки и целевую переменную.\n"
   ]
  },
  {
   "cell_type": "code",
   "execution_count": 86,
   "id": "c358de13",
   "metadata": {
    "execution": {
     "iopub.execute_input": "2021-07-13T17:16:17.241799Z",
     "iopub.status.busy": "2021-07-13T17:16:17.240986Z",
     "iopub.status.idle": "2021-07-13T17:16:17.255031Z",
     "shell.execute_reply": "2021-07-13T17:16:17.254319Z",
     "shell.execute_reply.started": "2021-07-13T17:14:21.554419Z"
    },
    "papermill": {
     "duration": 0.158277,
     "end_time": "2021-07-13T17:16:17.255172",
     "exception": false,
     "start_time": "2021-07-13T17:16:17.096895",
     "status": "completed"
    },
    "tags": []
   },
   "outputs": [],
   "source": [
    "X = np.hstack([X_num, df_train[bin_cols].values, X_cat])"
   ]
  },
  {
   "cell_type": "markdown",
   "id": "5139fb97",
   "metadata": {
    "papermill": {
     "duration": 0.132282,
     "end_time": "2021-07-13T17:16:17.522872",
     "exception": false,
     "start_time": "2021-07-13T17:16:17.390590",
     "status": "completed"
    },
    "tags": []
   },
   "source": [
    "**Перед тем как отправлять наши данные на обучение, разделим данные на еще один тест и трейн, для валидации.\n",
    "Это поможет нам проверить, как хорошо наша модель работает, до отправки submissiona на kaggle.**"
   ]
  },
  {
   "cell_type": "code",
   "execution_count": 87,
   "id": "5aefa7c0",
   "metadata": {
    "execution": {
     "iopub.execute_input": "2021-07-13T17:16:17.797333Z",
     "iopub.status.busy": "2021-07-13T17:16:17.796291Z",
     "iopub.status.idle": "2021-07-13T17:16:17.815749Z",
     "shell.execute_reply": "2021-07-13T17:16:17.815142Z",
     "shell.execute_reply.started": "2021-07-13T17:14:23.094569Z"
    },
    "papermill": {
     "duration": 0.159368,
     "end_time": "2021-07-13T17:16:17.815919",
     "exception": false,
     "start_time": "2021-07-13T17:16:17.656551",
     "status": "completed"
    },
    "tags": []
   },
   "outputs": [],
   "source": [
    "# Воспользуемся специальной функцие train_test_split для разбивки тестовых данных\n",
    "# выделим 20% данных на валидацию (параметр test_size)\n",
    "X_train, X_test, y_train, y_test = train_test_split(X, y, test_size=0.2, random_state=RANDOM_SEED)"
   ]
  },
  {
   "cell_type": "code",
   "execution_count": 88,
   "id": "49209439",
   "metadata": {
    "execution": {
     "iopub.execute_input": "2021-07-13T17:16:18.099056Z",
     "iopub.status.busy": "2021-07-13T17:16:18.098303Z",
     "iopub.status.idle": "2021-07-13T17:16:18.102130Z",
     "shell.execute_reply": "2021-07-13T17:16:18.101474Z",
     "shell.execute_reply.started": "2021-07-13T17:14:23.927229Z"
    },
    "papermill": {
     "duration": 0.153537,
     "end_time": "2021-07-13T17:16:18.102273",
     "exception": false,
     "start_time": "2021-07-13T17:16:17.948736",
     "status": "completed"
    },
    "tags": []
   },
   "outputs": [
    {
     "data": {
      "text/plain": "((36349, 18), (73799, 17), (73799, 26), (59039, 26), (14760, 26))"
     },
     "execution_count": 88,
     "metadata": {},
     "output_type": "execute_result"
    }
   ],
   "source": [
    "# проверяем\n",
    "df_test.shape, df_train.shape, X.shape, X_train.shape, X_test.shape"
   ]
  },
  {
   "cell_type": "markdown",
   "id": "2d182bba",
   "metadata": {
    "papermill": {
     "duration": 0.13689,
     "end_time": "2021-07-13T17:16:18.376476",
     "exception": false,
     "start_time": "2021-07-13T17:16:18.239586",
     "status": "completed"
    },
    "tags": []
   },
   "source": [
    "## Model"
   ]
  },
  {
   "cell_type": "code",
   "execution_count": 89,
   "id": "ae7994d7",
   "metadata": {
    "execution": {
     "iopub.execute_input": "2021-07-13T17:16:18.647472Z",
     "iopub.status.busy": "2021-07-13T17:16:18.646757Z",
     "iopub.status.idle": "2021-07-13T17:16:20.475362Z",
     "shell.execute_reply": "2021-07-13T17:16:20.476558Z",
     "shell.execute_reply.started": "2021-07-13T17:14:25.503640Z"
    },
    "papermill": {
     "duration": 1.967086,
     "end_time": "2021-07-13T17:16:20.476875",
     "exception": false,
     "start_time": "2021-07-13T17:16:18.509789",
     "status": "completed"
    },
    "tags": []
   },
   "outputs": [],
   "source": [
    "lg = LogisticRegression(max_iter=1000)\n",
    "lg.fit(X_train,y_train)\n",
    "y_pred = lg.predict_proba(X_test)[:,1]\n",
    "\n",
    "fpr, tpr, threshold = roc_curve(y_test, y_pred)\n",
    "roc_auc =  roc_auc_score(y_test, y_pred)\n"
   ]
  },
  {
   "cell_type": "markdown",
   "id": "68b4021d",
   "metadata": {
    "papermill": {
     "duration": 0.131868,
     "end_time": "2021-07-13T17:16:20.796482",
     "exception": false,
     "start_time": "2021-07-13T17:16:20.664614",
     "status": "completed"
    },
    "tags": []
   },
   "source": [
    "## Оценка качества модели"
   ]
  },
  {
   "cell_type": "code",
   "execution_count": 90,
   "id": "60333d8b",
   "metadata": {
    "execution": {
     "iopub.execute_input": "2021-07-13T17:16:21.094307Z",
     "iopub.status.busy": "2021-07-13T17:16:21.085357Z",
     "iopub.status.idle": "2021-07-13T17:16:21.252349Z",
     "shell.execute_reply": "2021-07-13T17:16:21.251568Z",
     "shell.execute_reply.started": "2021-07-13T17:14:27.096628Z"
    },
    "papermill": {
     "duration": 0.323273,
     "end_time": "2021-07-13T17:16:21.252531",
     "exception": false,
     "start_time": "2021-07-13T17:16:20.929258",
     "status": "completed"
    },
    "tags": []
   },
   "outputs": [
    {
     "data": {
      "text/plain": "<Figure size 432x288 with 1 Axes>",
      "image/png": "[encoded data removed]"
     },
     "metadata": {
      "needs_background": "light"
     },
     "output_type": "display_data"
    }
   ],
   "source": [
    "plt.figure()\n",
    "plt.plot([0, 1], label='Baseline', linestyle='--')\n",
    "plt.plot(fpr, tpr, label = 'Regression')\n",
    "plt.title('Logistic Regression ROC AUC = %0.3f' % roc_auc)\n",
    "plt.ylabel('True Positive Rate')\n",
    "plt.xlabel('False Positive Rate')\n",
    "plt.legend(loc = 'lower right')\n",
    "plt.show()"
   ]
  },
  {
   "cell_type": "markdown",
   "id": "881d2bfd",
   "metadata": {
    "papermill": {
     "duration": 0.136334,
     "end_time": "2021-07-13T17:16:21.524679",
     "exception": false,
     "start_time": "2021-07-13T17:16:21.388345",
     "status": "completed"
    },
    "tags": []
   },
   "source": [
    "### на этом месте должны быть гипперпараметры :-)"
   ]
  },
  {
   "cell_type": "code",
   "execution_count": null,
   "id": "491c52b7",
   "metadata": {
    "papermill": {
     "duration": 0.133279,
     "end_time": "2021-07-13T17:16:21.793315",
     "exception": false,
     "start_time": "2021-07-13T17:16:21.660036",
     "status": "completed"
    },
    "tags": []
   },
   "outputs": [],
   "source": []
  }
 ],
 "metadata": {
  "kernelspec": {
   "display_name": "Python 3",
   "language": "python",
   "name": "python3"
  },
  "language_info": {
   "codemirror_mode": {
    "name": "ipython",
    "version": 3
   },
   "file_extension": ".py",
   "mimetype": "text/x-python",
   "name": "python",
   "nbconvert_exporter": "python",
   "pygments_lexer": "ipython3",
   "version": "3.7.10"
  },
  "papermill": {
   "default_parameters": {},
   "duration": 87.458001,
   "end_time": "2021-07-13T17:16:23.613782",
   "environment_variables": {},
   "exception": null,
   "input_path": "__notebook__.ipynb",
   "output_path": "__notebook__.ipynb",
   "parameters": {},
   "start_time": "2021-07-13T17:14:56.155781",
   "version": "2.3.3"
  }
 },
 "nbformat": 4,
 "nbformat_minor": 5
}